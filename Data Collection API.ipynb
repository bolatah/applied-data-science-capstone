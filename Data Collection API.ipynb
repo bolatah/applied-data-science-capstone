{
 "cells": [
  {
   "cell_type": "markdown",
   "metadata": {},
   "source": [
    "<center>\n",
    "    <img src=\"https://gitlab.com/ibm/skills-network/courses/placeholder101/-/raw/master/labs/module%201/images/IDSNlogo.png\" width=\"300\" alt=\"cognitiveclass.ai logo\"  />\n",
    "</center>\n"
   ]
  },
  {
   "cell_type": "markdown",
   "metadata": {},
   "source": [
    "# **SpaceX  Falcon 9 first stage Landing Prediction**\n"
   ]
  },
  {
   "cell_type": "markdown",
   "metadata": {},
   "source": [
    "# Lab 1: Collecting the data\n"
   ]
  },
  {
   "cell_type": "markdown",
   "metadata": {},
   "source": [
    "Estimated time needed: **45** minutes\n"
   ]
  },
  {
   "cell_type": "markdown",
   "metadata": {},
   "source": [
    "In this capstone, we will predict if the Falcon 9 first stage will land successfully. SpaceX advertises Falcon 9 rocket launches on its website with a cost of 62 million dollars; other providers cost upward of 165 million dollars each, much of the savings is because SpaceX can reuse the first stage. Therefore if we can determine if the first stage will land, we can determine the cost of a launch. This information can be used if an alternate company wants to bid against SpaceX for a rocket launch. In this lab, you will collect and make sure the data is in the correct format from an API. The following is an example of a successful and launch.\n"
   ]
  },
  {
   "cell_type": "markdown",
   "metadata": {},
   "source": [
    "![](https://cf-courses-data.s3.us.cloud-object-storage.appdomain.cloud/IBMDeveloperSkillsNetwork-DS0701EN-SkillsNetwork/lab_v2/images/landing\\_1.gif)\n"
   ]
  },
  {
   "cell_type": "markdown",
   "metadata": {},
   "source": [
    "Several examples of an unsuccessful landing are shown here:\n"
   ]
  },
  {
   "cell_type": "markdown",
   "metadata": {},
   "source": [
    "![](https://cf-courses-data.s3.us.cloud-object-storage.appdomain.cloud/IBMDeveloperSkillsNetwork-DS0701EN-SkillsNetwork/lab_v2/images/crash.gif)\n"
   ]
  },
  {
   "cell_type": "markdown",
   "metadata": {},
   "source": [
    "Most unsuccessful landings are planned. Space X performs a controlled landing in the oceans.\n"
   ]
  },
  {
   "cell_type": "markdown",
   "metadata": {},
   "source": [
    "## Objectives\n"
   ]
  },
  {
   "cell_type": "markdown",
   "metadata": {},
   "source": [
    "In this lab, you will make a get request to the SpaceX API. You will also do some basic data wrangling and formating.\n",
    "\n",
    "*   Request to the SpaceX API\n",
    "*   Clean the requested data\n"
   ]
  },
  {
   "cell_type": "markdown",
   "metadata": {},
   "source": [
    "***\n"
   ]
  },
  {
   "cell_type": "markdown",
   "metadata": {},
   "source": [
    "## Import Libraries and Define Auxiliary Functions\n"
   ]
  },
  {
   "cell_type": "markdown",
   "metadata": {},
   "source": [
    "We will import the following libraries into the lab\n"
   ]
  },
  {
   "cell_type": "code",
   "execution_count": 1,
   "metadata": {},
   "outputs": [],
   "source": [
    "# Requests allows us to make HTTP requests which we will use to get data from an API\n",
    "import requests\n",
    "# Pandas is a software library written for the Python programming language for data manipulation and analysis.\n",
    "import pandas as pd\n",
    "# NumPy is a library for the Python programming language, adding support for large, multi-dimensional arrays and matrices, along with a large collection of high-level mathematical functions to operate on these arrays\n",
    "import numpy as np\n",
    "# Datetime is a library that allows us to represent dates\n",
    "import datetime\n",
    "\n",
    "# Setting this option will print all collumns of a dataframe\n",
    "pd.set_option('display.max_columns', None)\n",
    "# Setting this option will print all of the data in a feature\n",
    "pd.set_option('display.max_colwidth', None)"
   ]
  },
  {
   "cell_type": "markdown",
   "metadata": {},
   "source": [
    "Below we will define a series of helper functions that will help us use the API to extract information using identification numbers in the launch data.\n",
    "\n",
    "From the <code>rocket</code> column we would like to learn the booster name.\n"
   ]
  },
  {
   "cell_type": "code",
   "execution_count": 2,
   "metadata": {},
   "outputs": [],
   "source": [
    "# Takes the dataset and uses the rocket column to call the API and append the data to the list\n",
    "def getBoosterVersion(data):\n",
    "    for x in data['rocket']:\n",
    "        response = requests.get(\"https://api.spacexdata.com/v4/rockets/\"+str(x)).json()\n",
    "        BoosterVersion.append(response['name'])"
   ]
  },
  {
   "cell_type": "markdown",
   "metadata": {},
   "source": [
    "From the <code>launchpad</code> we would like to know the name of the launch site being used, the logitude, and the latitude.\n"
   ]
  },
  {
   "cell_type": "code",
   "execution_count": 3,
   "metadata": {},
   "outputs": [],
   "source": [
    "# Takes the dataset and uses the launchpad column to call the API and append the data to the list\n",
    "def getLaunchSite(data):\n",
    "    for x in data['launchpad']:\n",
    "        response = requests.get(\"https://api.spacexdata.com/v4/launchpads/\"+str(x)).json()\n",
    "        Longitude.append(response['longitude'])\n",
    "        Latitude.append(response['latitude'])\n",
    "        LaunchSite.append(response['name'])"
   ]
  },
  {
   "cell_type": "markdown",
   "metadata": {},
   "source": [
    "From the <code>payload</code> we would like to learn the mass of the payload and the orbit that it is going to.\n"
   ]
  },
  {
   "cell_type": "code",
   "execution_count": 4,
   "metadata": {},
   "outputs": [],
   "source": [
    "# Takes the dataset and uses the payloads column to call the API and append the data to the lists\n",
    "def getPayloadData(data):\n",
    "    for load in data['payloads']:\n",
    "        response = requests.get(\"https://api.spacexdata.com/v4/payloads/\"+load).json()\n",
    "        PayloadMass.append(response['mass_kg'])\n",
    "        Orbit.append(response['orbit'])"
   ]
  },
  {
   "cell_type": "markdown",
   "metadata": {},
   "source": [
    "From <code>cores</code> we would like to learn the outcome of the landing, the type of the landing, number of flights with that core, whether gridfins were used, wheter the core is reused, wheter legs were used, the landing pad used, the block of the core which is a number used to seperate version of cores, the number of times this specific core has been reused, and the serial of the core.\n"
   ]
  },
  {
   "cell_type": "code",
   "execution_count": 5,
   "metadata": {},
   "outputs": [],
   "source": [
    "# Takes the dataset and uses the cores column to call the API and append the data to the lists\n",
    "def getCoreData(data):\n",
    "    for core in data['cores']:\n",
    "            if core['core'] != None:\n",
    "                response = requests.get(\"https://api.spacexdata.com/v4/cores/\"+core['core']).json()\n",
    "                Block.append(response['block'])\n",
    "                ReusedCount.append(response['reuse_count'])\n",
    "                Serial.append(response['serial'])\n",
    "            else:\n",
    "                Block.append(None)\n",
    "                ReusedCount.append(None)\n",
    "                Serial.append(None)\n",
    "            Outcome.append(str(core['landing_success'])+' '+str(core['landing_type']))\n",
    "            Flights.append(core['flight'])\n",
    "            GridFins.append(core['gridfins'])\n",
    "            Reused.append(core['reused'])\n",
    "            Legs.append(core['legs'])\n",
    "            LandingPad.append(core['landpad'])"
   ]
  },
  {
   "cell_type": "markdown",
   "metadata": {},
   "source": [
    "Now let's start requesting rocket launch data from SpaceX API with the following URL:\n"
   ]
  },
  {
   "cell_type": "code",
   "execution_count": 6,
   "metadata": {},
   "outputs": [],
   "source": [
    "spacex_url=\"https://api.spacexdata.com/v4/launches/past\""
   ]
  },
  {
   "cell_type": "code",
   "execution_count": 7,
   "metadata": {},
   "outputs": [],
   "source": [
    "response = requests.get(spacex_url)"
   ]
  },
  {
   "cell_type": "markdown",
   "metadata": {},
   "source": [
    "Check the content of the response\n"
   ]
  },
  {
   "cell_type": "code",
   "execution_count": 8,
   "metadata": {},
   "outputs": [
    {
     "name": "stdout",
     "output_type": "stream",
     "text": [
      "<Response [200]>\n"
     ]
    }
   ],
   "source": [
    "print(response)"
   ]
  },
  {
   "cell_type": "markdown",
   "metadata": {},
   "source": [
    "You should see the response contains massive information about SpaceX launches. Next, let's try to discover some more relevant information for this project.\n"
   ]
  },
  {
   "cell_type": "markdown",
   "metadata": {},
   "source": [
    "### Task 1: Request and parse the SpaceX launch data using the GET request\n"
   ]
  },
  {
   "cell_type": "markdown",
   "metadata": {},
   "source": [
    "To make the requested JSON results more consistent, we will use the following static response object for this project:\n"
   ]
  },
  {
   "cell_type": "code",
   "execution_count": 9,
   "metadata": {},
   "outputs": [],
   "source": [
    "static_json_url='https://cf-courses-data.s3.us.cloud-object-storage.appdomain.cloud/IBM-DS0321EN-SkillsNetwork/datasets/API_call_spacex_api.json'"
   ]
  },
  {
   "cell_type": "code",
   "execution_count": 10,
   "metadata": {},
   "outputs": [],
   "source": [
    "response=requests.get(static_json_url)"
   ]
  },
  {
   "cell_type": "markdown",
   "metadata": {},
   "source": [
    "We should see that the request was successfull with the 200 status response code\n"
   ]
  },
  {
   "cell_type": "code",
   "execution_count": 11,
   "metadata": {},
   "outputs": [
    {
     "data": {
      "text/plain": [
       "200"
      ]
     },
     "execution_count": 11,
     "metadata": {},
     "output_type": "execute_result"
    }
   ],
   "source": [
    "response.status_code"
   ]
  },
  {
   "cell_type": "markdown",
   "metadata": {},
   "source": [
    "Now we decode the response content as a Json using <code>.json()</code> and turn it into a Pandas dataframe using <code>.json_normalize()</code>\n"
   ]
  },
  {
   "cell_type": "code",
   "execution_count": 12,
   "metadata": {},
   "outputs": [],
   "source": [
    "df=response.json()"
   ]
  },
  {
   "cell_type": "code",
   "execution_count": 13,
   "metadata": {},
   "outputs": [],
   "source": [
    "# Use json_normalize meethod to convert the json result into a dataframe\n",
    "data=pd.json_normalize(df, max_level=1)"
   ]
  },
  {
   "cell_type": "markdown",
   "metadata": {},
   "source": [
    "Using the dataframe <code>data</code> print the first 5 rows\n"
   ]
  },
  {
   "cell_type": "code",
   "execution_count": 14,
   "metadata": {},
   "outputs": [
    {
     "data": {
      "text/html": [
       "<div>\n",
       "<style scoped>\n",
       "    .dataframe tbody tr th:only-of-type {\n",
       "        vertical-align: middle;\n",
       "    }\n",
       "\n",
       "    .dataframe tbody tr th {\n",
       "        vertical-align: top;\n",
       "    }\n",
       "\n",
       "    .dataframe thead th {\n",
       "        text-align: right;\n",
       "    }\n",
       "</style>\n",
       "<table border=\"1\" class=\"dataframe\">\n",
       "  <thead>\n",
       "    <tr style=\"text-align: right;\">\n",
       "      <th></th>\n",
       "      <th>static_fire_date_utc</th>\n",
       "      <th>static_fire_date_unix</th>\n",
       "      <th>tbd</th>\n",
       "      <th>net</th>\n",
       "      <th>window</th>\n",
       "      <th>rocket</th>\n",
       "      <th>success</th>\n",
       "      <th>details</th>\n",
       "      <th>crew</th>\n",
       "      <th>ships</th>\n",
       "      <th>capsules</th>\n",
       "      <th>payloads</th>\n",
       "      <th>launchpad</th>\n",
       "      <th>auto_update</th>\n",
       "      <th>failures</th>\n",
       "      <th>flight_number</th>\n",
       "      <th>name</th>\n",
       "      <th>date_utc</th>\n",
       "      <th>date_unix</th>\n",
       "      <th>date_local</th>\n",
       "      <th>date_precision</th>\n",
       "      <th>upcoming</th>\n",
       "      <th>cores</th>\n",
       "      <th>id</th>\n",
       "      <th>fairings.reused</th>\n",
       "      <th>fairings.recovery_attempt</th>\n",
       "      <th>fairings.recovered</th>\n",
       "      <th>fairings.ships</th>\n",
       "      <th>links.patch</th>\n",
       "      <th>links.reddit</th>\n",
       "      <th>links.flickr</th>\n",
       "      <th>links.presskit</th>\n",
       "      <th>links.webcast</th>\n",
       "      <th>links.youtube_id</th>\n",
       "      <th>links.article</th>\n",
       "      <th>links.wikipedia</th>\n",
       "      <th>fairings</th>\n",
       "    </tr>\n",
       "  </thead>\n",
       "  <tbody>\n",
       "    <tr>\n",
       "      <th>0</th>\n",
       "      <td>2006-03-17T00:00:00.000Z</td>\n",
       "      <td>1.142554e+09</td>\n",
       "      <td>False</td>\n",
       "      <td>False</td>\n",
       "      <td>0.0</td>\n",
       "      <td>5e9d0d95eda69955f709d1eb</td>\n",
       "      <td>False</td>\n",
       "      <td>Engine failure at 33 seconds and loss of vehicle</td>\n",
       "      <td>[]</td>\n",
       "      <td>[]</td>\n",
       "      <td>[]</td>\n",
       "      <td>[5eb0e4b5b6c3bb0006eeb1e1]</td>\n",
       "      <td>5e9e4502f5090995de566f86</td>\n",
       "      <td>True</td>\n",
       "      <td>[{'time': 33, 'altitude': None, 'reason': 'merlin engine failure'}]</td>\n",
       "      <td>1</td>\n",
       "      <td>FalconSat</td>\n",
       "      <td>2006-03-24T22:30:00.000Z</td>\n",
       "      <td>1143239400</td>\n",
       "      <td>2006-03-25T10:30:00+12:00</td>\n",
       "      <td>hour</td>\n",
       "      <td>False</td>\n",
       "      <td>[{'core': '5e9e289df35918033d3b2623', 'flight': 1, 'gridfins': False, 'legs': False, 'reused': False, 'landing_attempt': False, 'landing_success': None, 'landing_type': None, 'landpad': None}]</td>\n",
       "      <td>5eb87cd9ffd86e000604b32a</td>\n",
       "      <td>False</td>\n",
       "      <td>False</td>\n",
       "      <td>False</td>\n",
       "      <td>[]</td>\n",
       "      <td>{'small': 'https://images2.imgbox.com/3c/0e/T8iJcSN3_o.png', 'large': 'https://images2.imgbox.com/40/e3/GypSkayF_o.png'}</td>\n",
       "      <td>{'campaign': None, 'launch': None, 'media': None, 'recovery': None}</td>\n",
       "      <td>{'small': [], 'original': []}</td>\n",
       "      <td>None</td>\n",
       "      <td>https://www.youtube.com/watch?v=0a_00nJ_Y88</td>\n",
       "      <td>0a_00nJ_Y88</td>\n",
       "      <td>https://www.space.com/2196-spacex-inaugural-falcon-1-rocket-lost-launch.html</td>\n",
       "      <td>https://en.wikipedia.org/wiki/DemoSat</td>\n",
       "      <td>NaN</td>\n",
       "    </tr>\n",
       "    <tr>\n",
       "      <th>1</th>\n",
       "      <td>None</td>\n",
       "      <td>NaN</td>\n",
       "      <td>False</td>\n",
       "      <td>False</td>\n",
       "      <td>0.0</td>\n",
       "      <td>5e9d0d95eda69955f709d1eb</td>\n",
       "      <td>False</td>\n",
       "      <td>Successful first stage burn and transition to second stage, maximum altitude 289 km, Premature engine shutdown at T+7 min 30 s, Failed to reach orbit, Failed to recover first stage</td>\n",
       "      <td>[]</td>\n",
       "      <td>[]</td>\n",
       "      <td>[]</td>\n",
       "      <td>[5eb0e4b6b6c3bb0006eeb1e2]</td>\n",
       "      <td>5e9e4502f5090995de566f86</td>\n",
       "      <td>True</td>\n",
       "      <td>[{'time': 301, 'altitude': 289, 'reason': 'harmonic oscillation leading to premature engine shutdown'}]</td>\n",
       "      <td>2</td>\n",
       "      <td>DemoSat</td>\n",
       "      <td>2007-03-21T01:10:00.000Z</td>\n",
       "      <td>1174439400</td>\n",
       "      <td>2007-03-21T13:10:00+12:00</td>\n",
       "      <td>hour</td>\n",
       "      <td>False</td>\n",
       "      <td>[{'core': '5e9e289ef35918416a3b2624', 'flight': 1, 'gridfins': False, 'legs': False, 'reused': False, 'landing_attempt': False, 'landing_success': None, 'landing_type': None, 'landpad': None}]</td>\n",
       "      <td>5eb87cdaffd86e000604b32b</td>\n",
       "      <td>False</td>\n",
       "      <td>False</td>\n",
       "      <td>False</td>\n",
       "      <td>[]</td>\n",
       "      <td>{'small': 'https://images2.imgbox.com/4f/e3/I0lkuJ2e_o.png', 'large': 'https://images2.imgbox.com/be/e7/iNqsqVYM_o.png'}</td>\n",
       "      <td>{'campaign': None, 'launch': None, 'media': None, 'recovery': None}</td>\n",
       "      <td>{'small': [], 'original': []}</td>\n",
       "      <td>None</td>\n",
       "      <td>https://www.youtube.com/watch?v=Lk4zQ2wP-Nc</td>\n",
       "      <td>Lk4zQ2wP-Nc</td>\n",
       "      <td>https://www.space.com/3590-spacex-falcon-1-rocket-fails-reach-orbit.html</td>\n",
       "      <td>https://en.wikipedia.org/wiki/DemoSat</td>\n",
       "      <td>NaN</td>\n",
       "    </tr>\n",
       "    <tr>\n",
       "      <th>2</th>\n",
       "      <td>None</td>\n",
       "      <td>NaN</td>\n",
       "      <td>False</td>\n",
       "      <td>False</td>\n",
       "      <td>0.0</td>\n",
       "      <td>5e9d0d95eda69955f709d1eb</td>\n",
       "      <td>False</td>\n",
       "      <td>Residual stage 1 thrust led to collision between stage 1 and stage 2</td>\n",
       "      <td>[]</td>\n",
       "      <td>[]</td>\n",
       "      <td>[]</td>\n",
       "      <td>[5eb0e4b6b6c3bb0006eeb1e3, 5eb0e4b6b6c3bb0006eeb1e4]</td>\n",
       "      <td>5e9e4502f5090995de566f86</td>\n",
       "      <td>True</td>\n",
       "      <td>[{'time': 140, 'altitude': 35, 'reason': 'residual stage-1 thrust led to collision between stage 1 and stage 2'}]</td>\n",
       "      <td>3</td>\n",
       "      <td>Trailblazer</td>\n",
       "      <td>2008-08-03T03:34:00.000Z</td>\n",
       "      <td>1217734440</td>\n",
       "      <td>2008-08-03T15:34:00+12:00</td>\n",
       "      <td>hour</td>\n",
       "      <td>False</td>\n",
       "      <td>[{'core': '5e9e289ef3591814873b2625', 'flight': 1, 'gridfins': False, 'legs': False, 'reused': False, 'landing_attempt': False, 'landing_success': None, 'landing_type': None, 'landpad': None}]</td>\n",
       "      <td>5eb87cdbffd86e000604b32c</td>\n",
       "      <td>False</td>\n",
       "      <td>False</td>\n",
       "      <td>False</td>\n",
       "      <td>[]</td>\n",
       "      <td>{'small': 'https://images2.imgbox.com/3d/86/cnu0pan8_o.png', 'large': 'https://images2.imgbox.com/4b/bd/d8UxLh4q_o.png'}</td>\n",
       "      <td>{'campaign': None, 'launch': None, 'media': None, 'recovery': None}</td>\n",
       "      <td>{'small': [], 'original': []}</td>\n",
       "      <td>None</td>\n",
       "      <td>https://www.youtube.com/watch?v=v0w9p3U8860</td>\n",
       "      <td>v0w9p3U8860</td>\n",
       "      <td>http://www.spacex.com/news/2013/02/11/falcon-1-flight-3-mission-summary</td>\n",
       "      <td>https://en.wikipedia.org/wiki/Trailblazer_(satellite)</td>\n",
       "      <td>NaN</td>\n",
       "    </tr>\n",
       "    <tr>\n",
       "      <th>3</th>\n",
       "      <td>2008-09-20T00:00:00.000Z</td>\n",
       "      <td>1.221869e+09</td>\n",
       "      <td>False</td>\n",
       "      <td>False</td>\n",
       "      <td>0.0</td>\n",
       "      <td>5e9d0d95eda69955f709d1eb</td>\n",
       "      <td>True</td>\n",
       "      <td>Ratsat was carried to orbit on the first successful orbital launch of any privately funded and developed, liquid-propelled carrier rocket, the SpaceX Falcon 1</td>\n",
       "      <td>[]</td>\n",
       "      <td>[]</td>\n",
       "      <td>[]</td>\n",
       "      <td>[5eb0e4b7b6c3bb0006eeb1e5]</td>\n",
       "      <td>5e9e4502f5090995de566f86</td>\n",
       "      <td>True</td>\n",
       "      <td>[]</td>\n",
       "      <td>4</td>\n",
       "      <td>RatSat</td>\n",
       "      <td>2008-09-28T23:15:00.000Z</td>\n",
       "      <td>1222643700</td>\n",
       "      <td>2008-09-28T11:15:00+12:00</td>\n",
       "      <td>hour</td>\n",
       "      <td>False</td>\n",
       "      <td>[{'core': '5e9e289ef3591855dc3b2626', 'flight': 1, 'gridfins': False, 'legs': False, 'reused': False, 'landing_attempt': False, 'landing_success': None, 'landing_type': None, 'landpad': None}]</td>\n",
       "      <td>5eb87cdbffd86e000604b32d</td>\n",
       "      <td>False</td>\n",
       "      <td>False</td>\n",
       "      <td>False</td>\n",
       "      <td>[]</td>\n",
       "      <td>{'small': 'https://images2.imgbox.com/e9/c9/T8CfiSYb_o.png', 'large': 'https://images2.imgbox.com/e0/a7/FNjvKlXW_o.png'}</td>\n",
       "      <td>{'campaign': None, 'launch': None, 'media': None, 'recovery': None}</td>\n",
       "      <td>{'small': [], 'original': []}</td>\n",
       "      <td>None</td>\n",
       "      <td>https://www.youtube.com/watch?v=dLQ2tZEH6G0</td>\n",
       "      <td>dLQ2tZEH6G0</td>\n",
       "      <td>https://en.wikipedia.org/wiki/Ratsat</td>\n",
       "      <td>https://en.wikipedia.org/wiki/Ratsat</td>\n",
       "      <td>NaN</td>\n",
       "    </tr>\n",
       "    <tr>\n",
       "      <th>4</th>\n",
       "      <td>None</td>\n",
       "      <td>NaN</td>\n",
       "      <td>False</td>\n",
       "      <td>False</td>\n",
       "      <td>0.0</td>\n",
       "      <td>5e9d0d95eda69955f709d1eb</td>\n",
       "      <td>True</td>\n",
       "      <td>None</td>\n",
       "      <td>[]</td>\n",
       "      <td>[]</td>\n",
       "      <td>[]</td>\n",
       "      <td>[5eb0e4b7b6c3bb0006eeb1e6]</td>\n",
       "      <td>5e9e4502f5090995de566f86</td>\n",
       "      <td>True</td>\n",
       "      <td>[]</td>\n",
       "      <td>5</td>\n",
       "      <td>RazakSat</td>\n",
       "      <td>2009-07-13T03:35:00.000Z</td>\n",
       "      <td>1247456100</td>\n",
       "      <td>2009-07-13T15:35:00+12:00</td>\n",
       "      <td>hour</td>\n",
       "      <td>False</td>\n",
       "      <td>[{'core': '5e9e289ef359184f103b2627', 'flight': 1, 'gridfins': False, 'legs': False, 'reused': False, 'landing_attempt': False, 'landing_success': None, 'landing_type': None, 'landpad': None}]</td>\n",
       "      <td>5eb87cdcffd86e000604b32e</td>\n",
       "      <td>False</td>\n",
       "      <td>False</td>\n",
       "      <td>False</td>\n",
       "      <td>[]</td>\n",
       "      <td>{'small': 'https://images2.imgbox.com/a7/ba/NBZSw3Ho_o.png', 'large': 'https://images2.imgbox.com/8d/fc/0qdZMWWx_o.png'}</td>\n",
       "      <td>{'campaign': None, 'launch': None, 'media': None, 'recovery': None}</td>\n",
       "      <td>{'small': [], 'original': []}</td>\n",
       "      <td>http://www.spacex.com/press/2012/12/19/spacexs-falcon-1-successfully-delivers-razaksat-satellite-orbit</td>\n",
       "      <td>https://www.youtube.com/watch?v=yTaIDooc8Og</td>\n",
       "      <td>yTaIDooc8Og</td>\n",
       "      <td>http://www.spacex.com/news/2013/02/12/falcon-1-flight-5</td>\n",
       "      <td>https://en.wikipedia.org/wiki/RazakSAT</td>\n",
       "      <td>NaN</td>\n",
       "    </tr>\n",
       "  </tbody>\n",
       "</table>\n",
       "</div>"
      ],
      "text/plain": [
       "       static_fire_date_utc  static_fire_date_unix    tbd    net  window  \\\n",
       "0  2006-03-17T00:00:00.000Z           1.142554e+09  False  False     0.0   \n",
       "1                      None                    NaN  False  False     0.0   \n",
       "2                      None                    NaN  False  False     0.0   \n",
       "3  2008-09-20T00:00:00.000Z           1.221869e+09  False  False     0.0   \n",
       "4                      None                    NaN  False  False     0.0   \n",
       "\n",
       "                     rocket  success  \\\n",
       "0  5e9d0d95eda69955f709d1eb    False   \n",
       "1  5e9d0d95eda69955f709d1eb    False   \n",
       "2  5e9d0d95eda69955f709d1eb    False   \n",
       "3  5e9d0d95eda69955f709d1eb     True   \n",
       "4  5e9d0d95eda69955f709d1eb     True   \n",
       "\n",
       "                                                                                                                                                                                details  \\\n",
       "0                                                                                                                                      Engine failure at 33 seconds and loss of vehicle   \n",
       "1  Successful first stage burn and transition to second stage, maximum altitude 289 km, Premature engine shutdown at T+7 min 30 s, Failed to reach orbit, Failed to recover first stage   \n",
       "2                                                                                                                  Residual stage 1 thrust led to collision between stage 1 and stage 2   \n",
       "3                        Ratsat was carried to orbit on the first successful orbital launch of any privately funded and developed, liquid-propelled carrier rocket, the SpaceX Falcon 1   \n",
       "4                                                                                                                                                                                  None   \n",
       "\n",
       "  crew ships capsules                                              payloads  \\\n",
       "0   []    []       []                            [5eb0e4b5b6c3bb0006eeb1e1]   \n",
       "1   []    []       []                            [5eb0e4b6b6c3bb0006eeb1e2]   \n",
       "2   []    []       []  [5eb0e4b6b6c3bb0006eeb1e3, 5eb0e4b6b6c3bb0006eeb1e4]   \n",
       "3   []    []       []                            [5eb0e4b7b6c3bb0006eeb1e5]   \n",
       "4   []    []       []                            [5eb0e4b7b6c3bb0006eeb1e6]   \n",
       "\n",
       "                  launchpad  auto_update  \\\n",
       "0  5e9e4502f5090995de566f86         True   \n",
       "1  5e9e4502f5090995de566f86         True   \n",
       "2  5e9e4502f5090995de566f86         True   \n",
       "3  5e9e4502f5090995de566f86         True   \n",
       "4  5e9e4502f5090995de566f86         True   \n",
       "\n",
       "                                                                                                            failures  \\\n",
       "0                                                [{'time': 33, 'altitude': None, 'reason': 'merlin engine failure'}]   \n",
       "1            [{'time': 301, 'altitude': 289, 'reason': 'harmonic oscillation leading to premature engine shutdown'}]   \n",
       "2  [{'time': 140, 'altitude': 35, 'reason': 'residual stage-1 thrust led to collision between stage 1 and stage 2'}]   \n",
       "3                                                                                                                 []   \n",
       "4                                                                                                                 []   \n",
       "\n",
       "   flight_number         name                  date_utc   date_unix  \\\n",
       "0              1    FalconSat  2006-03-24T22:30:00.000Z  1143239400   \n",
       "1              2      DemoSat  2007-03-21T01:10:00.000Z  1174439400   \n",
       "2              3  Trailblazer  2008-08-03T03:34:00.000Z  1217734440   \n",
       "3              4       RatSat  2008-09-28T23:15:00.000Z  1222643700   \n",
       "4              5     RazakSat  2009-07-13T03:35:00.000Z  1247456100   \n",
       "\n",
       "                  date_local date_precision  upcoming  \\\n",
       "0  2006-03-25T10:30:00+12:00           hour     False   \n",
       "1  2007-03-21T13:10:00+12:00           hour     False   \n",
       "2  2008-08-03T15:34:00+12:00           hour     False   \n",
       "3  2008-09-28T11:15:00+12:00           hour     False   \n",
       "4  2009-07-13T15:35:00+12:00           hour     False   \n",
       "\n",
       "                                                                                                                                                                                              cores  \\\n",
       "0  [{'core': '5e9e289df35918033d3b2623', 'flight': 1, 'gridfins': False, 'legs': False, 'reused': False, 'landing_attempt': False, 'landing_success': None, 'landing_type': None, 'landpad': None}]   \n",
       "1  [{'core': '5e9e289ef35918416a3b2624', 'flight': 1, 'gridfins': False, 'legs': False, 'reused': False, 'landing_attempt': False, 'landing_success': None, 'landing_type': None, 'landpad': None}]   \n",
       "2  [{'core': '5e9e289ef3591814873b2625', 'flight': 1, 'gridfins': False, 'legs': False, 'reused': False, 'landing_attempt': False, 'landing_success': None, 'landing_type': None, 'landpad': None}]   \n",
       "3  [{'core': '5e9e289ef3591855dc3b2626', 'flight': 1, 'gridfins': False, 'legs': False, 'reused': False, 'landing_attempt': False, 'landing_success': None, 'landing_type': None, 'landpad': None}]   \n",
       "4  [{'core': '5e9e289ef359184f103b2627', 'flight': 1, 'gridfins': False, 'legs': False, 'reused': False, 'landing_attempt': False, 'landing_success': None, 'landing_type': None, 'landpad': None}]   \n",
       "\n",
       "                         id fairings.reused fairings.recovery_attempt  \\\n",
       "0  5eb87cd9ffd86e000604b32a           False                     False   \n",
       "1  5eb87cdaffd86e000604b32b           False                     False   \n",
       "2  5eb87cdbffd86e000604b32c           False                     False   \n",
       "3  5eb87cdbffd86e000604b32d           False                     False   \n",
       "4  5eb87cdcffd86e000604b32e           False                     False   \n",
       "\n",
       "  fairings.recovered fairings.ships  \\\n",
       "0              False             []   \n",
       "1              False             []   \n",
       "2              False             []   \n",
       "3              False             []   \n",
       "4              False             []   \n",
       "\n",
       "                                                                                                                links.patch  \\\n",
       "0  {'small': 'https://images2.imgbox.com/3c/0e/T8iJcSN3_o.png', 'large': 'https://images2.imgbox.com/40/e3/GypSkayF_o.png'}   \n",
       "1  {'small': 'https://images2.imgbox.com/4f/e3/I0lkuJ2e_o.png', 'large': 'https://images2.imgbox.com/be/e7/iNqsqVYM_o.png'}   \n",
       "2  {'small': 'https://images2.imgbox.com/3d/86/cnu0pan8_o.png', 'large': 'https://images2.imgbox.com/4b/bd/d8UxLh4q_o.png'}   \n",
       "3  {'small': 'https://images2.imgbox.com/e9/c9/T8CfiSYb_o.png', 'large': 'https://images2.imgbox.com/e0/a7/FNjvKlXW_o.png'}   \n",
       "4  {'small': 'https://images2.imgbox.com/a7/ba/NBZSw3Ho_o.png', 'large': 'https://images2.imgbox.com/8d/fc/0qdZMWWx_o.png'}   \n",
       "\n",
       "                                                          links.reddit  \\\n",
       "0  {'campaign': None, 'launch': None, 'media': None, 'recovery': None}   \n",
       "1  {'campaign': None, 'launch': None, 'media': None, 'recovery': None}   \n",
       "2  {'campaign': None, 'launch': None, 'media': None, 'recovery': None}   \n",
       "3  {'campaign': None, 'launch': None, 'media': None, 'recovery': None}   \n",
       "4  {'campaign': None, 'launch': None, 'media': None, 'recovery': None}   \n",
       "\n",
       "                    links.flickr  \\\n",
       "0  {'small': [], 'original': []}   \n",
       "1  {'small': [], 'original': []}   \n",
       "2  {'small': [], 'original': []}   \n",
       "3  {'small': [], 'original': []}   \n",
       "4  {'small': [], 'original': []}   \n",
       "\n",
       "                                                                                           links.presskit  \\\n",
       "0                                                                                                    None   \n",
       "1                                                                                                    None   \n",
       "2                                                                                                    None   \n",
       "3                                                                                                    None   \n",
       "4  http://www.spacex.com/press/2012/12/19/spacexs-falcon-1-successfully-delivers-razaksat-satellite-orbit   \n",
       "\n",
       "                                 links.webcast links.youtube_id  \\\n",
       "0  https://www.youtube.com/watch?v=0a_00nJ_Y88      0a_00nJ_Y88   \n",
       "1  https://www.youtube.com/watch?v=Lk4zQ2wP-Nc      Lk4zQ2wP-Nc   \n",
       "2  https://www.youtube.com/watch?v=v0w9p3U8860      v0w9p3U8860   \n",
       "3  https://www.youtube.com/watch?v=dLQ2tZEH6G0      dLQ2tZEH6G0   \n",
       "4  https://www.youtube.com/watch?v=yTaIDooc8Og      yTaIDooc8Og   \n",
       "\n",
       "                                                                  links.article  \\\n",
       "0  https://www.space.com/2196-spacex-inaugural-falcon-1-rocket-lost-launch.html   \n",
       "1      https://www.space.com/3590-spacex-falcon-1-rocket-fails-reach-orbit.html   \n",
       "2       http://www.spacex.com/news/2013/02/11/falcon-1-flight-3-mission-summary   \n",
       "3                                          https://en.wikipedia.org/wiki/Ratsat   \n",
       "4                       http://www.spacex.com/news/2013/02/12/falcon-1-flight-5   \n",
       "\n",
       "                                         links.wikipedia  fairings  \n",
       "0                  https://en.wikipedia.org/wiki/DemoSat       NaN  \n",
       "1                  https://en.wikipedia.org/wiki/DemoSat       NaN  \n",
       "2  https://en.wikipedia.org/wiki/Trailblazer_(satellite)       NaN  \n",
       "3                   https://en.wikipedia.org/wiki/Ratsat       NaN  \n",
       "4                 https://en.wikipedia.org/wiki/RazakSAT       NaN  "
      ]
     },
     "execution_count": 14,
     "metadata": {},
     "output_type": "execute_result"
    }
   ],
   "source": [
    "# Get the head of the dataframe\n",
    "data.head()"
   ]
  },
  {
   "cell_type": "markdown",
   "metadata": {},
   "source": [
    "You will notice that a lot of the data are IDs. For example the rocket column has no information about the rocket just an identification number.\n",
    "\n",
    "We will now use the API again to get information about the launches using the IDs given for each launch. Specifically we will be using columns <code>rocket</code>, <code>payloads</code>, <code>launchpad</code>, and <code>cores</code>.\n"
   ]
  },
  {
   "cell_type": "code",
   "execution_count": 15,
   "metadata": {},
   "outputs": [],
   "source": [
    "# Lets take a subset of our dataframe keeping only the features we want and the flight number, and date_utc.\n",
    "data = data[['rocket', 'payloads', 'launchpad', 'cores', 'flight_number', 'date_utc']]\n",
    "\n",
    "# We will remove rows with multiple cores because those are falcon rockets with 2 extra rocket boosters and rows that have multiple payloads in a single rocket.\n",
    "data = data[data['cores'].map(len)==1]\n",
    "data = data[data['payloads'].map(len)==1]\n",
    "\n",
    "# Since payloads and cores are lists of size 1 we will also extract the single value in the list and replace the feature.\n",
    "data['cores'] = data['cores'].map(lambda x : x[0])\n",
    "data['payloads'] = data['payloads'].map(lambda x : x[0])\n",
    "\n",
    "# We also want to convert the date_utc to a datetime datatype and then extracting the date leaving the time\n",
    "data['date'] = pd.to_datetime(data['date_utc']).dt.date\n",
    "\n",
    "# Using the date we will restrict the dates of the launches\n",
    "data = data[data['date'] <= datetime.date(2020, 11, 13)]"
   ]
  },
  {
   "cell_type": "markdown",
   "metadata": {},
   "source": [
    "*   From the <code>rocket</code> we would like to learn the booster name\n",
    "\n",
    "*   From the <code>payload</code> we would like to learn the mass of the payload and the orbit that it is going to\n",
    "\n",
    "*   From the <code>launchpad</code> we would like to know the name of the launch site being used, the longitude, and the latitude.\n",
    "\n",
    "*   From <code>cores</code> we would like to learn the outcome of the landing, the type of the landing, number of flights with that core, whether gridfins were used, whether the core is reused, whether legs were used, the landing pad used, the block of the core which is a number used to seperate version of cores, the number of times this specific core has been reused, and the serial of the core.\n",
    "\n",
    "The data from these requests will be stored in lists and will be used to create a new dataframe.\n"
   ]
  },
  {
   "cell_type": "code",
   "execution_count": 16,
   "metadata": {},
   "outputs": [],
   "source": [
    "#Global variables \n",
    "BoosterVersion = []\n",
    "PayloadMass = []\n",
    "Orbit = []\n",
    "LaunchSite = []\n",
    "Outcome = []\n",
    "Flights = []\n",
    "GridFins = []\n",
    "Reused = []\n",
    "Legs = []\n",
    "LandingPad = []\n",
    "Block = []\n",
    "ReusedCount = []\n",
    "Serial = []\n",
    "Longitude = []\n",
    "Latitude = []"
   ]
  },
  {
   "cell_type": "markdown",
   "metadata": {},
   "source": [
    "These functions will apply the outputs globally to the above variables. Let's take a looks at <code>BoosterVersion</code> variable. Before we apply  <code>getBoosterVersion</code> the list is empty:\n"
   ]
  },
  {
   "cell_type": "code",
   "execution_count": 17,
   "metadata": {},
   "outputs": [
    {
     "data": {
      "text/plain": [
       "[]"
      ]
     },
     "execution_count": 17,
     "metadata": {},
     "output_type": "execute_result"
    }
   ],
   "source": [
    "BoosterVersion"
   ]
  },
  {
   "cell_type": "markdown",
   "metadata": {},
   "source": [
    "Now, let's apply <code> getBoosterVersion</code> function method to get the booster version\n"
   ]
  },
  {
   "cell_type": "code",
   "execution_count": 18,
   "metadata": {},
   "outputs": [],
   "source": [
    "# Call getBoosterVersion\n",
    "getBoosterVersion(data)"
   ]
  },
  {
   "cell_type": "markdown",
   "metadata": {},
   "source": [
    "the list has now been update\n"
   ]
  },
  {
   "cell_type": "code",
   "execution_count": 19,
   "metadata": {},
   "outputs": [
    {
     "data": {
      "text/plain": [
       "['Falcon 1', 'Falcon 1', 'Falcon 1', 'Falcon 1', 'Falcon 9']"
      ]
     },
     "execution_count": 19,
     "metadata": {},
     "output_type": "execute_result"
    }
   ],
   "source": [
    "BoosterVersion[0:5]"
   ]
  },
  {
   "cell_type": "markdown",
   "metadata": {},
   "source": [
    "we can apply the rest of the  functions here:\n"
   ]
  },
  {
   "cell_type": "code",
   "execution_count": 20,
   "metadata": {},
   "outputs": [],
   "source": [
    "# Call getLaunchSite\n",
    "getLaunchSite(data)"
   ]
  },
  {
   "cell_type": "code",
   "execution_count": 21,
   "metadata": {},
   "outputs": [],
   "source": [
    "# Call getPayloadData\n",
    "getPayloadData(data)"
   ]
  },
  {
   "cell_type": "code",
   "execution_count": 22,
   "metadata": {},
   "outputs": [],
   "source": [
    "# Call getCoreData\n",
    "getCoreData(data)"
   ]
  },
  {
   "cell_type": "markdown",
   "metadata": {},
   "source": [
    "Finally lets construct our dataset using the data we have obtained. We we combine the columns into a dictionary.\n"
   ]
  },
  {
   "cell_type": "code",
   "execution_count": 23,
   "metadata": {},
   "outputs": [],
   "source": [
    "launch_dict = {'FlightNumber': list(data['flight_number']),\n",
    "'Date': list(data['date']),\n",
    "'BoosterVersion':BoosterVersion,\n",
    "'PayloadMass':PayloadMass,\n",
    "'Orbit':Orbit,\n",
    "'LaunchSite':LaunchSite,\n",
    "'Outcome':Outcome,\n",
    "'Flights':Flights,\n",
    "'GridFins':GridFins,\n",
    "'Reused':Reused,\n",
    "'Legs':Legs,\n",
    "'LandingPad':LandingPad,\n",
    "'Block':Block,\n",
    "'ReusedCount':ReusedCount,\n",
    "'Serial':Serial,\n",
    "'Longitude': Longitude,\n",
    "'Latitude': Latitude}\n"
   ]
  },
  {
   "cell_type": "markdown",
   "metadata": {},
   "source": [
    "Then, we need to create a Pandas data frame from the dictionary launch_dict.\n"
   ]
  },
  {
   "cell_type": "code",
   "execution_count": 24,
   "metadata": {},
   "outputs": [],
   "source": [
    "# Create a data from launch_dict\n",
    "data=pd.DataFrame(launch_dict)"
   ]
  },
  {
   "cell_type": "markdown",
   "metadata": {},
   "source": [
    "Show the summary of the dataframe\n"
   ]
  },
  {
   "cell_type": "code",
   "execution_count": 25,
   "metadata": {},
   "outputs": [
    {
     "data": {
      "text/html": [
       "<div>\n",
       "<style scoped>\n",
       "    .dataframe tbody tr th:only-of-type {\n",
       "        vertical-align: middle;\n",
       "    }\n",
       "\n",
       "    .dataframe tbody tr th {\n",
       "        vertical-align: top;\n",
       "    }\n",
       "\n",
       "    .dataframe thead th {\n",
       "        text-align: right;\n",
       "    }\n",
       "</style>\n",
       "<table border=\"1\" class=\"dataframe\">\n",
       "  <thead>\n",
       "    <tr style=\"text-align: right;\">\n",
       "      <th></th>\n",
       "      <th>FlightNumber</th>\n",
       "      <th>Date</th>\n",
       "      <th>BoosterVersion</th>\n",
       "      <th>PayloadMass</th>\n",
       "      <th>Orbit</th>\n",
       "      <th>LaunchSite</th>\n",
       "      <th>Outcome</th>\n",
       "      <th>Flights</th>\n",
       "      <th>GridFins</th>\n",
       "      <th>Reused</th>\n",
       "      <th>Legs</th>\n",
       "      <th>LandingPad</th>\n",
       "      <th>Block</th>\n",
       "      <th>ReusedCount</th>\n",
       "      <th>Serial</th>\n",
       "      <th>Longitude</th>\n",
       "      <th>Latitude</th>\n",
       "    </tr>\n",
       "  </thead>\n",
       "  <tbody>\n",
       "    <tr>\n",
       "      <th>0</th>\n",
       "      <td>1</td>\n",
       "      <td>2006-03-24</td>\n",
       "      <td>Falcon 1</td>\n",
       "      <td>20.0</td>\n",
       "      <td>LEO</td>\n",
       "      <td>Kwajalein Atoll</td>\n",
       "      <td>None None</td>\n",
       "      <td>1</td>\n",
       "      <td>False</td>\n",
       "      <td>False</td>\n",
       "      <td>False</td>\n",
       "      <td>None</td>\n",
       "      <td>NaN</td>\n",
       "      <td>0</td>\n",
       "      <td>Merlin1A</td>\n",
       "      <td>167.743129</td>\n",
       "      <td>9.047721</td>\n",
       "    </tr>\n",
       "    <tr>\n",
       "      <th>1</th>\n",
       "      <td>2</td>\n",
       "      <td>2007-03-21</td>\n",
       "      <td>Falcon 1</td>\n",
       "      <td>NaN</td>\n",
       "      <td>LEO</td>\n",
       "      <td>Kwajalein Atoll</td>\n",
       "      <td>None None</td>\n",
       "      <td>1</td>\n",
       "      <td>False</td>\n",
       "      <td>False</td>\n",
       "      <td>False</td>\n",
       "      <td>None</td>\n",
       "      <td>NaN</td>\n",
       "      <td>0</td>\n",
       "      <td>Merlin2A</td>\n",
       "      <td>167.743129</td>\n",
       "      <td>9.047721</td>\n",
       "    </tr>\n",
       "    <tr>\n",
       "      <th>2</th>\n",
       "      <td>4</td>\n",
       "      <td>2008-09-28</td>\n",
       "      <td>Falcon 1</td>\n",
       "      <td>165.0</td>\n",
       "      <td>LEO</td>\n",
       "      <td>Kwajalein Atoll</td>\n",
       "      <td>None None</td>\n",
       "      <td>1</td>\n",
       "      <td>False</td>\n",
       "      <td>False</td>\n",
       "      <td>False</td>\n",
       "      <td>None</td>\n",
       "      <td>NaN</td>\n",
       "      <td>0</td>\n",
       "      <td>Merlin2C</td>\n",
       "      <td>167.743129</td>\n",
       "      <td>9.047721</td>\n",
       "    </tr>\n",
       "    <tr>\n",
       "      <th>3</th>\n",
       "      <td>5</td>\n",
       "      <td>2009-07-13</td>\n",
       "      <td>Falcon 1</td>\n",
       "      <td>200.0</td>\n",
       "      <td>LEO</td>\n",
       "      <td>Kwajalein Atoll</td>\n",
       "      <td>None None</td>\n",
       "      <td>1</td>\n",
       "      <td>False</td>\n",
       "      <td>False</td>\n",
       "      <td>False</td>\n",
       "      <td>None</td>\n",
       "      <td>NaN</td>\n",
       "      <td>0</td>\n",
       "      <td>Merlin3C</td>\n",
       "      <td>167.743129</td>\n",
       "      <td>9.047721</td>\n",
       "    </tr>\n",
       "    <tr>\n",
       "      <th>4</th>\n",
       "      <td>6</td>\n",
       "      <td>2010-06-04</td>\n",
       "      <td>Falcon 9</td>\n",
       "      <td>NaN</td>\n",
       "      <td>LEO</td>\n",
       "      <td>CCSFS SLC 40</td>\n",
       "      <td>None None</td>\n",
       "      <td>1</td>\n",
       "      <td>False</td>\n",
       "      <td>False</td>\n",
       "      <td>False</td>\n",
       "      <td>None</td>\n",
       "      <td>1.0</td>\n",
       "      <td>0</td>\n",
       "      <td>B0003</td>\n",
       "      <td>-80.577366</td>\n",
       "      <td>28.561857</td>\n",
       "    </tr>\n",
       "  </tbody>\n",
       "</table>\n",
       "</div>"
      ],
      "text/plain": [
       "   FlightNumber        Date BoosterVersion  PayloadMass Orbit  \\\n",
       "0             1  2006-03-24       Falcon 1         20.0   LEO   \n",
       "1             2  2007-03-21       Falcon 1          NaN   LEO   \n",
       "2             4  2008-09-28       Falcon 1        165.0   LEO   \n",
       "3             5  2009-07-13       Falcon 1        200.0   LEO   \n",
       "4             6  2010-06-04       Falcon 9          NaN   LEO   \n",
       "\n",
       "        LaunchSite    Outcome  Flights  GridFins  Reused   Legs LandingPad  \\\n",
       "0  Kwajalein Atoll  None None        1     False   False  False       None   \n",
       "1  Kwajalein Atoll  None None        1     False   False  False       None   \n",
       "2  Kwajalein Atoll  None None        1     False   False  False       None   \n",
       "3  Kwajalein Atoll  None None        1     False   False  False       None   \n",
       "4     CCSFS SLC 40  None None        1     False   False  False       None   \n",
       "\n",
       "   Block  ReusedCount    Serial   Longitude   Latitude  \n",
       "0    NaN            0  Merlin1A  167.743129   9.047721  \n",
       "1    NaN            0  Merlin2A  167.743129   9.047721  \n",
       "2    NaN            0  Merlin2C  167.743129   9.047721  \n",
       "3    NaN            0  Merlin3C  167.743129   9.047721  \n",
       "4    1.0            0     B0003  -80.577366  28.561857  "
      ]
     },
     "execution_count": 25,
     "metadata": {},
     "output_type": "execute_result"
    }
   ],
   "source": [
    "# Show the head of the dataframe\n",
    "data.head()"
   ]
  },
  {
   "cell_type": "markdown",
   "metadata": {},
   "source": [
    "### Task 2: Filter the dataframe to only include `Falcon 9` launches\n"
   ]
  },
  {
   "cell_type": "markdown",
   "metadata": {},
   "source": [
    "Finally we will remove the Falcon 1 launches keeping only the Falcon 9 launches. Filter the data dataframe using the <code>BoosterVersion</code> column to only keep the Falcon 9 launches. Save the filtered data to a new dataframe called <code>data_falcon9</code>.\n"
   ]
  },
  {
   "cell_type": "code",
   "execution_count": 26,
   "metadata": {},
   "outputs": [
    {
     "data": {
      "text/html": [
       "<div>\n",
       "<style scoped>\n",
       "    .dataframe tbody tr th:only-of-type {\n",
       "        vertical-align: middle;\n",
       "    }\n",
       "\n",
       "    .dataframe tbody tr th {\n",
       "        vertical-align: top;\n",
       "    }\n",
       "\n",
       "    .dataframe thead th {\n",
       "        text-align: right;\n",
       "    }\n",
       "</style>\n",
       "<table border=\"1\" class=\"dataframe\">\n",
       "  <thead>\n",
       "    <tr style=\"text-align: right;\">\n",
       "      <th></th>\n",
       "      <th>FlightNumber</th>\n",
       "      <th>Date</th>\n",
       "      <th>BoosterVersion</th>\n",
       "      <th>PayloadMass</th>\n",
       "      <th>Orbit</th>\n",
       "      <th>LaunchSite</th>\n",
       "      <th>Outcome</th>\n",
       "      <th>Flights</th>\n",
       "      <th>GridFins</th>\n",
       "      <th>Reused</th>\n",
       "      <th>Legs</th>\n",
       "      <th>LandingPad</th>\n",
       "      <th>Block</th>\n",
       "      <th>ReusedCount</th>\n",
       "      <th>Serial</th>\n",
       "      <th>Longitude</th>\n",
       "      <th>Latitude</th>\n",
       "    </tr>\n",
       "  </thead>\n",
       "  <tbody>\n",
       "    <tr>\n",
       "      <th>4</th>\n",
       "      <td>6</td>\n",
       "      <td>2010-06-04</td>\n",
       "      <td>Falcon 9</td>\n",
       "      <td>NaN</td>\n",
       "      <td>LEO</td>\n",
       "      <td>CCSFS SLC 40</td>\n",
       "      <td>None None</td>\n",
       "      <td>1</td>\n",
       "      <td>False</td>\n",
       "      <td>False</td>\n",
       "      <td>False</td>\n",
       "      <td>None</td>\n",
       "      <td>1.0</td>\n",
       "      <td>0</td>\n",
       "      <td>B0003</td>\n",
       "      <td>-80.577366</td>\n",
       "      <td>28.561857</td>\n",
       "    </tr>\n",
       "    <tr>\n",
       "      <th>5</th>\n",
       "      <td>8</td>\n",
       "      <td>2012-05-22</td>\n",
       "      <td>Falcon 9</td>\n",
       "      <td>525.0</td>\n",
       "      <td>LEO</td>\n",
       "      <td>CCSFS SLC 40</td>\n",
       "      <td>None None</td>\n",
       "      <td>1</td>\n",
       "      <td>False</td>\n",
       "      <td>False</td>\n",
       "      <td>False</td>\n",
       "      <td>None</td>\n",
       "      <td>1.0</td>\n",
       "      <td>0</td>\n",
       "      <td>B0005</td>\n",
       "      <td>-80.577366</td>\n",
       "      <td>28.561857</td>\n",
       "    </tr>\n",
       "    <tr>\n",
       "      <th>6</th>\n",
       "      <td>10</td>\n",
       "      <td>2013-03-01</td>\n",
       "      <td>Falcon 9</td>\n",
       "      <td>677.0</td>\n",
       "      <td>ISS</td>\n",
       "      <td>CCSFS SLC 40</td>\n",
       "      <td>None None</td>\n",
       "      <td>1</td>\n",
       "      <td>False</td>\n",
       "      <td>False</td>\n",
       "      <td>False</td>\n",
       "      <td>None</td>\n",
       "      <td>1.0</td>\n",
       "      <td>0</td>\n",
       "      <td>B0007</td>\n",
       "      <td>-80.577366</td>\n",
       "      <td>28.561857</td>\n",
       "    </tr>\n",
       "    <tr>\n",
       "      <th>7</th>\n",
       "      <td>11</td>\n",
       "      <td>2013-09-29</td>\n",
       "      <td>Falcon 9</td>\n",
       "      <td>500.0</td>\n",
       "      <td>PO</td>\n",
       "      <td>VAFB SLC 4E</td>\n",
       "      <td>False Ocean</td>\n",
       "      <td>1</td>\n",
       "      <td>False</td>\n",
       "      <td>False</td>\n",
       "      <td>False</td>\n",
       "      <td>None</td>\n",
       "      <td>1.0</td>\n",
       "      <td>0</td>\n",
       "      <td>B1003</td>\n",
       "      <td>-120.610829</td>\n",
       "      <td>34.632093</td>\n",
       "    </tr>\n",
       "    <tr>\n",
       "      <th>8</th>\n",
       "      <td>12</td>\n",
       "      <td>2013-12-03</td>\n",
       "      <td>Falcon 9</td>\n",
       "      <td>3170.0</td>\n",
       "      <td>GTO</td>\n",
       "      <td>CCSFS SLC 40</td>\n",
       "      <td>None None</td>\n",
       "      <td>1</td>\n",
       "      <td>False</td>\n",
       "      <td>False</td>\n",
       "      <td>False</td>\n",
       "      <td>None</td>\n",
       "      <td>1.0</td>\n",
       "      <td>0</td>\n",
       "      <td>B1004</td>\n",
       "      <td>-80.577366</td>\n",
       "      <td>28.561857</td>\n",
       "    </tr>\n",
       "  </tbody>\n",
       "</table>\n",
       "</div>"
      ],
      "text/plain": [
       "   FlightNumber        Date BoosterVersion  PayloadMass Orbit    LaunchSite  \\\n",
       "4             6  2010-06-04       Falcon 9          NaN   LEO  CCSFS SLC 40   \n",
       "5             8  2012-05-22       Falcon 9        525.0   LEO  CCSFS SLC 40   \n",
       "6            10  2013-03-01       Falcon 9        677.0   ISS  CCSFS SLC 40   \n",
       "7            11  2013-09-29       Falcon 9        500.0    PO   VAFB SLC 4E   \n",
       "8            12  2013-12-03       Falcon 9       3170.0   GTO  CCSFS SLC 40   \n",
       "\n",
       "       Outcome  Flights  GridFins  Reused   Legs LandingPad  Block  \\\n",
       "4    None None        1     False   False  False       None    1.0   \n",
       "5    None None        1     False   False  False       None    1.0   \n",
       "6    None None        1     False   False  False       None    1.0   \n",
       "7  False Ocean        1     False   False  False       None    1.0   \n",
       "8    None None        1     False   False  False       None    1.0   \n",
       "\n",
       "   ReusedCount Serial   Longitude   Latitude  \n",
       "4            0  B0003  -80.577366  28.561857  \n",
       "5            0  B0005  -80.577366  28.561857  \n",
       "6            0  B0007  -80.577366  28.561857  \n",
       "7            0  B1003 -120.610829  34.632093  \n",
       "8            0  B1004  -80.577366  28.561857  "
      ]
     },
     "execution_count": 26,
     "metadata": {},
     "output_type": "execute_result"
    }
   ],
   "source": [
    "# Hint data['BoosterVersion']!='Falcon 1'\n",
    "data_falcon9=data[data['BoosterVersion']=='Falcon 9']\n",
    "data_falcon9[0:5]"
   ]
  },
  {
   "cell_type": "markdown",
   "metadata": {},
   "source": [
    "Now that we have removed some values we should reset the FlgihtNumber column\n"
   ]
  },
  {
   "cell_type": "code",
   "execution_count": 27,
   "metadata": {},
   "outputs": [
    {
     "data": {
      "text/plain": [
       "4       6\n",
       "5       8\n",
       "6      10\n",
       "7      11\n",
       "8      12\n",
       "     ... \n",
       "89    102\n",
       "90    103\n",
       "91    104\n",
       "92    105\n",
       "93    106\n",
       "Name: FlightNumber, Length: 90, dtype: int64"
      ]
     },
     "execution_count": 27,
     "metadata": {},
     "output_type": "execute_result"
    }
   ],
   "source": [
    "data_falcon9.loc[:,'FlightNumber']"
   ]
  },
  {
   "cell_type": "code",
   "execution_count": 28,
   "metadata": {},
   "outputs": [
    {
     "name": "stderr",
     "output_type": "stream",
     "text": [
      "/opt/conda/envs/Python-3.8-main/lib/python3.8/site-packages/pandas/core/indexing.py:1676: SettingWithCopyWarning: \n",
      "A value is trying to be set on a copy of a slice from a DataFrame.\n",
      "Try using .loc[row_indexer,col_indexer] = value instead\n",
      "\n",
      "See the caveats in the documentation: https://pandas.pydata.org/pandas-docs/stable/user_guide/indexing.html#returning-a-view-versus-a-copy\n",
      "  self._setitem_single_column(ilocs[0], value, pi)\n"
     ]
    },
    {
     "data": {
      "text/html": [
       "<div>\n",
       "<style scoped>\n",
       "    .dataframe tbody tr th:only-of-type {\n",
       "        vertical-align: middle;\n",
       "    }\n",
       "\n",
       "    .dataframe tbody tr th {\n",
       "        vertical-align: top;\n",
       "    }\n",
       "\n",
       "    .dataframe thead th {\n",
       "        text-align: right;\n",
       "    }\n",
       "</style>\n",
       "<table border=\"1\" class=\"dataframe\">\n",
       "  <thead>\n",
       "    <tr style=\"text-align: right;\">\n",
       "      <th></th>\n",
       "      <th>FlightNumber</th>\n",
       "      <th>Date</th>\n",
       "      <th>BoosterVersion</th>\n",
       "      <th>PayloadMass</th>\n",
       "      <th>Orbit</th>\n",
       "      <th>LaunchSite</th>\n",
       "      <th>Outcome</th>\n",
       "      <th>Flights</th>\n",
       "      <th>GridFins</th>\n",
       "      <th>Reused</th>\n",
       "      <th>Legs</th>\n",
       "      <th>LandingPad</th>\n",
       "      <th>Block</th>\n",
       "      <th>ReusedCount</th>\n",
       "      <th>Serial</th>\n",
       "      <th>Longitude</th>\n",
       "      <th>Latitude</th>\n",
       "    </tr>\n",
       "  </thead>\n",
       "  <tbody>\n",
       "    <tr>\n",
       "      <th>4</th>\n",
       "      <td>1</td>\n",
       "      <td>2010-06-04</td>\n",
       "      <td>Falcon 9</td>\n",
       "      <td>NaN</td>\n",
       "      <td>LEO</td>\n",
       "      <td>CCSFS SLC 40</td>\n",
       "      <td>None None</td>\n",
       "      <td>1</td>\n",
       "      <td>False</td>\n",
       "      <td>False</td>\n",
       "      <td>False</td>\n",
       "      <td>None</td>\n",
       "      <td>1.0</td>\n",
       "      <td>0</td>\n",
       "      <td>B0003</td>\n",
       "      <td>-80.577366</td>\n",
       "      <td>28.561857</td>\n",
       "    </tr>\n",
       "    <tr>\n",
       "      <th>5</th>\n",
       "      <td>2</td>\n",
       "      <td>2012-05-22</td>\n",
       "      <td>Falcon 9</td>\n",
       "      <td>525.0</td>\n",
       "      <td>LEO</td>\n",
       "      <td>CCSFS SLC 40</td>\n",
       "      <td>None None</td>\n",
       "      <td>1</td>\n",
       "      <td>False</td>\n",
       "      <td>False</td>\n",
       "      <td>False</td>\n",
       "      <td>None</td>\n",
       "      <td>1.0</td>\n",
       "      <td>0</td>\n",
       "      <td>B0005</td>\n",
       "      <td>-80.577366</td>\n",
       "      <td>28.561857</td>\n",
       "    </tr>\n",
       "    <tr>\n",
       "      <th>6</th>\n",
       "      <td>3</td>\n",
       "      <td>2013-03-01</td>\n",
       "      <td>Falcon 9</td>\n",
       "      <td>677.0</td>\n",
       "      <td>ISS</td>\n",
       "      <td>CCSFS SLC 40</td>\n",
       "      <td>None None</td>\n",
       "      <td>1</td>\n",
       "      <td>False</td>\n",
       "      <td>False</td>\n",
       "      <td>False</td>\n",
       "      <td>None</td>\n",
       "      <td>1.0</td>\n",
       "      <td>0</td>\n",
       "      <td>B0007</td>\n",
       "      <td>-80.577366</td>\n",
       "      <td>28.561857</td>\n",
       "    </tr>\n",
       "    <tr>\n",
       "      <th>7</th>\n",
       "      <td>4</td>\n",
       "      <td>2013-09-29</td>\n",
       "      <td>Falcon 9</td>\n",
       "      <td>500.0</td>\n",
       "      <td>PO</td>\n",
       "      <td>VAFB SLC 4E</td>\n",
       "      <td>False Ocean</td>\n",
       "      <td>1</td>\n",
       "      <td>False</td>\n",
       "      <td>False</td>\n",
       "      <td>False</td>\n",
       "      <td>None</td>\n",
       "      <td>1.0</td>\n",
       "      <td>0</td>\n",
       "      <td>B1003</td>\n",
       "      <td>-120.610829</td>\n",
       "      <td>34.632093</td>\n",
       "    </tr>\n",
       "    <tr>\n",
       "      <th>8</th>\n",
       "      <td>5</td>\n",
       "      <td>2013-12-03</td>\n",
       "      <td>Falcon 9</td>\n",
       "      <td>3170.0</td>\n",
       "      <td>GTO</td>\n",
       "      <td>CCSFS SLC 40</td>\n",
       "      <td>None None</td>\n",
       "      <td>1</td>\n",
       "      <td>False</td>\n",
       "      <td>False</td>\n",
       "      <td>False</td>\n",
       "      <td>None</td>\n",
       "      <td>1.0</td>\n",
       "      <td>0</td>\n",
       "      <td>B1004</td>\n",
       "      <td>-80.577366</td>\n",
       "      <td>28.561857</td>\n",
       "    </tr>\n",
       "    <tr>\n",
       "      <th>...</th>\n",
       "      <td>...</td>\n",
       "      <td>...</td>\n",
       "      <td>...</td>\n",
       "      <td>...</td>\n",
       "      <td>...</td>\n",
       "      <td>...</td>\n",
       "      <td>...</td>\n",
       "      <td>...</td>\n",
       "      <td>...</td>\n",
       "      <td>...</td>\n",
       "      <td>...</td>\n",
       "      <td>...</td>\n",
       "      <td>...</td>\n",
       "      <td>...</td>\n",
       "      <td>...</td>\n",
       "      <td>...</td>\n",
       "      <td>...</td>\n",
       "    </tr>\n",
       "    <tr>\n",
       "      <th>89</th>\n",
       "      <td>86</td>\n",
       "      <td>2020-09-03</td>\n",
       "      <td>Falcon 9</td>\n",
       "      <td>15600.0</td>\n",
       "      <td>VLEO</td>\n",
       "      <td>KSC LC 39A</td>\n",
       "      <td>True ASDS</td>\n",
       "      <td>2</td>\n",
       "      <td>True</td>\n",
       "      <td>True</td>\n",
       "      <td>True</td>\n",
       "      <td>5e9e3032383ecb6bb234e7ca</td>\n",
       "      <td>5.0</td>\n",
       "      <td>7</td>\n",
       "      <td>B1060</td>\n",
       "      <td>-80.603956</td>\n",
       "      <td>28.608058</td>\n",
       "    </tr>\n",
       "    <tr>\n",
       "      <th>90</th>\n",
       "      <td>87</td>\n",
       "      <td>2020-10-06</td>\n",
       "      <td>Falcon 9</td>\n",
       "      <td>15600.0</td>\n",
       "      <td>VLEO</td>\n",
       "      <td>KSC LC 39A</td>\n",
       "      <td>True ASDS</td>\n",
       "      <td>3</td>\n",
       "      <td>True</td>\n",
       "      <td>True</td>\n",
       "      <td>True</td>\n",
       "      <td>5e9e3032383ecb6bb234e7ca</td>\n",
       "      <td>5.0</td>\n",
       "      <td>7</td>\n",
       "      <td>B1058</td>\n",
       "      <td>-80.603956</td>\n",
       "      <td>28.608058</td>\n",
       "    </tr>\n",
       "    <tr>\n",
       "      <th>91</th>\n",
       "      <td>88</td>\n",
       "      <td>2020-10-18</td>\n",
       "      <td>Falcon 9</td>\n",
       "      <td>15600.0</td>\n",
       "      <td>VLEO</td>\n",
       "      <td>KSC LC 39A</td>\n",
       "      <td>True ASDS</td>\n",
       "      <td>6</td>\n",
       "      <td>True</td>\n",
       "      <td>True</td>\n",
       "      <td>True</td>\n",
       "      <td>5e9e3032383ecb6bb234e7ca</td>\n",
       "      <td>5.0</td>\n",
       "      <td>9</td>\n",
       "      <td>B1051</td>\n",
       "      <td>-80.603956</td>\n",
       "      <td>28.608058</td>\n",
       "    </tr>\n",
       "    <tr>\n",
       "      <th>92</th>\n",
       "      <td>89</td>\n",
       "      <td>2020-10-24</td>\n",
       "      <td>Falcon 9</td>\n",
       "      <td>15600.0</td>\n",
       "      <td>VLEO</td>\n",
       "      <td>CCSFS SLC 40</td>\n",
       "      <td>True ASDS</td>\n",
       "      <td>3</td>\n",
       "      <td>True</td>\n",
       "      <td>True</td>\n",
       "      <td>True</td>\n",
       "      <td>5e9e3033383ecbb9e534e7cc</td>\n",
       "      <td>5.0</td>\n",
       "      <td>7</td>\n",
       "      <td>B1060</td>\n",
       "      <td>-80.577366</td>\n",
       "      <td>28.561857</td>\n",
       "    </tr>\n",
       "    <tr>\n",
       "      <th>93</th>\n",
       "      <td>90</td>\n",
       "      <td>2020-11-05</td>\n",
       "      <td>Falcon 9</td>\n",
       "      <td>3681.0</td>\n",
       "      <td>MEO</td>\n",
       "      <td>CCSFS SLC 40</td>\n",
       "      <td>True ASDS</td>\n",
       "      <td>1</td>\n",
       "      <td>True</td>\n",
       "      <td>False</td>\n",
       "      <td>True</td>\n",
       "      <td>5e9e3032383ecb6bb234e7ca</td>\n",
       "      <td>5.0</td>\n",
       "      <td>1</td>\n",
       "      <td>B1062</td>\n",
       "      <td>-80.577366</td>\n",
       "      <td>28.561857</td>\n",
       "    </tr>\n",
       "  </tbody>\n",
       "</table>\n",
       "<p>90 rows × 17 columns</p>\n",
       "</div>"
      ],
      "text/plain": [
       "    FlightNumber        Date BoosterVersion  PayloadMass Orbit    LaunchSite  \\\n",
       "4              1  2010-06-04       Falcon 9          NaN   LEO  CCSFS SLC 40   \n",
       "5              2  2012-05-22       Falcon 9        525.0   LEO  CCSFS SLC 40   \n",
       "6              3  2013-03-01       Falcon 9        677.0   ISS  CCSFS SLC 40   \n",
       "7              4  2013-09-29       Falcon 9        500.0    PO   VAFB SLC 4E   \n",
       "8              5  2013-12-03       Falcon 9       3170.0   GTO  CCSFS SLC 40   \n",
       "..           ...         ...            ...          ...   ...           ...   \n",
       "89            86  2020-09-03       Falcon 9      15600.0  VLEO    KSC LC 39A   \n",
       "90            87  2020-10-06       Falcon 9      15600.0  VLEO    KSC LC 39A   \n",
       "91            88  2020-10-18       Falcon 9      15600.0  VLEO    KSC LC 39A   \n",
       "92            89  2020-10-24       Falcon 9      15600.0  VLEO  CCSFS SLC 40   \n",
       "93            90  2020-11-05       Falcon 9       3681.0   MEO  CCSFS SLC 40   \n",
       "\n",
       "        Outcome  Flights  GridFins  Reused   Legs                LandingPad  \\\n",
       "4     None None        1     False   False  False                      None   \n",
       "5     None None        1     False   False  False                      None   \n",
       "6     None None        1     False   False  False                      None   \n",
       "7   False Ocean        1     False   False  False                      None   \n",
       "8     None None        1     False   False  False                      None   \n",
       "..          ...      ...       ...     ...    ...                       ...   \n",
       "89    True ASDS        2      True    True   True  5e9e3032383ecb6bb234e7ca   \n",
       "90    True ASDS        3      True    True   True  5e9e3032383ecb6bb234e7ca   \n",
       "91    True ASDS        6      True    True   True  5e9e3032383ecb6bb234e7ca   \n",
       "92    True ASDS        3      True    True   True  5e9e3033383ecbb9e534e7cc   \n",
       "93    True ASDS        1      True   False   True  5e9e3032383ecb6bb234e7ca   \n",
       "\n",
       "    Block  ReusedCount Serial   Longitude   Latitude  \n",
       "4     1.0            0  B0003  -80.577366  28.561857  \n",
       "5     1.0            0  B0005  -80.577366  28.561857  \n",
       "6     1.0            0  B0007  -80.577366  28.561857  \n",
       "7     1.0            0  B1003 -120.610829  34.632093  \n",
       "8     1.0            0  B1004  -80.577366  28.561857  \n",
       "..    ...          ...    ...         ...        ...  \n",
       "89    5.0            7  B1060  -80.603956  28.608058  \n",
       "90    5.0            7  B1058  -80.603956  28.608058  \n",
       "91    5.0            9  B1051  -80.603956  28.608058  \n",
       "92    5.0            7  B1060  -80.577366  28.561857  \n",
       "93    5.0            1  B1062  -80.577366  28.561857  \n",
       "\n",
       "[90 rows x 17 columns]"
      ]
     },
     "execution_count": 28,
     "metadata": {},
     "output_type": "execute_result"
    }
   ],
   "source": [
    "data_falcon9.loc[:,'FlightNumber'] = list(range(1, data_falcon9.shape[0]+1))\n",
    "data_falcon9"
   ]
  },
  {
   "cell_type": "markdown",
   "metadata": {},
   "source": [
    "## Data Wrangling\n"
   ]
  },
  {
   "cell_type": "markdown",
   "metadata": {},
   "source": [
    "We can see below that some of the rows are missing values in our dataset.\n"
   ]
  },
  {
   "cell_type": "code",
   "execution_count": 29,
   "metadata": {},
   "outputs": [
    {
     "data": {
      "text/plain": [
       "FlightNumber       0\n",
       "Date               0\n",
       "BoosterVersion     0\n",
       "PayloadMass        5\n",
       "Orbit              0\n",
       "LaunchSite         0\n",
       "Outcome            0\n",
       "Flights            0\n",
       "GridFins           0\n",
       "Reused             0\n",
       "Legs               0\n",
       "LandingPad        26\n",
       "Block              0\n",
       "ReusedCount        0\n",
       "Serial             0\n",
       "Longitude          0\n",
       "Latitude           0\n",
       "dtype: int64"
      ]
     },
     "execution_count": 29,
     "metadata": {},
     "output_type": "execute_result"
    }
   ],
   "source": [
    "data_falcon9.isnull().sum()"
   ]
  },
  {
   "cell_type": "markdown",
   "metadata": {},
   "source": [
    "Before we can continue we must deal with these missing values. The <code>LandingPad</code> column will retain None values to represent when landing pads were not used.\n"
   ]
  },
  {
   "cell_type": "markdown",
   "metadata": {},
   "source": [
    "### Task 3: Dealing with Missing Values\n"
   ]
  },
  {
   "cell_type": "markdown",
   "metadata": {},
   "source": [
    "Calculate below the mean for the <code>PayloadMass</code> using the <code>.mean()</code>. Then use the mean and the <code>.replace()</code> function to replace `np.nan` values in the data with the mean you calculated.\n"
   ]
  },
  {
   "cell_type": "code",
   "execution_count": 30,
   "metadata": {},
   "outputs": [
    {
     "data": {
      "text/plain": [
       "6123.547647058824"
      ]
     },
     "execution_count": 30,
     "metadata": {},
     "output_type": "execute_result"
    }
   ],
   "source": [
    "# Calculate the mean value of PayloadMass column\n",
    "PayloadMass_mean=data_falcon9['PayloadMass'].mean()\n",
    "PayloadMass_mean"
   ]
  },
  {
   "cell_type": "code",
   "execution_count": 31,
   "metadata": {},
   "outputs": [
    {
     "name": "stderr",
     "output_type": "stream",
     "text": [
      "<ipython-input-31-51e687f77b91>:2: SettingWithCopyWarning: \n",
      "A value is trying to be set on a copy of a slice from a DataFrame.\n",
      "Try using .loc[row_indexer,col_indexer] = value instead\n",
      "\n",
      "See the caveats in the documentation: https://pandas.pydata.org/pandas-docs/stable/user_guide/indexing.html#returning-a-view-versus-a-copy\n",
      "  data_falcon9['PayloadMass']=data_falcon9['PayloadMass'].replace(np.nan, PayloadMass_mean)\n"
     ]
    }
   ],
   "source": [
    "# Replace the np.nan values with its mean value\n",
    "data_falcon9['PayloadMass']=data_falcon9['PayloadMass'].replace(np.nan, PayloadMass_mean)"
   ]
  },
  {
   "cell_type": "code",
   "execution_count": 32,
   "metadata": {},
   "outputs": [
    {
     "data": {
      "text/plain": [
       "FlightNumber       0\n",
       "Date               0\n",
       "BoosterVersion     0\n",
       "PayloadMass        0\n",
       "Orbit              0\n",
       "LaunchSite         0\n",
       "Outcome            0\n",
       "Flights            0\n",
       "GridFins           0\n",
       "Reused             0\n",
       "Legs               0\n",
       "LandingPad        26\n",
       "Block              0\n",
       "ReusedCount        0\n",
       "Serial             0\n",
       "Longitude          0\n",
       "Latitude           0\n",
       "dtype: int64"
      ]
     },
     "execution_count": 32,
     "metadata": {},
     "output_type": "execute_result"
    }
   ],
   "source": [
    "data_falcon9.isnull().sum()"
   ]
  },
  {
   "cell_type": "markdown",
   "metadata": {},
   "source": [
    "You should see the number of missing values of the <code>PayLoadMass</code> change to zero.\n"
   ]
  },
  {
   "cell_type": "markdown",
   "metadata": {},
   "source": [
    "Now we should have no missing values in our dataset except for in <code>LandingPad</code>.\n"
   ]
  },
  {
   "cell_type": "markdown",
   "metadata": {},
   "source": [
    "We can now export it to a <b>CSV</b> for the next section,but to make the answers consistent, in the next lab we will provide data in a pre-selected date range.\n"
   ]
  },
  {
   "cell_type": "markdown",
   "metadata": {},
   "source": [
    "<code>data_falcon9.to_csv('dataset_part\\_1.csv', index=False)</code>\n"
   ]
  },
  {
   "cell_type": "code",
   "execution_count": 33,
   "metadata": {},
   "outputs": [
    {
     "data": {
      "text/plain": [
       "b'<!DOCTYPE html>\\n<html class=\"client-nojs\" lang=\"de\" dir=\"ltr\">\\n<head>\\n<meta charset=\"UTF-8\"/>\\n<title>Falcon 9 \\xe2\\x80\\x93 Wikipedia</title>\\n<script>document.documentElement.className=\"client-js\";RLCONF={\"wgBreakFrames\":!1,\"wgSeparatorTransformTable\":[\",\\\\t.\",\".\\\\t,\"],\"wgDigitTransformTable\":[\"\",\"\"],\"wgDefaultDateFormat\":\"dmy\",\"wgMonthNames\":[\"\",\"Januar\",\"Februar\",\"M\\xc3\\xa4rz\",\"April\",\"Mai\",\"Juni\",\"Juli\",\"August\",\"September\",\"Oktober\",\"November\",\"Dezember\"],\"wgRequestId\":\"e4ec7499-c8ca-47d5-91aa-cbf6893166d7\",\"wgCSPNonce\":!1,\"wgCanonicalNamespace\":\"\",\"wgCanonicalSpecialPageName\":!1,\"wgNamespaceNumber\":0,\"wgPageName\":\"Falcon_9\",\"wgTitle\":\"Falcon 9\",\"wgCurRevisionId\":215096791,\"wgRevisionId\":215096791,\"wgArticleId\":6626360,\"wgIsArticle\":!0,\"wgIsRedirect\":!1,\"wgAction\":\"view\",\"wgUserName\":null,\"wgUserGroups\":[\"*\"],\"wgCategories\":[\"Raketentyp (Raumfahrt)\",\"Raumfahrt der Vereinigten Staaten\",\"SpaceX\",\"Elon Musk\"],\"wgPageContentLanguage\":\"de\",\"wgPageContentModel\":\"wikitext\",\"wgRelevantPageName\":\"Falcon_9\",\"wgRelevantArticleId\":6626360,\"wgIsProbablyEditable\":!0,\"wgRelevantPageIsProbablyEditable\":!0,\"wgRestrictionEdit\":[],\\n\"wgRestrictionMove\":[],\"wgFlaggedRevsParams\":{\"tags\":{\"accuracy\":{\"levels\":1}}},\"wgStableRevisionId\":215096791,\"wgMediaViewerOnClick\":!0,\"wgMediaViewerEnabledByDefault\":!0,\"wgPopupsFlags\":4,\"wgVisualEditor\":{\"pageLanguageCode\":\"de\",\"pageLanguageDir\":\"ltr\",\"pageVariantFallbacks\":\"de\"},\"wgMFDisplayWikibaseDescriptions\":{\"search\":!0,\"nearby\":!0,\"watchlist\":!0,\"tagline\":!0},\"wgWMESchemaEditAttemptStepOversample\":!1,\"wgULSCurrentAutonym\":\"Deutsch\",\"wgNoticeProject\":\"wikipedia\",\"wgCentralAuthMobileDomain\":!1,\"wgEditSubmitButtonLabelPublish\":!0,\"wgULSPosition\":\"interlanguage\",\"wgULSisCompactLinksEnabled\":!0,\"wgGENewcomerTasksGuidanceEnabled\":!0,\"wgGEAskQuestionEnabled\":!0,\"wgGELinkRecommendationsFrontendEnabled\":!1,\"wgWikibaseItemId\":\"Q249091\"};RLSTATE={\"ext.globalCssJs.user.styles\":\"ready\",\"site.styles\":\"ready\",\"noscript\":\"ready\",\"user.styles\":\"ready\",\"ext.globalCssJs.user\":\"ready\",\"user\":\"ready\",\"user.options\":\"loading\",\"ext.flaggedRevs.icons\":\"ready\",\\n\"oojs-ui-core.styles\":\"ready\",\"oojs-ui.styles.indicators\":\"ready\",\"mediawiki.widgets.styles\":\"ready\",\"oojs-ui-core.icons\":\"ready\",\"ext.cite.styles\":\"ready\",\"ext.3d.styles\":\"ready\",\"skins.vector.styles.legacy\":\"ready\",\"ext.flaggedRevs.basic\":\"ready\",\"ext.visualEditor.desktopArticleTarget.noscript\":\"ready\",\"ext.uls.interlanguage\":\"ready\",\"ext.wikimediaBadges\":\"ready\",\"wikibase.client.init\":\"ready\"};RLPAGEMODULES=[\"ext.cite.ux-enhancements\",\"site\",\"mediawiki.page.ready\",\"mediawiki.toc\",\"skins.vector.legacy.js\",\"ext.flaggedRevs.advanced\",\"ext.gadget.editMenus\",\"ext.gadget.WikiMiniAtlas\",\"ext.gadget.OpenStreetMap\",\"ext.gadget.CommonsDirekt\",\"ext.centralauth.centralautologin\",\"mmv.head\",\"mmv.bootstrap.autostart\",\"ext.popups\",\"ext.visualEditor.desktopArticleTarget.init\",\"ext.visualEditor.targetLoader\",\"ext.eventLogging\",\"ext.wikimediaEvents\",\"ext.navigationTiming\",\"ext.uls.compactlinks\",\"ext.uls.interface\",\"ext.cx.eventlogging.campaigns\",\"ext.centralNotice.geoIP\",\"ext.centralNotice.startUp\",\\n\"ext.growthExperiments.SuggestedEditSession\"];</script>\\n<script>(RLQ=window.RLQ||[]).push(function(){mw.loader.implement(\"user.options@1hzgi\",function($,jQuery,require,module){/*@nomin*/mw.user.tokens.set({\"patrolToken\":\"+\\\\\\\\\",\"watchToken\":\"+\\\\\\\\\",\"csrfToken\":\"+\\\\\\\\\"});mw.user.options.set({\"variant\":\"de\"});\\n});});</script>\\n<link rel=\"stylesheet\" href=\"/w/load.php?lang=de&amp;modules=ext.3d.styles%7Cext.cite.styles%7Cext.flaggedRevs.basic%2Cicons%7Cext.uls.interlanguage%7Cext.visualEditor.desktopArticleTarget.noscript%7Cext.wikimediaBadges%7Cmediawiki.widgets.styles%7Coojs-ui-core.icons%2Cstyles%7Coojs-ui.styles.indicators%7Cskins.vector.styles.legacy%7Cwikibase.client.init&amp;only=styles&amp;skin=vector\"/>\\n<script async=\"\" src=\"/w/load.php?lang=de&amp;modules=startup&amp;only=scripts&amp;raw=1&amp;skin=vector\"></script>\\n<meta name=\"ResourceLoaderDynamicStyles\" content=\"\"/>\\n<link rel=\"stylesheet\" href=\"/w/load.php?lang=de&amp;modules=site.styles&amp;only=styles&amp;skin=vector\"/>\\n<meta name=\"generator\" content=\"MediaWiki 1.37.0-wmf.20\"/>\\n<meta name=\"referrer\" content=\"origin\"/>\\n<meta name=\"referrer\" content=\"origin-when-crossorigin\"/>\\n<meta name=\"referrer\" content=\"origin-when-cross-origin\"/>\\n<meta name=\"format-detection\" content=\"telephone=no\"/>\\n<meta property=\"og:image\" content=\"https://upload.wikimedia.org/wikipedia/commons/thumb/d/df/Iridium-1_Launch_%2832312419215%29.jpg/1200px-Iridium-1_Launch_%2832312419215%29.jpg\"/>\\n<meta property=\"og:title\" content=\"Falcon 9 \\xe2\\x80\\x93 Wikipedia\"/>\\n<meta property=\"og:type\" content=\"website\"/>\\n<link rel=\"preconnect\" href=\"//upload.wikimedia.org\"/>\\n<link rel=\"alternate\" media=\"only screen and (max-width: 720px)\" href=\"//de.m.wikipedia.org/wiki/Falcon_9\"/>\\n<link rel=\"alternate\" type=\"application/x-wiki\" title=\"Seite bearbeiten\" href=\"/w/index.php?title=Falcon_9&amp;action=edit\"/>\\n<link rel=\"edit\" title=\"Seite bearbeiten\" href=\"/w/index.php?title=Falcon_9&amp;action=edit\"/>\\n<link rel=\"apple-touch-icon\" href=\"/static/apple-touch/wikipedia.png\"/>\\n<link rel=\"shortcut icon\" href=\"/static/favicon/wikipedia.ico\"/>\\n<link rel=\"search\" type=\"application/opensearchdescription+xml\" href=\"/w/opensearch_desc.php\" title=\"Wikipedia (de)\"/>\\n<link rel=\"EditURI\" type=\"application/rsd+xml\" href=\"//de.wikipedia.org/w/api.php?action=rsd\"/>\\n<link rel=\"license\" href=\"//creativecommons.org/licenses/by-sa/3.0/\"/>\\n<link rel=\"canonical\" href=\"https://de.wikipedia.org/wiki/Falcon_9\"/>\\n<link rel=\"dns-prefetch\" href=\"//login.wikimedia.org\"/>\\n<link rel=\"dns-prefetch\" href=\"//meta.wikimedia.org\" />\\n</head>\\n<body class=\"mediawiki ltr sitedir-ltr mw-hide-empty-elt ns-0 ns-subject mw-editable page-Falcon_9 rootpage-Falcon_9 skin-vector action-view skin-vector-legacy\"><div id=\"mw-page-base\" class=\"noprint\"></div>\\n<div id=\"mw-head-base\" class=\"noprint\"></div>\\n<div id=\"content\" class=\"mw-body\" role=\"main\">\\n\\t<a id=\"top\"></a>\\n\\t<div id=\"siteNotice\"><!-- CentralNotice --></div>\\n\\t<div class=\"mw-indicators\">\\n\\t</div>\\n\\t<h1 id=\"firstHeading\" class=\"firstHeading\" >Falcon 9</h1>\\n\\t<div id=\"bodyContent\" class=\"vector-body\">\\n\\t\\t<div id=\"siteSub\" class=\"noprint\">aus Wikipedia, der freien Enzyklop\\xc3\\xa4die</div>\\n\\t\\t<div id=\"contentSub\"></div>\\n\\t\\t<div id=\"contentSub2\"></div>\\n\\t\\t\\n\\t\\t<div id=\"jump-to-nav\"></div>\\n\\t\\t<a class=\"mw-jump-link\" href=\"#mw-head\">Zur Navigation springen</a>\\n\\t\\t<a class=\"mw-jump-link\" href=\"#searchInput\">Zur Suche springen</a>\\n\\t\\t<div id=\"mw-content-text\" class=\"mw-body-content mw-content-ltr\" lang=\"de\" dir=\"ltr\"><div class=\"mw-parser-output\"><div class=\"thumb tright\"><div class=\"thumbinner\" style=\"width:222px;\"><a href=\"/wiki/Datei:Iridium-1_Launch_(32312419215).jpg\" class=\"image\"><img alt=\"\" src=\"//upload.wikimedia.org/wikipedia/commons/thumb/d/df/Iridium-1_Launch_%2832312419215%29.jpg/220px-Iridium-1_Launch_%2832312419215%29.jpg\" decoding=\"async\" width=\"220\" height=\"330\" class=\"thumbimage\" srcset=\"//upload.wikimedia.org/wikipedia/commons/thumb/d/df/Iridium-1_Launch_%2832312419215%29.jpg/330px-Iridium-1_Launch_%2832312419215%29.jpg 1.5x, //upload.wikimedia.org/wikipedia/commons/thumb/d/df/Iridium-1_Launch_%2832312419215%29.jpg/440px-Iridium-1_Launch_%2832312419215%29.jpg 2x\" data-file-width=\"2000\" data-file-height=\"3000\" /></a>  <div class=\"thumbcaption\"><div class=\"magnify\"><a href=\"/wiki/Datei:Iridium-1_Launch_(32312419215).jpg\" class=\"internal\" title=\"vergr\\xc3\\xb6\\xc3\\x9fern und Informationen zum Bild anzeigen\"></a></div>Start einer Falcon 9 v1.2 mit den ersten zehn <a href=\"/wiki/Iridium_(Kommunikationssystem)\" title=\"Iridium (Kommunikationssystem)\">Iridium-NEXT-Satelliten</a> (2017)</div></div></div>\\n<p><b>Falcon 9</b> ist die Bezeichnung einer <a href=\"/wiki/Mehrstufenrakete\" class=\"mw-redirect\" title=\"Mehrstufenrakete\">zweistufigen</a> US-amerikanischen <a href=\"/wiki/Tr%C3%A4gerrakete\" title=\"Tr\\xc3\\xa4gerrakete\">Tr\\xc3\\xa4gerrakete</a>, die von dem Raumfahrtunternehmen <a href=\"/wiki/SpaceX\" title=\"SpaceX\">SpaceX</a> f\\xc3\\xbcr <a href=\"/wiki/Satellitenorbit#Low_Earth_Orbit_(LEO)\" title=\"Satellitenorbit\">orbitale</a> Nutzlasten von bis zu 23&#160;Tonnen entwickelt wurde und eingesetzt wird. Sie basierte urspr\\xc3\\xbcnglich auf der kleineren <a href=\"/wiki/Falcon_1\" title=\"Falcon 1\">Falcon&#160;1</a>, verwendet aber ein anderes Triebwerk in der Zweitstufe und neun Triebwerke statt einem in der Erststufe. Von der Falcon&#160;9 wurde die <a href=\"/wiki/Falcon_Heavy\" title=\"Falcon Heavy\">Falcon Heavy</a> abgeleitet, eine mit zwei zus\\xc3\\xa4tzlichen <a href=\"/wiki/Booster_(Raketenantrieb)\" title=\"Booster (Raketenantrieb)\">Boostern</a> versehene Schwerlastrakete f\\xc3\\xbcr Nutzlasten von bis zu 64&#160;Tonnen.\\n</p><p>Im Rahmen des CRS-Programms (<span lang=\"en\"><a href=\"/wiki/Commercial_Resupply_Services\" title=\"Commercial Resupply Services\">Commercial Resupply Services</a></span>) der <a href=\"/wiki/NASA\" title=\"NASA\">NASA</a> wird die Rakete in Verbindung mit dem <a href=\"/wiki/Dragon_2\" title=\"Dragon 2\">Dragon-Raumschiff</a> zur Versorgung der <a href=\"/wiki/Internationale_Raumstation\" title=\"Internationale Raumstation\">Internationalen Raumstation</a> verwendet. Haupts\\xc3\\xa4chlich wird die Rakete aber f\\xc3\\xbcr den Start von <a href=\"/wiki/Satellit_(Raumfahrt)\" title=\"Satellit (Raumfahrt)\">Satelliten</a> eingesetzt. Der erste Start einer Dragon fand im Juni 2010 statt. Im Mai 2020 erfolgte mit der <a href=\"/wiki/Dragon_2\" title=\"Dragon 2\">Crew-Dragon</a>-Kapsel im Rahmen des <a href=\"/wiki/CCDev\" class=\"mw-redirect\" title=\"CCDev\">CCDev</a>-Programms der erste Einsatz mit Astronauten zur ISS.\\n</p><p>Die Falcon 9 ist teilweise wiederverwendbar. Die Erststufe (Boosterstufe) kann nach der Abkopplung der Zweitstufe auf einer schwimmenden Plattform im Ozean oder nach einem R\\xc3\\xbcckflug in der N\\xc3\\xa4he des Startplatzes landen. Die erste erfolgreiche Landung gelang am 21.&#160;Dezember 2015 (Ortszeit, 22. Dezember <a href=\"/wiki/UTC\" class=\"mw-redirect\" title=\"UTC\">UTC</a>) am Cape Canaveral.<sup id=\"cite_ref-twitter.com_1-0\" class=\"reference\"><a href=\"#cite_note-twitter.com-1\">&#91;1&#93;</a></sup><sup id=\"cite_ref-zeitonlinegmbh,hamburg,germany_2-0\" class=\"reference\"><a href=\"#cite_note-zeitonlinegmbh,hamburg,germany-2\">&#91;2&#93;</a></sup> Die erneute Nutzung einer bereits geflogenen ersten Stufe erfolgte erstmals nach dem Start des Satelliten <a href=\"/wiki/SES-10\" title=\"SES-10\">SES-10</a> am 30.&#160;M\\xc3\\xa4rz 2017.<sup id=\"cite_ref-3\" class=\"reference\"><a href=\"#cite_note-3\">&#91;3&#93;</a></sup> <a href=\"/wiki/SpX-DM2\" title=\"SpX-DM2\">Im Mai/Juni 2020</a> wurden mit dieser Rakete zwei Astronauten in einer Crew-Dragon-Kapsel vom <a href=\"/wiki/Kennedy_Space_Center\" title=\"Kennedy Space Center\">Kennedy Space Center</a> zur ISS gebracht. Dies war die erste bemannte Weltraummission der USA seit dem <a href=\"/wiki/Space_Shuttle\" title=\"Space Shuttle\">Space-Shuttle-Programm</a>.\\n</p>\\n<div id=\"toc\" class=\"toc\" role=\"navigation\" aria-labelledby=\"mw-toc-heading\"><input type=\"checkbox\" role=\"button\" id=\"toctogglecheckbox\" class=\"toctogglecheckbox\" style=\"display:none\" /><div class=\"toctitle\" lang=\"de\" dir=\"ltr\"><h2 id=\"mw-toc-heading\">Inhaltsverzeichnis</h2><span class=\"toctogglespan\"><label class=\"toctogglelabel\" for=\"toctogglecheckbox\"></label></span></div>\\n<ul>\\n<li class=\"toclevel-1 tocsection-1\"><a href=\"#Geschichte\"><span class=\"tocnumber\">1</span> <span class=\"toctext\">Geschichte</span></a>\\n<ul>\\n<li class=\"toclevel-2 tocsection-2\"><a href=\"#V1.0\"><span class=\"tocnumber\">1.1</span> <span class=\"toctext\">V1.0</span></a></li>\\n<li class=\"toclevel-2 tocsection-3\"><a href=\"#V1.1\"><span class=\"tocnumber\">1.2</span> <span class=\"toctext\">V1.1</span></a></li>\\n<li class=\"toclevel-2 tocsection-4\"><a href=\"#V1.2_/_Full_Thrust\"><span class=\"tocnumber\">1.3</span> <span class=\"toctext\">V1.2 / Full Thrust</span></a>\\n<ul>\\n<li class=\"toclevel-3 tocsection-5\"><a href=\"#Block_3\"><span class=\"tocnumber\">1.3.1</span> <span class=\"toctext\">Block 3</span></a></li>\\n<li class=\"toclevel-3 tocsection-6\"><a href=\"#Block_4\"><span class=\"tocnumber\">1.3.2</span> <span class=\"toctext\">Block 4</span></a></li>\\n<li class=\"toclevel-3 tocsection-7\"><a href=\"#Block_5\"><span class=\"tocnumber\">1.3.3</span> <span class=\"toctext\">Block 5</span></a></li>\\n</ul>\\n</li>\\n<li class=\"toclevel-2 tocsection-8\"><a href=\"#Zwischenf\\xc3\\xa4lle\"><span class=\"tocnumber\">1.4</span> <span class=\"toctext\">Zwischenf\\xc3\\xa4lle</span></a></li>\\n</ul>\\n</li>\\n<li class=\"toclevel-1 tocsection-9\"><a href=\"#Aufbau\"><span class=\"tocnumber\">2</span> <span class=\"toctext\">Aufbau</span></a>\\n<ul>\\n<li class=\"toclevel-2 tocsection-10\"><a href=\"#Nutzlastverkleidung\"><span class=\"tocnumber\">2.1</span> <span class=\"toctext\">Nutzlastverkleidung</span></a></li>\\n<li class=\"toclevel-2 tocsection-11\"><a href=\"#Wiederverwendbarkeit\"><span class=\"tocnumber\">2.2</span> <span class=\"toctext\">Wiederverwendbarkeit</span></a>\\n<ul>\\n<li class=\"toclevel-3 tocsection-12\"><a href=\"#Erste_Stufe\"><span class=\"tocnumber\">2.2.1</span> <span class=\"toctext\">Erste Stufe</span></a></li>\\n<li class=\"toclevel-3 tocsection-13\"><a href=\"#Nutzlastverkleidung_2\"><span class=\"tocnumber\">2.2.2</span> <span class=\"toctext\">Nutzlastverkleidung</span></a></li>\\n<li class=\"toclevel-3 tocsection-14\"><a href=\"#Zweite_Stufe\"><span class=\"tocnumber\">2.2.3</span> <span class=\"toctext\">Zweite Stufe</span></a></li>\\n</ul>\\n</li>\\n</ul>\\n</li>\\n<li class=\"toclevel-1 tocsection-15\"><a href=\"#Falcon_Heavy\"><span class=\"tocnumber\">3</span> <span class=\"toctext\">Falcon Heavy</span></a></li>\\n<li class=\"toclevel-1 tocsection-16\"><a href=\"#Technische_und_wirtschaftliche_Daten\"><span class=\"tocnumber\">4</span> <span class=\"toctext\">Technische und wirtschaftliche Daten</span></a></li>\\n<li class=\"toclevel-1 tocsection-17\"><a href=\"#Startrampen_und_Landepl\\xc3\\xa4tze\"><span class=\"tocnumber\">5</span> <span class=\"toctext\">Startrampen und Landepl\\xc3\\xa4tze</span></a></li>\\n<li class=\"toclevel-1 tocsection-18\"><a href=\"#Startliste\"><span class=\"tocnumber\">6</span> <span class=\"toctext\">Startliste</span></a></li>\\n<li class=\"toclevel-1 tocsection-19\"><a href=\"#Weblinks\"><span class=\"tocnumber\">7</span> <span class=\"toctext\">Weblinks</span></a></li>\\n<li class=\"toclevel-1 tocsection-20\"><a href=\"#Einzelnachweise\"><span class=\"tocnumber\">8</span> <span class=\"toctext\">Einzelnachweise</span></a></li>\\n</ul>\\n</div>\\n\\n<h2><span class=\"mw-headline\" id=\"Geschichte\">Geschichte</span><span class=\"mw-editsection\"><span class=\"mw-editsection-bracket\">[</span><a href=\"/w/index.php?title=Falcon_9&amp;veaction=edit&amp;section=1\" class=\"mw-editsection-visualeditor\" title=\"Abschnitt bearbeiten: Geschichte\">Bearbeiten</a><span class=\"mw-editsection-divider\"> | </span><a href=\"/w/index.php?title=Falcon_9&amp;action=edit&amp;section=1\" title=\"Abschnitt bearbeiten: Geschichte\">Quelltext bearbeiten</a><span class=\"mw-editsection-bracket\">]</span></span></h2>\\n<div class=\"thumb tleft\"><div class=\"thumbinner\" style=\"width:402px;\"><a href=\"/wiki/Datei:Falcon_rocket_family6.svg\" class=\"image\"><img alt=\"\" src=\"//upload.wikimedia.org/wikipedia/commons/thumb/f/f7/Falcon_rocket_family6.svg/400px-Falcon_rocket_family6.svg.png\" decoding=\"async\" width=\"400\" height=\"178\" class=\"thumbimage\" srcset=\"//upload.wikimedia.org/wikipedia/commons/thumb/f/f7/Falcon_rocket_family6.svg/600px-Falcon_rocket_family6.svg.png 1.5x, //upload.wikimedia.org/wikipedia/commons/thumb/f/f7/Falcon_rocket_family6.svg/800px-Falcon_rocket_family6.svg.png 2x\" data-file-width=\"957\" data-file-height=\"425\" /></a>  <div class=\"thumbcaption\"><div class=\"magnify\"><a href=\"/wiki/Datei:Falcon_rocket_family6.svg\" class=\"internal\" title=\"vergr\\xc3\\xb6\\xc3\\x9fern und Informationen zum Bild anzeigen\"></a></div>V.&#160;l.&#160;n.&#160;r.: <a href=\"/wiki/Falcon_1\" title=\"Falcon 1\">Falcon 1</a>, Falcon 9 v1.0, drei Versionen der Falcon 9 v1.1, drei Versionen der Falcon 9 v1.2, drei Versionen der Falcon 9 Block 5 und zwei Versionen der Falcon Heavy</div></div></div>\\n<p>Im September 2005 gab SpaceX bekannt, zus\\xc3\\xa4tzlich zur Falcon 1 und der geplanten, vollst\\xc3\\xa4ndig wiederverwendbaren <a href=\"/wiki/Falcon_5\" class=\"mw-redirect\" title=\"Falcon 5\">Falcon&#160;5</a> eine noch st\\xc3\\xa4rkere, ebenfalls vollst\\xc3\\xa4ndig wiederverwendbare Tr\\xc3\\xa4gerrakete mit der Bezeichnung Falcon&#160;9 entwickeln zu wollen.<sup id=\"cite_ref-4\" class=\"reference\"><a href=\"#cite_note-4\">&#91;4&#93;</a></sup>\\n</p>\\n<h3><span class=\"mw-headline\" id=\"V1.0\">V1.0</span><span class=\"mw-editsection\"><span class=\"mw-editsection-bracket\">[</span><a href=\"/w/index.php?title=Falcon_9&amp;veaction=edit&amp;section=2\" class=\"mw-editsection-visualeditor\" title=\"Abschnitt bearbeiten: V1.0\">Bearbeiten</a><span class=\"mw-editsection-divider\"> | </span><a href=\"/w/index.php?title=Falcon_9&amp;action=edit&amp;section=2\" title=\"Abschnitt bearbeiten: V1.0\">Quelltext bearbeiten</a><span class=\"mw-editsection-bracket\">]</span></span></h3>\\n<p>Die <a href=\"/wiki/Erststufe\" class=\"mw-redirect\" title=\"Erststufe\">erste Stufe</a> der Falcon 9 Version 1.0 (9&#160;v1.0) verwendete neun <a href=\"/wiki/Merlin_(Raketentriebwerk)\" title=\"Merlin (Raketentriebwerk)\">Merlin-1C</a>-Triebwerke in quadratischer Anordnung, die zweite Stufe ein einzelnes mit einer verl\\xc3\\xa4ngerten Ausstr\\xc3\\xb6md\\xc3\\xbcse ausgestattetes Merlin-1C. Die Rakete mit ihren neun Triebwerken ist auch beim Ausfall eines Triebwerkes in jeder Flugphase der Unterstufe beherrschbar. Am 4.&#160;Juni 2010 erfolgte nach vielen Verz\\xc3\\xb6gerungen von <a href=\"/wiki/Cape_Canaveral_Air_Force_Station\" class=\"mw-redirect\" title=\"Cape Canaveral Air Force Station\">Cape Canaveral</a> (<a href=\"/wiki/Cape_Canaveral_AFS_Launch_Complex_40\" class=\"mw-redirect\" title=\"Cape Canaveral AFS Launch Complex 40\">LC40</a>) aus der erfolgreiche Jungfernflug der Falcon&#160;9. Sie erreichte den Erdorbit und f\\xc3\\xbchrte die Trennung von der ersten Stufe durch. Die Nutzlastkapazit\\xc3\\xa4t der ersten Version der Falcon&#160;9 v1.0 lag bei etwa 10.000&#160;kg f\\xc3\\xbcr einen <a href=\"/wiki/Niedrige_Erdumlaufbahn\" class=\"mw-redirect\" title=\"Niedrige Erdumlaufbahn\">niedrigen Orbit</a> (LEO).\\n</p>\\n<div class=\"thumb tright\"><div class=\"thumbinner\" style=\"width:222px;\"><a href=\"/wiki/Datei:Falcon_9_v1.0_and_v1.1_engine.svg\" class=\"image\"><img alt=\"\" src=\"//upload.wikimedia.org/wikipedia/commons/thumb/5/58/Falcon_9_v1.0_and_v1.1_engine.svg/220px-Falcon_9_v1.0_and_v1.1_engine.svg.png\" decoding=\"async\" width=\"220\" height=\"156\" class=\"thumbimage\" srcset=\"//upload.wikimedia.org/wikipedia/commons/thumb/5/58/Falcon_9_v1.0_and_v1.1_engine.svg/330px-Falcon_9_v1.0_and_v1.1_engine.svg.png 1.5x, //upload.wikimedia.org/wikipedia/commons/thumb/5/58/Falcon_9_v1.0_and_v1.1_engine.svg/440px-Falcon_9_v1.0_and_v1.1_engine.svg.png 2x\" data-file-width=\"1052\" data-file-height=\"744\" /></a>  <div class=\"thumbcaption\"><div class=\"magnify\"><a href=\"/wiki/Datei:Falcon_9_v1.0_and_v1.1_engine.svg\" class=\"internal\" title=\"vergr\\xc3\\xb6\\xc3\\x9fern und Informationen zum Bild anzeigen\"></a></div>Anordnung der Triebwerke der Falcon&#160;9&#160;v1.0 (links) und der Falcon&#160;9&#160;v1.1 (rechts)</div></div></div>\\n<h3><span class=\"mw-headline\" id=\"V1.1\">V1.1</span><span class=\"mw-editsection\"><span class=\"mw-editsection-bracket\">[</span><a href=\"/w/index.php?title=Falcon_9&amp;veaction=edit&amp;section=3\" class=\"mw-editsection-visualeditor\" title=\"Abschnitt bearbeiten: V1.1\">Bearbeiten</a><span class=\"mw-editsection-divider\"> | </span><a href=\"/w/index.php?title=Falcon_9&amp;action=edit&amp;section=3\" title=\"Abschnitt bearbeiten: V1.1\">Quelltext bearbeiten</a><span class=\"mw-editsection-bracket\">]</span></span></h3>\\n<p>Version 1.0 wurde schon nach f\\xc3\\xbcnf Starts durch die leistungsst\\xc3\\xa4rkere Version <i>v1.1</i> ersetzt. Bei dieser Ausbaustufe wurden die leistungsst\\xc3\\xa4rkeren Merlin-1D-Triebwerke verwendet. Durch den h\\xc3\\xb6heren Schub konnte nun auch mehr Treibstoff mitgenommen werden. Um diesen aufnehmen zu k\\xc3\\xb6nnen, wurden die Tanks der ersten und zweiten Stufe verl\\xc3\\xa4ngert. Die Triebwerke der Erststufe wurden nun in einem Ring aus acht Triebwerken um ein zentrales Triebwerk gruppiert, von SpaceX wird diese Anordnung als <i>Octaweb</i> bezeichnet. Diese Version konnte etwa 13.000&#160;kg in einen <a href=\"/wiki/Satellitenorbit#Low_Earth_Orbit_(LEO)\" title=\"Satellitenorbit\">LEO</a> und 5.000&#160;kg in einen <a href=\"/wiki/Geostation%C3%A4re_Transferbahn\" title=\"Geostation\\xc3\\xa4re Transferbahn\">GTO</a> bef\\xc3\\xb6rdern, wobei unklar war, ob diese Werte die Nutzlasteinbu\\xc3\\x9fe bei einer Wiederverwendung der Erststufe mit einbezogen. Mit dieser Version wurden erstmals Versuche unternommen, die Erststufe nach der Abtrennung von der Oberstufe kontrolliert zu landen; diese Versuche scheiterten jedoch.\\n</p>\\n<h3><span id=\"V1.2_.2F_Full_Thrust\"></span><span class=\"mw-headline\" id=\"V1.2_/_Full_Thrust\"><span id=\"Full_Thrust\"></span><span id=\"V1.2\"></span>V1.2 / Full Thrust</span><span class=\"mw-editsection\"><span class=\"mw-editsection-bracket\">[</span><a href=\"/w/index.php?title=Falcon_9&amp;veaction=edit&amp;section=4\" class=\"mw-editsection-visualeditor\" title=\"Abschnitt bearbeiten: V1.2 / Full Thrust\">Bearbeiten</a><span class=\"mw-editsection-divider\"> | </span><a href=\"/w/index.php?title=Falcon_9&amp;action=edit&amp;section=4\" title=\"Abschnitt bearbeiten: V1.2 / Full Thrust\">Quelltext bearbeiten</a><span class=\"mw-editsection-bracket\">]</span></span></h3>\\n<p>Im Laufe des Jahres 2015 wurden schlie\\xc3\\x9flich weitere Verbesserungen an der Falcon&#160;9 angek\\xc3\\xbcndigt. Die Merlin-1D-Triebwerke wurden im Schub gesteigert, was wiederum die Treibstoffkapazit\\xc3\\xa4t erh\\xc3\\xb6ht. Dies wird einerseits durch Unterk\\xc3\\xbchlung und somit h\\xc3\\xb6herer Dichte des <a href=\"/wiki/Kerosin\" title=\"Kerosin\">Kerosins</a> und <a href=\"/wiki/Fl%C3%BCssigsauerstoff\" title=\"Fl\\xc3\\xbcssigsauerstoff\">fl\\xc3\\xbcssigen Sauerstoffs</a> f\\xc3\\xbcr beide Stufen und andererseits durch vergr\\xc3\\xb6\\xc3\\x9ferte Tanks in der Oberstufe erreicht. Diese Version wurde inoffiziell zun\\xc3\\xa4chst <i>v1.1 Full Thrust</i> bezeichnet. In SpaceX-Ver\\xc3\\xb6ffentlichungen hie\\xc3\\x9f auch diese Version zun\\xc3\\xa4chst einfach Falcon&#160;9; auch unterschieden sich die Nutzlastangaben nicht von der <i>v1.1</i>. In offiziellen Dokumenten der <a href=\"/wiki/Federal_Aviation_Administration\" title=\"Federal Aviation Administration\">FAA</a> erhielt sie die Bezeichnung v1.2.<sup id=\"cite_ref-5\" class=\"reference\"><a href=\"#cite_note-5\">&#91;5&#93;</a></sup> Der erste Start am 21.&#160;Dezember 2015 nach dem Fehlstart im Juni 2015 war zugleich der erste Start dieser letzten Ausbaustufe, zum ersten Mal gelang erfolgreich der R\\xc3\\xbcckflug und die Landung der Erststufe. 2016 gelangen bis August acht Starts und die meisten Landungen.\\n</p>\\n<h4><span class=\"mw-headline\" id=\"Block_3\"><span id=\"Block_3\"></span>Block 3</span><span class=\"mw-editsection\"><span class=\"mw-editsection-bracket\">[</span><a href=\"/w/index.php?title=Falcon_9&amp;veaction=edit&amp;section=5\" class=\"mw-editsection-visualeditor\" title=\"Abschnitt bearbeiten: Block 3\">Bearbeiten</a><span class=\"mw-editsection-divider\"> | </span><a href=\"/w/index.php?title=Falcon_9&amp;action=edit&amp;section=5\" title=\"Abschnitt bearbeiten: Block 3\">Quelltext bearbeiten</a><span class=\"mw-editsection-bracket\">]</span></span></h4>\\n<p>Die Falcon 9 <i>Full Thrust</i> wurde in mehreren Schritten (<i>blocks</i>) weiterentwickelt,<sup id=\"cite_ref-6\" class=\"reference\"><a href=\"#cite_note-6\">&#91;6&#93;</a></sup> wobei zun\\xc3\\xa4chst vor allem die Variante <i>Block 3</i> bekannt wurde. Im Jahr 2017 gelangen 13 Starts des <i>Block 3</i> und neun von neun Landungen an Land oder auf einem Drohnenschiff. Zwei umgebaute Block-3-Erststufen dienten als <a href=\"/wiki/Booster_(Raketenantrieb)\" title=\"Booster (Raketenantrieb)\">Booster</a> beim <a href=\"/wiki/Falcon_Heavy_Demonstration_Mission\" title=\"Falcon Heavy Demonstration Mission\">Erstflug der <i>Falcon Heavy</i></a> am 6.&#160;Februar 2018. Am 22. desselben Monats fand mit dem <a href=\"/wiki/Paz_(Satellit)\" title=\"Paz (Satellit)\">Paz</a>-Start der letzte Flug des <i>Block 3</i> statt; danach wurde er ausgemustert.\\n</p>\\n<h4><span class=\"mw-headline\" id=\"Block_4\"><span id=\"Block_4\"></span>Block 4</span><span class=\"mw-editsection\"><span class=\"mw-editsection-bracket\">[</span><a href=\"/w/index.php?title=Falcon_9&amp;veaction=edit&amp;section=6\" class=\"mw-editsection-visualeditor\" title=\"Abschnitt bearbeiten: Block 4\">Bearbeiten</a><span class=\"mw-editsection-divider\"> | </span><a href=\"/w/index.php?title=Falcon_9&amp;action=edit&amp;section=6\" title=\"Abschnitt bearbeiten: Block 4\">Quelltext bearbeiten</a><span class=\"mw-editsection-bracket\">]</span></span></h4>\\n<p>Block 4 fliegt seit dem Sommer 2017 und hat einige Verbesserungen gegen\\xc3\\xbcber Block&#160;3. Block&#160;4 sollte \\xc3\\xb6fter wiederverwendet werden als Block&#160;3. Der erste Start einer Falcon&#160;9 Full Thrust Block&#160;4 fand am 14.&#160;August 2017 mit der <a href=\"/wiki/Dragon_(Raumschiff)\" title=\"Dragon (Raumschiff)\">Dragon</a>-Versorgungsmission <a href=\"/wiki/Commercial_Resupply_Services\" title=\"Commercial Resupply Services\">CRS</a>&#160;12 statt. Es wurden neue <a href=\"/wiki/Gitterflosse\" title=\"Gitterflosse\">Gitterflossen</a> aus <a href=\"/wiki/Titan_(Element)\" title=\"Titan (Element)\">Titan</a> eingef\\xc3\\xbchrt, die auf Grund von Fertigungsengp\\xc3\\xa4ssen anfangs nur in Kombination mit einer Falcon&#160;9FT Block&#160;3 bei der Iridium-2-Mission und beim Falcon-Heavy-Erstflug eingesetzt wurden, um die h\\xc3\\xb6here Effizienz und Haltbarkeit zu demonstrieren.<sup id=\"cite_ref-7\" class=\"reference\"><a href=\"#cite_note-7\">&#91;7&#93;</a></sup><sup id=\"cite_ref-8\" class=\"reference\"><a href=\"#cite_note-8\">&#91;8&#93;</a></sup><sup id=\"cite_ref-9\" class=\"reference\"><a href=\"#cite_note-9\">&#91;9&#93;</a></sup> Die Titangitterflossen sind gr\\xc3\\xb6\\xc3\\x9fer und so auch effizienter. Durch das verwendete <a href=\"/wiki/Titan_(Element)\" title=\"Titan (Element)\">Titan</a> k\\xc3\\xb6nnen die Gitterflossen quasi unendlich oft wiederverwendet werden. Die alten <a href=\"/wiki/Aluminium\" title=\"Aluminium\">Aluminium</a>gitterflossen waren mit einer <a href=\"/wiki/Ablative_K%C3%BChlung\" class=\"mw-redirect\" title=\"Ablative K\\xc3\\xbchlung\">ablativen</a> Beschichtung ummantelt und mussten nach jedem Start wiederaufbereitet werden. Am <a href=\"/wiki/Liste_der_Falcon-Raketenstarts\" class=\"mw-redirect\" title=\"Liste der Falcon-Raketenstarts\">30. M\\xc3\\xa4rz 2018</a> wurde erstmals eine Block-4-Erststufe wiederverwendet.\\n</p>\\n<h4><span class=\"mw-headline\" id=\"Block_5\">Block 5</span><span class=\"mw-editsection\"><span class=\"mw-editsection-bracket\">[</span><a href=\"/w/index.php?title=Falcon_9&amp;veaction=edit&amp;section=7\" class=\"mw-editsection-visualeditor\" title=\"Abschnitt bearbeiten: Block 5\">Bearbeiten</a><span class=\"mw-editsection-divider\"> | </span><a href=\"/w/index.php?title=Falcon_9&amp;action=edit&amp;section=7\" title=\"Abschnitt bearbeiten: Block 5\">Quelltext bearbeiten</a><span class=\"mw-editsection-bracket\">]</span></span></h4>\\n<p>Ende 2016 wurde eine weitere Version, <i>Block 5,</i> angek\\xc3\\xbcndigt, die viele Weiterentwicklungen haben sollte:<sup id=\"cite_ref-10\" class=\"reference\"><a href=\"#cite_note-10\">&#91;10&#93;</a></sup> Der Schub sollte um 7 bis 8&#160;% angehoben werden,<sup id=\"cite_ref-11\" class=\"reference\"><a href=\"#cite_note-11\">&#91;11&#93;</a></sup> eine bessere Steuerung durch einen optimierten <a href=\"/wiki/Anstellwinkel\" title=\"Anstellwinkel\">Anstellwinkel</a> sollte die Nutzlastkapazit\\xc3\\xa4t erh\\xc3\\xb6hen,<sup id=\"cite_ref-12\" class=\"reference\"><a href=\"#cite_note-12\">&#91;12&#93;</a></sup> die Gitterflossen werden aus hitzefestem Titan geschmiedet<sup id=\"cite_ref-13\" class=\"reference\"><a href=\"#cite_note-13\">&#91;13&#93;</a></sup> und die Landebeine sollten verbessert werden.<sup id=\"cite_ref-14\" class=\"reference\"><a href=\"#cite_note-14\">&#91;14&#93;</a></sup> Ferner soll eine <a href=\"/wiki/W%C3%A4rmed%C3%A4mmung\" title=\"W\\xc3\\xa4rmed\\xc3\\xa4mmung\">W\\xc3\\xa4rmed\\xc3\\xa4mmung</a> die aktuelle Farbe ersetzen, die beim Wiedereintritt schmilzt und Blasen wirft.<sup id=\"cite_ref-15\" class=\"reference\"><a href=\"#cite_note-15\">&#91;15&#93;</a></sup> Die Heliumtanks sollten so verbessert werden, dass sie schneller betankt und h\\xc3\\xa4ufiger wiederverwendet werden k\\xc3\\xb6nnen. Insgesamt sollte es etwa 100 Verbesserungen geben.<sup id=\"cite_ref-16\" class=\"reference\"><a href=\"#cite_note-16\">&#91;16&#93;</a></sup> Der erste Start wurde zun\\xc3\\xa4chst f\\xc3\\xbcr Ende 2017 angek\\xc3\\xbcndigt,<sup id=\"cite_ref-17\" class=\"reference\"><a href=\"#cite_note-17\">&#91;17&#93;</a></sup> erfolgte dann nach mehreren Verschiebungen <a href=\"/wiki/Liste_der_Falcon-Raketenstarts\" class=\"mw-redirect\" title=\"Liste der Falcon-Raketenstarts\">am 11. Mai 2018</a> bei der <a href=\"/wiki/Bangabandhu-1\" title=\"Bangabandhu-1\">Bangabandhu-1-Mission</a>. Block&#160;5 musste gem\\xc3\\xa4\\xc3\\x9f NASA-Vorschriften mindestens siebenmal in gleicher Konfiguration fliegen, bevor sie f\\xc3\\xbcr bemannte Fl\\xc3\\xbcge zugelassen wurde.<sup id=\"cite_ref-18\" class=\"reference\"><a href=\"#cite_note-18\">&#91;18&#93;</a></sup>\\n</p>\\n<div class=\"thumb tright\"><div class=\"thumbinner\" style=\"width:172px;\"><a href=\"/wiki/Datei:Bangabandhu_Satellite-1_Mission_(28197546158)_crop.jpg\" class=\"image\"><img alt=\"\" src=\"//upload.wikimedia.org/wikipedia/commons/thumb/1/1b/Bangabandhu_Satellite-1_Mission_%2828197546158%29_crop.jpg/170px-Bangabandhu_Satellite-1_Mission_%2828197546158%29_crop.jpg\" decoding=\"async\" width=\"170\" height=\"238\" class=\"thumbimage\" srcset=\"//upload.wikimedia.org/wikipedia/commons/thumb/1/1b/Bangabandhu_Satellite-1_Mission_%2828197546158%29_crop.jpg/255px-Bangabandhu_Satellite-1_Mission_%2828197546158%29_crop.jpg 1.5x, //upload.wikimedia.org/wikipedia/commons/thumb/1/1b/Bangabandhu_Satellite-1_Mission_%2828197546158%29_crop.jpg/340px-Bangabandhu_Satellite-1_Mission_%2828197546158%29_crop.jpg 2x\" data-file-width=\"768\" data-file-height=\"1074\" /></a>  <div class=\"thumbcaption\"><div class=\"magnify\"><a href=\"/wiki/Datei:Bangabandhu_Satellite-1_Mission_(28197546158)_crop.jpg\" class=\"internal\" title=\"vergr\\xc3\\xb6\\xc3\\x9fern und Informationen zum Bild anzeigen\"></a></div>Erstflug von Block 5 am 11. Mai 2018</div></div></div>\\n<p>SpaceX strebte an, Block-5-Erststufen zehn Mal wiederzuverwenden,<sup id=\"cite_ref-19\" class=\"reference\"><a href=\"#cite_note-19\">&#91;19&#93;</a></sup> ohne sie aufwendig \\xc3\\xbcberholen zu m\\xc3\\xbcssen. Insgesamt sollten bis zu 100 Fl\\xc3\\xbcge mit derselben Rakete m\\xc3\\xb6glich sein.<sup id=\"cite_ref-20\" class=\"reference\"><a href=\"#cite_note-20\">&#91;20&#93;</a></sup> Ab 2019 sollte es m\\xc3\\xb6glich sein, eine gelandete Block-5-Erststufe innerhalb von 24&#160;Stunden wieder zu starten. Diese Ziele wurden nicht erreicht; es ist weiterhin eine wochenlange \\xc3\\x9cberholung nach jedem Start n\\xc3\\xb6tig. Schl\\xc3\\xbcsseltechnologien f\\xc3\\xbcr eine gute Wiederverwendbarkeit sind neben den robusten Titan-Gitterflossen und der verschlei\\xc3\\x9farmen w\\xc3\\xa4rmeged\\xc3\\xa4mmten Oberfl\\xc3\\xa4che auch Verbesserungen bei der Haltbarkeit des Octaweb. Letzteres erhielt ebenfalls eine bessere D\\xc3\\xa4mmung sowie eine Wasserk\\xc3\\xbchlung und wird jetzt mit <a href=\"/wiki/Niet\" title=\"Niet\">Niet</a>- statt <a href=\"/wiki/Schwei%C3%9Fen\" title=\"Schwei\\xc3\\x9fen\">Schwei\\xc3\\x9fverbindungen</a> in der Rakete fixiert.<sup id=\"cite_ref-21\" class=\"reference\"><a href=\"#cite_note-21\">&#91;21&#93;</a></sup>\\n</p><p>Block 5 ist \\xc3\\xa4u\\xc3\\x9ferlich erkennbar an einem ge\\xc3\\xa4nderten Design. Die Zwischenstufe (zwischen erster und zweiter Stufe) und die Landebeine sind schwarz, und der Schriftzug \\xe2\\x80\\x9eSpaceX\\xe2\\x80\\x9c befindet sich in mittlerer H\\xc3\\xb6he der Erststufe statt am unteren Ende.<sup id=\"cite_ref-22\" class=\"reference\"><a href=\"#cite_note-22\">&#91;22&#93;</a></sup><sup id=\"cite_ref-23\" class=\"reference\"><a href=\"#cite_note-23\">&#91;23&#93;</a></sup>\\n</p><p>Der Erstflug von Block 5 fand nach mehreren Verschiebungen am 11.&#160;Mai 2018 statt. Vom <a href=\"/wiki/Kennedy_Space_Center\" title=\"Kennedy Space Center\">Kennedy Space Center</a> in Florida aus brachte die Rakete <a href=\"/wiki/Bangladesch\" title=\"Bangladesch\">Bangladeschs</a> ersten Satelliten (<a href=\"/wiki/Bangabandhu-1\" title=\"Bangabandhu-1\">Bangabandhu-1</a>) auf eine <a href=\"/wiki/Geostation%C3%A4re_Transferbahn\" title=\"Geostation\\xc3\\xa4re Transferbahn\">geostation\\xc3\\xa4re Transferbahn</a> und die Erststufe landete erfolgreich auf dem <a href=\"/wiki/Autonomous_spaceport_drone_ship\" class=\"mw-redirect\" title=\"Autonomous spaceport drone ship\">Drohnenschiff</a> <i>Of Course I Still Love You</i>.<sup id=\"cite_ref-24\" class=\"reference\"><a href=\"#cite_note-24\">&#91;24&#93;</a></sup><sup id=\"cite_ref-25\" class=\"reference\"><a href=\"#cite_note-25\">&#91;25&#93;</a></sup>\\n</p><p>Bis Ende 2020 waren alle 47 Starts der Falcon 9 Block 5 erfolgreich; damit ist sie eine der zuverl\\xc3\\xa4ssigsten verf\\xc3\\xbcgbaren Tr\\xc3\\xa4gerraketen.<sup id=\"cite_ref-26\" class=\"reference\"><a href=\"#cite_note-26\">&#91;26&#93;</a></sup>\\n</p>\\n<h3><span id=\"Zwischenf.C3.A4lle\"></span><span class=\"mw-headline\" id=\"Zwischenf\\xc3\\xa4lle\">Zwischenf\\xc3\\xa4lle</span><span class=\"mw-editsection\"><span class=\"mw-editsection-bracket\">[</span><a href=\"/w/index.php?title=Falcon_9&amp;veaction=edit&amp;section=8\" class=\"mw-editsection-visualeditor\" title=\"Abschnitt bearbeiten: Zwischenf\\xc3\\xa4lle\">Bearbeiten</a><span class=\"mw-editsection-divider\"> | </span><a href=\"/w/index.php?title=Falcon_9&amp;action=edit&amp;section=8\" title=\"Abschnitt bearbeiten: Zwischenf\\xc3\\xa4lle\">Quelltext bearbeiten</a><span class=\"mw-editsection-bracket\">]</span></span></h3>\\n<ul><li>Beim vierten Start der Falcon 9 am 8. Oktober 2012 fiel nach einer Minute und 19&#160;Sekunden ein Triebwerk in der Erststufe aus. Die einzelnen Triebwerke in dem Cluster der Erststufe sind durch <a href=\"/wiki/Kevlar\" class=\"mw-redirect\" title=\"Kevlar\">Kevlarummantelungen</a> gesch\\xc3\\xbctzt, sodass die anderen Triebwerke durch die Explosion des ausgefallenen Triebwerks nicht besch\\xc3\\xa4digt wurden. Um einen symmetrischen Schub zu gew\\xc3\\xa4hrleisten, wurde das gegen\\xc3\\xbcberliegende Triebwerk automatisch abgeschaltet. Durch eine verl\\xc3\\xa4ngerte Brenndauer der restlichen Triebwerke und der Zweitstufe konnte trotzdem der geplante Orbit f\\xc3\\xbcr die Hauptnutzlast Dragon erreicht werden. Aufgrund von Sicherheitsregeln f\\xc3\\xbcr die ISS konnte aber die Sekund\\xc3\\xa4rnutzlast, der Satellit \\xe2\\x80\\x9eOrbcomm FM44\\xe2\\x80\\x9c, nicht mehr auf dessen h\\xc3\\xb6here Umlaufbahn gebracht werden. So wurde der Satellit auf einer niedrigeren Bahn als vorgesehen ausgesetzt und vergl\\xc3\\xbchte drei Tage sp\\xc3\\xa4ter. Somit ist dieser Start der Falcon&#160;9 nur als Teilerfolg zu werten.</li></ul>\\n<ul><li>Beim sechsten Start der Falcon&#160;9 und zugleich erstem Start der verbesserten Version&#160;v1.1 am 29.&#160;September 2013 konnten die Prim\\xc3\\xa4rnutzlast <a href=\"/wiki/CASSIOPE\" title=\"CASSIOPE\">CASSIOPE</a> und mehrere kleine Sekund\\xc3\\xa4rnutzlasten erfolgreich auf ihren geplanten Bahnen ausgesetzt werden. Nach dem Aussetzen der Nutzlasten war geplant, die Zweitstufe nochmals zu z\\xc3\\xbcnden, um die Wiederz\\xc3\\xbcndf\\xc3\\xa4higkeit im Orbit zu demonstrieren, die f\\xc3\\xbcr Starts in den <a href=\"/wiki/Geostation%C3%A4re_Transferbahn\" title=\"Geostation\\xc3\\xa4re Transferbahn\">GTO</a> notwendig ist. Bei der Wiederz\\xc3\\xbcndung kam es jedoch zur Explosion des Triebwerks und die Stufe wurde zerst\\xc3\\xb6rt.</li></ul>\\n<ul><li>Ein folgenschwerer Zwischenfall und erster Totalverlust ereignete sich am 28.&#160;Juni 2015 beim 19. Start einer Falcon&#160;9. 2&#160;Minuten und 19&#160;Sekunden nach dem Start&#160;\\xe2\\x80\\x93 kurz vor der geplanten Abkopplung der Erststufe und Z\\xc3\\xbcndung der Zweitstufe&#160;\\xe2\\x80\\x93 explodierte der Sauerstofftank der Zweitstufe. Dadurch zerlegte sich diese Stufe und die Nutzlast&#160;\\xe2\\x80\\x93 die Dragonkapsel&#160;\\xe2\\x80\\x93 brach weg. Der Trunk (druckloses Frachtabteil der Dragon) und der in ihm transportierte <a href=\"/wiki/International_Docking_Adapter\" title=\"International Docking Adapter\">International Docking Adapter</a> (IDA) f\\xc3\\xbcr die ISS, der zur Kopplung der zuk\\xc3\\xbcnftigen bemannten <a href=\"/wiki/CCDev\" class=\"mw-redirect\" title=\"CCDev\">CCDev</a>-Raumschiffe mit der ISS dienen sollte, wurden zerst\\xc3\\xb6rt. Die Dragonkapsel \\xc3\\xbcberstand den Unfall zun\\xc3\\xa4chst und sendete noch weiter Telemetriedaten, wurde dann jedoch wahrscheinlich beim Aufschlag auf dem Ozean zerst\\xc3\\xb6rt. SpaceX gab bekannt, dass durch das Ausl\\xc3\\xb6sen des Fallschirmsystems Dragon und seine Fracht unbeschadet im Atlantik h\\xc3\\xa4tte wassern k\\xc3\\xb6nnen. Allerdings war dies nicht in der Software vorgesehen. Die Erststufe lief w\\xc3\\xa4hrend der Desintegration der oberen H\\xc3\\xa4lfte der Rakete noch mehrere Sekunden lang mit vollem Schub und explodierte dann 2&#160;Minuten und 27&#160;Sekunden nach dem Start. Ein Selbstzerst\\xc3\\xb6rungssignal wurde rund 70&#160;Sekunden nach der Explosion der Erststufe an diese gesendet.<sup id=\"cite_ref-27\" class=\"reference\"><a href=\"#cite_note-27\">&#91;27&#93;</a></sup> Am 20.&#160;Juli 2015 gab Elon Musk bekannt, dass vermutlich einer der vier Holme gerissen war, die den Heliumtank innerhalb des Sauerstofftanks fixieren. Der Heliumtank schoss daraufhin nach oben, was zu einem Verlust der strukturellen Integrit\\xc3\\xa4t f\\xc3\\xbchrte. Der Holm soll bei 20&#160;% der zertifizierten Last gerissen sein. SpaceX konnte das in einer Testreihe, bei der etwa 1000 Holme auf ihre Belastung getestet wurden, nachstellen.<sup id=\"cite_ref-28\" class=\"reference\"><a href=\"#cite_note-28\">&#91;28&#93;</a></sup></li></ul>\\n<ul><li>Am 1. September 2016 explodierte eine Falcon 9 w\\xc3\\xa4hrend der Vorbereitungen eines Testlaufes der Triebwerke, der routinem\\xc3\\xa4\\xc3\\x9fig vor jedem Start durchgef\\xc3\\xbchrt wird, auf der Startrampe. Der Startplatz <a href=\"/wiki/Cape_Canaveral_AFS_Launch_Complex_40\" class=\"mw-redirect\" title=\"Cape Canaveral AFS Launch Complex 40\">LC40</a> wurde schwer besch\\xc3\\xa4digt.<sup id=\"cite_ref-29\" class=\"reference\"><a href=\"#cite_note-29\">&#91;29&#93;</a></sup> Ein Video des Zwischenfalls zeigt, wie die Rakete im Bereich der Zweitstufe w\\xc3\\xa4hrend des Betankens mit fl\\xc3\\xbcssigem Sauerstoff zu explodieren beginnt und in der Folge komplett zerst\\xc3\\xb6rt wird.<sup id=\"cite_ref-30\" class=\"reference\"><a href=\"#cite_note-30\">&#91;30&#93;</a></sup> Die Nutzlast&#160;\\xe2\\x80\\x93 der israelische Kommunikationssatellit <a href=\"/wiki/Amos_(Satellit)\" title=\"Amos (Satellit)\">Amos 6</a>&#160;\\xe2\\x80\\x93 war bereits auf der Rakete montiert und wurde bei der Explosion zerst\\xc3\\xb6rt.<sup id=\"cite_ref-31\" class=\"reference\"><a href=\"#cite_note-31\">&#91;31&#93;</a></sup><sup id=\"cite_ref-32\" class=\"reference\"><a href=\"#cite_note-32\">&#91;32&#93;</a></sup> Dieser w\\xc3\\xa4re unter anderem der erste Satellit im Rahmen der <a href=\"/wiki/Internet.org\" title=\"Internet.org\">Internet.org</a>-Initiative gewesen, deren Ziel es ist, Nutzer in Afrika&#160;\\xe2\\x80\\x93 insbesondere s\\xc3\\xbcdlich der Sahara&#160;\\xe2\\x80\\x93 mit drahtlosen Internetzug\\xc3\\xa4ngen zu versorgen.<sup id=\"cite_ref-33\" class=\"reference\"><a href=\"#cite_note-33\">&#91;33&#93;</a></sup><sup id=\"cite_ref-34\" class=\"reference\"><a href=\"#cite_note-34\">&#91;34&#93;</a></sup></li></ul>\\n<dl><dd>Nach viermonatiger Untersuchung gab SpaceX bekannt, dass die Ursache der Explosion in der Z\\xc3\\xbcndung von tiefgek\\xc3\\xbchltem Sauerstoff und der kohlenstoffhaltigen Umh\\xc3\\xbcllung der Heliumtanks gelegen habe. Bei der Untersuchung der Heliumtanks wurden Fehlerstellen (buckles) gefunden, in die fl\\xc3\\xbcssiger Sauerstoff eindringen kann. Durch brechende Fasern des Verbundstoffs oder durch Reibung kann es zur Z\\xc3\\xbcndung des Kohlenstoffs im Verbundstoff gekommen sein. Die Ladetemperatur sei so niedrig gewesen, dass der Sauerstoff sogar gefroren gewesen sein konnte. Die Reibung von Sauerstoffkristallen k\\xc3\\xb6nne zur Z\\xc3\\xbcndung gef\\xc3\\xbchrt haben. Kurzfristig werde SpaceX wieder mit w\\xc3\\xa4rmeren Heliumtemperaturen arbeiten. Langfristig sollten die Heliumtanks so verbessert werden, dass wieder schnellere Betankungen m\\xc3\\xb6glich seien.<sup id=\"cite_ref-35\" class=\"reference\"><a href=\"#cite_note-35\">&#91;35&#93;</a></sup></dd>\\n<dd>Seit dem Zwischenfall werden die Testl\\xc3\\xa4ufe immer ohne Nutzlast durchgef\\xc3\\xbchrt. Die Rakete muss dazu nochmals in die Horizontale umgelegt und in den Hangar gefahren werden, um die Nutzlast aufzusetzen. Der erste Start einer Falcon&#160;9 von dem zwischenzeitlich reparierten Startplatz erfolgte am 15.&#160;Dezember 2017, \\xc3\\xbcber 15 Monate nach dem Zwischenfall.<sup id=\"cite_ref-36\" class=\"reference\"><a href=\"#cite_note-36\">&#91;36&#93;</a></sup></dd></dl>\\n<ul><li>Beim sechsten Start von <a href=\"/wiki/Starlink\" title=\"Starlink\">Starlink</a>-Satelliten am 18. M\\xc3\\xa4rz 2020 schaltete sich ein Triebwerk der ersten Raketenstufe zu fr\\xc3\\xbch ab. Wie in solchen F\\xc3\\xa4llen vorgesehen, glichen die \\xc3\\xbcbrigen Triebwerke den Ausfall durch eine l\\xc3\\xa4ngere Brenndauer aus; die Starlink-Satelliten wurden schlie\\xc3\\x9flich in der geplanten Umlaufbahn ausgesetzt. Bei diesem Flug war erstmals eine Falcon-9-Erststufe zum f\\xc3\\xbcnften Mal verwendet worden. Wegen der anstehenden bemannten Falcon-9-Mission <a href=\"/wiki/SpX-DM2\" title=\"SpX-DM2\">SpX-DM2</a> beteiligte sich auch die NASA an der Untersuchung des Zwischenfalls.<sup id=\"cite_ref-37\" class=\"reference\"><a href=\"#cite_note-37\">&#91;37&#93;</a></sup> Ursache war laut Elon Musk eine geringe Menge der Reinigungsfl\\xc3\\xbcssigkeit <a href=\"/wiki/Isopropanol\" class=\"mw-redirect\" title=\"Isopropanol\">Isopropanol</a>, die sich an einem Sensor gesammelt und w\\xc3\\xa4hrend des Flugs entz\\xc3\\xbcndet hatte.<sup id=\"cite_ref-38\" class=\"reference\"><a href=\"#cite_note-38\">&#91;38&#93;</a></sup></li></ul>\\n<h2><span class=\"mw-headline\" id=\"Aufbau\">Aufbau</span><span class=\"mw-editsection\"><span class=\"mw-editsection-bracket\">[</span><a href=\"/w/index.php?title=Falcon_9&amp;veaction=edit&amp;section=9\" class=\"mw-editsection-visualeditor\" title=\"Abschnitt bearbeiten: Aufbau\">Bearbeiten</a><span class=\"mw-editsection-divider\"> | </span><a href=\"/w/index.php?title=Falcon_9&amp;action=edit&amp;section=9\" title=\"Abschnitt bearbeiten: Aufbau\">Quelltext bearbeiten</a><span class=\"mw-editsection-bracket\">]</span></span></h2>\\n<div class=\"thumb tright\"><div class=\"thumbinner\" style=\"width:222px;\"><a href=\"/wiki/Datei:SpaceX_factory_Falcon_9_booster_tank.jpg\" class=\"image\"><img alt=\"\" src=\"//upload.wikimedia.org/wikipedia/commons/thumb/0/0f/SpaceX_factory_Falcon_9_booster_tank.jpg/220px-SpaceX_factory_Falcon_9_booster_tank.jpg\" decoding=\"async\" width=\"220\" height=\"157\" class=\"thumbimage\" srcset=\"//upload.wikimedia.org/wikipedia/commons/thumb/0/0f/SpaceX_factory_Falcon_9_booster_tank.jpg/330px-SpaceX_factory_Falcon_9_booster_tank.jpg 1.5x, //upload.wikimedia.org/wikipedia/commons/thumb/0/0f/SpaceX_factory_Falcon_9_booster_tank.jpg/440px-SpaceX_factory_Falcon_9_booster_tank.jpg 2x\" data-file-width=\"4088\" data-file-height=\"2922\" /></a>  <div class=\"thumbcaption\"><div class=\"magnify\"><a href=\"/wiki/Datei:SpaceX_factory_Falcon_9_booster_tank.jpg\" class=\"internal\" title=\"vergr\\xc3\\xb6\\xc3\\x9fern und Informationen zum Bild anzeigen\"></a></div>Falcon 9 v1.0 (2008)</div></div></div>\\n<div class=\"thumb tright\"><div class=\"thumbinner\" style=\"width:222px;\"><span class=\"mw-3d-wrapper\" data-label=\"3D\"><a href=\"/wiki/Datei:Falcon_9.stl\" class=\"image\"><img alt=\"\" src=\"//upload.wikimedia.org/wikipedia/commons/thumb/5/57/Falcon_9.stl/220px-Falcon_9.stl.png\" decoding=\"async\" width=\"220\" height=\"165\" class=\"thumbimage\" srcset=\"//upload.wikimedia.org/wikipedia/commons/thumb/5/57/Falcon_9.stl/330px-Falcon_9.stl.png 1.5x, //upload.wikimedia.org/wikipedia/commons/thumb/5/57/Falcon_9.stl/440px-Falcon_9.stl.png 2x\" data-file-width=\"5120\" data-file-height=\"2880\" /></a></span>  <div class=\"thumbcaption\"><div class=\"magnify\"><a href=\"/wiki/Datei:Falcon_9.stl\" class=\"internal\" title=\"vergr\\xc3\\xb6\\xc3\\x9fern und Informationen zum Bild anzeigen\"></a></div>Interaktives 3D-Modell: zusammengebaut (links) und Explosionsansicht (rechts)</div></div></div>\\n<p>Die Falcon 9 ist eine teilweise wiederverwendbare <a href=\"/wiki/Stufenrakete\" title=\"Stufenrakete\">zweistufige</a> Tr\\xc3\\xa4gerrakete mit <a href=\"/wiki/Raketentreibstoff#Diergole\" title=\"Raketentreibstoff\">fl\\xc3\\xbcssigem Treibstoff</a> \\xe2\\x80\\x93 <a href=\"/wiki/Fl%C3%BCssigsauerstoff\" title=\"Fl\\xc3\\xbcssigsauerstoff\">Fl\\xc3\\xbcssigsauerstoff</a> (LOX) und Raketenkerosin (<a href=\"/wiki/RP-1\" title=\"RP-1\">RP-1</a>) \\xe2\\x80\\x93 und mit auf der Spitze montierter <a href=\"/wiki/Nutzlast\" title=\"Nutzlast\">Nutzlast</a>.\\n</p><p>In der Erststufe der Falcon 9 werden neun <a href=\"/wiki/Merlin_(Raketentriebwerk)\" title=\"Merlin (Raketentriebwerk)\">Merlin-Triebwerke</a> eingesetzt. Bei der Falcon&#160;9&#160;v1.0 waren die neun Triebwerke in einer 3\\xc3\\x973-Matrix angeordnet. Ab der Falcon&#160;9&#160;v1.1 sind acht Triebwerke im Kreis und eines in dessen Zentrum angebracht.<sup id=\"cite_ref-rn_20131029_39-0\" class=\"reference\"><a href=\"#cite_note-rn_20131029-39\">&#91;39&#93;</a></sup> An der Erststufe k\\xc3\\xb6nnen ausfahrbare Landebeine angebracht werden, die eine Landung auf einer schwimmenden Plattform oder dem Festland erm\\xc3\\xb6glichen. In der zweiten Stufe wird ein einzelnes Merlin-Triebwerk eingesetzt, das f\\xc3\\xbcr den Betrieb im Vakuum mit einer vergr\\xc3\\xb6\\xc3\\x9ferten Ausstr\\xc3\\xb6md\\xc3\\xbcse optimiert ist. \\xc3\\x9cber der Zweitstufe befindet sich die Nutzlast&#160;\\xe2\\x80\\x93 entweder die Dragon-Kapsel oder ein oder mehrere Satelliten.\\n</p>\\n<h3><span class=\"mw-headline\" id=\"Nutzlastverkleidung\">Nutzlastverkleidung</span><span class=\"mw-editsection\"><span class=\"mw-editsection-bracket\">[</span><a href=\"/w/index.php?title=Falcon_9&amp;veaction=edit&amp;section=10\" class=\"mw-editsection-visualeditor\" title=\"Abschnitt bearbeiten: Nutzlastverkleidung\">Bearbeiten</a><span class=\"mw-editsection-divider\"> | </span><a href=\"/w/index.php?title=Falcon_9&amp;action=edit&amp;section=10\" title=\"Abschnitt bearbeiten: Nutzlastverkleidung\">Quelltext bearbeiten</a><span class=\"mw-editsection-bracket\">]</span></span></h3>\\n<p>Beim Transport von Satelliten wird die Falcon 9 mit einer Verkleidung mit 5,2&#160;m Durchmesser ausgestattet, welche die empfindliche Nutzlast von den Belastungen in der Aufstiegsphase durch die dichten Atmosph\\xc3\\xa4renschichten sch\\xc3\\xbctzt. Diese <a href=\"/wiki/Nutzlastverkleidung\" title=\"Nutzlastverkleidung\">Nutzlastverkleidung</a> ist 13,9&#160;m lang. Der nutzbare Innenraum ist 11,4&#160;m hoch und hat auf 6,6&#160;m L\\xc3\\xa4nge einen Innendurchmesser von 4,6&#160;m. Dar\\xc3\\xbcber wird in der <a href=\"/wiki/Ogive\" title=\"Ogive\">ogiven</a> Spitze der Durchmesser kleiner. Am h\\xc3\\xb6chsten Punkt ist er noch 1,3&#160;m breit.<sup id=\"cite_ref-40\" class=\"reference\"><a href=\"#cite_note-40\">&#91;40&#93;</a></sup> Die Nutzlastverkleidung wird w\\xc3\\xa4hrend des Betriebs der Zweitstufe abgeworfen, sobald die Belastungen durch den Luftwiderstand die Nutzlast nicht mehr besch\\xc3\\xa4digen k\\xc3\\xb6nnen.<sup id=\"cite_ref-41\" class=\"reference\"><a href=\"#cite_note-41\">&#91;41&#93;</a></sup>\\n</p>\\n<h3><span class=\"mw-headline\" id=\"Wiederverwendbarkeit\">Wiederverwendbarkeit</span><span class=\"mw-editsection\"><span class=\"mw-editsection-bracket\">[</span><a href=\"/w/index.php?title=Falcon_9&amp;veaction=edit&amp;section=11\" class=\"mw-editsection-visualeditor\" title=\"Abschnitt bearbeiten: Wiederverwendbarkeit\">Bearbeiten</a><span class=\"mw-editsection-divider\"> | </span><a href=\"/w/index.php?title=Falcon_9&amp;action=edit&amp;section=11\" title=\"Abschnitt bearbeiten: Wiederverwendbarkeit\">Quelltext bearbeiten</a><span class=\"mw-editsection-bracket\">]</span></span></h3>\\n<h4><span class=\"mw-headline\" id=\"Erste_Stufe\">Erste Stufe</span><span class=\"mw-editsection\"><span class=\"mw-editsection-bracket\">[</span><a href=\"/w/index.php?title=Falcon_9&amp;veaction=edit&amp;section=12\" class=\"mw-editsection-visualeditor\" title=\"Abschnitt bearbeiten: Erste Stufe\">Bearbeiten</a><span class=\"mw-editsection-divider\"> | </span><a href=\"/w/index.php?title=Falcon_9&amp;action=edit&amp;section=12\" title=\"Abschnitt bearbeiten: Erste Stufe\">Quelltext bearbeiten</a><span class=\"mw-editsection-bracket\">]</span></span></h4>\\n<div class=\"thumb tleft\"><div class=\"thumbinner\" style=\"width:222px;\"><a href=\"/wiki/Datei:Falcon_9_First_Stage_Reusability_Graphic.jpg\" class=\"image\"><img alt=\"\" src=\"//upload.wikimedia.org/wikipedia/commons/thumb/c/c1/Falcon_9_First_Stage_Reusability_Graphic.jpg/220px-Falcon_9_First_Stage_Reusability_Graphic.jpg\" decoding=\"async\" width=\"220\" height=\"125\" class=\"thumbimage\" srcset=\"//upload.wikimedia.org/wikipedia/commons/thumb/c/c1/Falcon_9_First_Stage_Reusability_Graphic.jpg/330px-Falcon_9_First_Stage_Reusability_Graphic.jpg 1.5x, //upload.wikimedia.org/wikipedia/commons/thumb/c/c1/Falcon_9_First_Stage_Reusability_Graphic.jpg/440px-Falcon_9_First_Stage_Reusability_Graphic.jpg 2x\" data-file-width=\"2633\" data-file-height=\"1499\" /></a>  <div class=\"thumbcaption\"><div class=\"magnify\"><a href=\"/wiki/Datei:Falcon_9_First_Stage_Reusability_Graphic.jpg\" class=\"internal\" title=\"vergr\\xc3\\xb6\\xc3\\x9fern und Informationen zum Bild anzeigen\"></a></div>Grafische Darstellung des Gesamtablaufs vom Start einer Falcon-9-Rakete bis zur Landung</div></div></div>\\n<div class=\"thumb tleft\"><div class=\"thumbinner\" style=\"width:222px;\"><a href=\"/wiki/Datei:CRS-17_Mission_(32829382467).jpg\" class=\"image\"><img alt=\"\" src=\"//upload.wikimedia.org/wikipedia/commons/thumb/a/af/CRS-17_Mission_%2832829382467%29.jpg/220px-CRS-17_Mission_%2832829382467%29.jpg\" decoding=\"async\" width=\"220\" height=\"147\" class=\"thumbimage\" srcset=\"//upload.wikimedia.org/wikipedia/commons/thumb/a/af/CRS-17_Mission_%2832829382467%29.jpg/330px-CRS-17_Mission_%2832829382467%29.jpg 1.5x, //upload.wikimedia.org/wikipedia/commons/thumb/a/af/CRS-17_Mission_%2832829382467%29.jpg/440px-CRS-17_Mission_%2832829382467%29.jpg 2x\" data-file-width=\"6016\" data-file-height=\"4016\" /></a>  <div class=\"thumbcaption\"><div class=\"magnify\"><a href=\"/wiki/Datei:CRS-17_Mission_(32829382467).jpg\" class=\"internal\" title=\"vergr\\xc3\\xb6\\xc3\\x9fern und Informationen zum Bild anzeigen\"></a></div><a href=\"/wiki/Langzeitbelichtung\" title=\"Langzeitbelichtung\">Langzeitaufnahme</a> des <a href=\"/wiki/Dragon_(Raumschiff)#\\xc3\\x9cbersicht\" title=\"Dragon (Raumschiff)\">CRS-17-Starts</a>, mit R\\xc3\\xbcckflug und Landung in K\\xc3\\xbcstenn\\xc3\\xa4he</div></div></div>\\n<p>Die Ergebnisse der Testfl\\xc3\\xbcge des <a href=\"/wiki/Grasshopper_(Rakete)\" title=\"Grasshopper (Rakete)\">Grasshopper-Programms</a> flossen in die Entwicklung der wiederverwendbaren Falcon-9-Version 1.2 ein. Mit einer Erststufe der Version 1.1 gelang am 18.&#160;April 2014 beim Start der Dragon-Kapsel CRS-3 das weiche Aufsetzen auf der Meeresoberfl\\xc3\\xa4che in senkrechter Lage, ein erster Schritt zur Demonstration der Landef\\xc3\\xa4higkeit der Rakete.\\n</p><p>Am 10. Januar 2015 sollte die mit zus\\xc3\\xa4tzlichen Steuerflossen und ausfahrbaren Landebeinen ausgestattete Erststufe der Falcon&#160;9&#160;v1.1 im Rahmen der CRS-5-Mission auf der eigens daf\\xc3\\xbcr gebauten autonom operierenden Hochseeplattform <a href=\"/wiki/Autonomous_spaceport_drone_ship\" class=\"mw-redirect\" title=\"Autonomous spaceport drone ship\">Autonomous spaceport drone ship</a> landen. Offenbar ging jedoch kurz vor dem Aufsetzen die Hydraulikfl\\xc3\\xbcssigkeit f\\xc3\\xbcr die Steuerflossen aus, und die Erststufe kam schief am Rand der Landeplattform auf. Dabei kam es zur Explosion des restlichen Treibstoffs, wodurch die Erststufe zerst\\xc3\\xb6rt wurde und es auch zu Besch\\xc3\\xa4digungen der Landeplattform kam.\\n</p><p>Ein weiterer Landeversuch auf der wieder instandgesetzten Plattform war mit Verbesserungen an der Rakete bereits einen Monat sp\\xc3\\xa4ter am 11.&#160;Februar 2015 beim Start des <a href=\"/wiki/Deep_Space_Climate_Observatory\" title=\"Deep Space Climate Observatory\">Deep Space Climate Observatory</a> geplant. Aufgrund schlechten Wetters mit hohen Wellen in der Landezone musste die Landeplattform jedoch vorzeitig wieder abgezogen werden. Der Landeversuch endete, wie auch schon bei CRS-3, \\xe2\\x80\\x9eweich\\xe2\\x80\\x9c im Meer.\\n</p>\\n<div class=\"thumb tright\"><div class=\"thumbinner\" style=\"width:172px;\"><a href=\"/wiki/Datei:ORBCOMM-2_(23282658734).jpg\" class=\"image\"><img alt=\"\" src=\"//upload.wikimedia.org/wikipedia/commons/thumb/4/44/ORBCOMM-2_%2823282658734%29.jpg/170px-ORBCOMM-2_%2823282658734%29.jpg\" decoding=\"async\" width=\"170\" height=\"255\" class=\"thumbimage\" srcset=\"//upload.wikimedia.org/wikipedia/commons/thumb/4/44/ORBCOMM-2_%2823282658734%29.jpg/255px-ORBCOMM-2_%2823282658734%29.jpg 1.5x, //upload.wikimedia.org/wikipedia/commons/thumb/4/44/ORBCOMM-2_%2823282658734%29.jpg/340px-ORBCOMM-2_%2823282658734%29.jpg 2x\" data-file-width=\"2000\" data-file-height=\"3000\" /></a>  <div class=\"thumbcaption\"><div class=\"magnify\"><a href=\"/wiki/Datei:ORBCOMM-2_(23282658734).jpg\" class=\"internal\" title=\"vergr\\xc3\\xb6\\xc3\\x9fern und Informationen zum Bild anzeigen\"></a></div>Erfolgreiche Landung der Erststufe der Falcon&#160;9 am 21.&#160;Dezember 2015</div></div></div>\\n<p>Am 14. April 2015 startete die Mission CRS-6 erfolgreich zur ISS. Der Landeversuch auf der schwimmenden Plattform war jedoch nicht erfolgreich. Die Erststufe setzte stark man\\xc3\\xb6vrierend auf, kam jedoch nicht stabil zum Stehen und kippte um.\\n</p><p>Die erste erfolgreiche Landung einer Raketenstufe gelang schlie\\xc3\\x9flich auf festem Untergrund mit der verbesserten F9&#160;v1.2 am 21.&#160;Dezember 2015 (Ortszeit, 22.&#160;Dezember <a href=\"/wiki/UTC\" class=\"mw-redirect\" title=\"UTC\">UTC</a>) in Cape Canaveral.<sup id=\"cite_ref-twitter.com_1-1\" class=\"reference\"><a href=\"#cite_note-twitter.com-1\">&#91;1&#93;</a></sup><sup id=\"cite_ref-zeitonlinegmbh,hamburg,germany_2-1\" class=\"reference\"><a href=\"#cite_note-zeitonlinegmbh,hamburg,germany-2\">&#91;2&#93;</a></sup><sup id=\"cite_ref-42\" class=\"reference\"><a href=\"#cite_note-42\">&#91;42&#93;</a></sup> Etwa zehn Minuten nach dem Start setzte die erste Raketenstufe unbeschadet in senkrechter Position in der <a href=\"/wiki/Cape_Canaveral_AFS_Launch_Complex_13\" title=\"Cape Canaveral AFS Launch Complex 13\">Landing Zone 1</a> auf.<sup id=\"cite_ref-43\" class=\"reference\"><a href=\"#cite_note-43\">&#91;43&#93;</a></sup> Am 15.&#160;Januar 2016 wurde die Stufe auf dem <a href=\"/wiki/Cape_Canaveral_AFS_Launch_Complex_40\" class=\"mw-redirect\" title=\"Cape Canaveral AFS Launch Complex 40\">LC-40</a> in Cape Canaveral zu Testzwecken erneut gez\\xc3\\xbcndet, ohne dabei allerdings abzuheben. Der Test verlief gr\\xc3\\xb6\\xc3\\x9ftenteils erfolgreich, nur das Triebwerk Nr.&#160;9 zeigte einige Fluktuationen.<sup id=\"cite_ref-44\" class=\"reference\"><a href=\"#cite_note-44\">&#91;44&#93;</a></sup>\\n</p><p>Am 17. Januar 2016 wurde im Rahmen der <a href=\"/wiki/Jason_(Satellit)\" title=\"Jason (Satellit)\">Jason-3</a>-Mission ein dritter Landeversuch auf einer autonom operierenden Hochseeplattform unternommen. Die Plattform trug den Namen \\xe2\\x80\\x9eJust Read The Instructions\\xe2\\x80\\x9c. Die erste Stufe der Rakete setzte erfolgreich auf der im Meer schwimmenden Plattform auf, fiel dann aber aufgrund eines nicht ordnungsgem\\xc3\\xa4\\xc3\\x9f eingerasteten Standbeins um und explodierte.<sup id=\"cite_ref-45\" class=\"reference\"><a href=\"#cite_note-45\">&#91;45&#93;</a></sup>\\n</p><p>Im Rahmen der Mission <a href=\"/wiki/Commercial_Resupply_Services\" title=\"Commercial Resupply Services\">CRS-8</a> gelang am 8. April 2016 vor der K\\xc3\\xbcste Floridas zum ersten Mal die erfolgreiche stabile Landung einer Erststufe auf einer schwimmenden Plattform, dem Drone Ship \\xe2\\x80\\x9eOf Course I Still Love You\\xe2\\x80\\x9c.<sup id=\"cite_ref-46\" class=\"reference\"><a href=\"#cite_note-46\">&#91;46&#93;</a></sup>\\n</p><p>Beim Start von SES-10 am 31. M\\xc3\\xa4rz 2017 konnte mit der geborgenen Erststufe von Flug CRS-8 auch zum ersten Mal eine gebrauchte Stufe erfolgreich wiederverwendet werden. Die Stufe landete wenige Minuten nach dem Start erfolgreich wieder auf einer schwimmenden Plattform.<sup id=\"cite_ref-SES-10-auf-wiederverwendeter-Falcon-9-gestartet_47-0\" class=\"reference\"><a href=\"#cite_note-SES-10-auf-wiederverwendeter-Falcon-9-gestartet-47\">&#91;47&#93;</a></sup> Laut Gwynne Shotwell, Managerin bei SpaceX, konnten bei diesem Start deutlich \\xc3\\xbcber die H\\xc3\\xa4lfte der Kosten einer neuen Erststufe eingespart werden.<sup id=\"cite_ref-48\" class=\"reference\"><a href=\"#cite_note-48\">&#91;48&#93;</a></sup>\\n</p><p>Im Fr\\xc3\\xbchjahr 2017 gab Elon Musk ehrgeizige Ziele f\\xc3\\xbcr die Wiederverwendbarkeit der Falcon 9 aus, die jedoch nicht erreicht wurden. Unter anderem sollten die gelandeten Erststufen innerhalb von 24 Stunden wieder starten k\\xc3\\xb6nnen.<sup id=\"cite_ref-49\" class=\"reference\"><a href=\"#cite_note-49\">&#91;49&#93;</a></sup><sup id=\"cite_ref-50\" class=\"reference\"><a href=\"#cite_note-50\">&#91;50&#93;</a></sup> Es sollte keine \\xc3\\x9cberholung der Erststufe nach jedem Flug mehr n\\xc3\\xb6tig sein, sondern sie sollte 10-mal direkt nach einer Betankung direkt wieder fliegen kann.<sup id=\"cite_ref-51\" class=\"reference\"><a href=\"#cite_note-51\">&#91;51&#93;</a></sup> Erst dann solle eine mittelgro\\xc3\\x9fe \\xc3\\x9cberholung erfolgen.<sup id=\"cite_ref-52\" class=\"reference\"><a href=\"#cite_note-52\">&#91;52&#93;</a></sup> Eine Erststufe solle letztendlich mindestens 100-mal fliegen.<sup id=\"cite_ref-53\" class=\"reference\"><a href=\"#cite_note-53\">&#91;53&#93;</a></sup>\\nSp\\xc3\\xa4ter gab SpaceX bekannt, dass es nach der Version <i>Block 5</i> keine wesentliche Weiterentwicklung der Falcon&#160;9 mehr geben werde. Die 2017 f\\xc3\\xbcr die Falcon&#160;9 angestrebten Wiederverwendbarkeitsziele wurden nun f\\xc3\\xbcr die <a href=\"/wiki/Starship_und_Super_Heavy\" class=\"mw-redirect\" title=\"Starship und Super Heavy\">BFR</a> genannt, w\\xc3\\xa4hrend die Falcon-9-Erststufe f\\xc3\\xbcr mindestens 20 Fl\\xc3\\xbcge ausgelegt sei.<sup id=\"cite_ref-54\" class=\"reference\"><a href=\"#cite_note-54\">&#91;54&#93;</a></sup>\\n</p><p>Im Mai 2019 gelang es erstmals, die Landebeine nach der Bergung der Erststufe wieder einzuklappen, anstatt sie komplett zu demontieren. Diese Verbesserung verk\\xc3\\xbcrzt die Zeit bis zur Wiederverwendung um mindestens einen halben Tag.<sup id=\"cite_ref-55\" class=\"reference\"><a href=\"#cite_note-55\">&#91;55&#93;</a></sup>\\n</p><p>Im M\\xc3\\xa4rz 2020 landete zum 50. Mal eine Falcon 9 Erststufe erfolgreich nach ihrem Einsatz.<sup id=\"cite_ref-56\" class=\"reference\"><a href=\"#cite_note-56\">&#91;56&#93;</a></sup>\\n</p><p>Im Mai 2021 wurde mit der Erststufe \\xe2\\x80\\x9eB1051\\xe2\\x80\\x9c erstmals eine Raketenstufe zum zehnten Mal wiederverwendet.<sup id=\"cite_ref-57\" class=\"reference\"><a href=\"#cite_note-57\">&#91;57&#93;</a></sup><sup id=\"cite_ref-58\" class=\"reference\"><a href=\"#cite_note-58\">&#91;58&#93;</a></sup>\\n</p>\\n<h4><span class=\"mw-headline\" id=\"Nutzlastverkleidung_2\">Nutzlastverkleidung</span><span class=\"mw-editsection\"><span class=\"mw-editsection-bracket\">[</span><a href=\"/w/index.php?title=Falcon_9&amp;veaction=edit&amp;section=13\" class=\"mw-editsection-visualeditor\" title=\"Abschnitt bearbeiten: Nutzlastverkleidung\">Bearbeiten</a><span class=\"mw-editsection-divider\"> | </span><a href=\"/w/index.php?title=Falcon_9&amp;action=edit&amp;section=13\" title=\"Abschnitt bearbeiten: Nutzlastverkleidung\">Quelltext bearbeiten</a><span class=\"mw-editsection-bracket\">]</span></span></h4>\\n<p>Eine weitere SpaceX-Innovation, um die Startkosten weiter zu senken, ist die Wiederverwendung von Nutzlastverkleidungen. Die beiden H\\xc3\\xa4lften wurden mit \\xe2\\x80\\x9e<a href=\"/wiki/Reaction_Control_System\" title=\"Reaction Control System\">Steuerd\\xc3\\xbcsen</a>\\xe2\\x80\\x9c versehen, welche die Fluglage beim Wiedereintritt stabil halten, sowie mit lenkbaren Fallschirmen, an denen sie dann im Ozean wassern. Erstmals gelang die Landung und Bergung der Nutzlastverkleidung beim Start des Satelliten <a href=\"/wiki/SES-10\" title=\"SES-10\">SES-10</a> am 31.&#160;M\\xc3\\xa4rz 2017.<sup id=\"cite_ref-59\" class=\"reference\"><a href=\"#cite_note-59\">&#91;59&#93;</a></sup> Am 25.&#160;M\\xc3\\xa4rz 2019 konnte nach einigen Fehlversuchen mit dem Schiff <a href=\"/wiki/GO_Ms._Tree\" title=\"GO Ms. Tree\">GO Ms. Tree</a> erstmals eine Verkleidungsh\\xc3\\xa4lfte direkt aus der Luft aufgefangen werden. Danach gelang dies nur noch so selten, dass SpaceX die Fangversuche Anfang 2021 aufgab. Die Verkleidungsh\\xc3\\xa4lften werden jedoch regelm\\xc3\\xa4\\xc3\\x9fig aus dem Wasser geborgen und dann wiederverwendet.\\n</p>\\n<h4><span class=\"mw-headline\" id=\"Zweite_Stufe\">Zweite Stufe</span><span class=\"mw-editsection\"><span class=\"mw-editsection-bracket\">[</span><a href=\"/w/index.php?title=Falcon_9&amp;veaction=edit&amp;section=14\" class=\"mw-editsection-visualeditor\" title=\"Abschnitt bearbeiten: Zweite Stufe\">Bearbeiten</a><span class=\"mw-editsection-divider\"> | </span><a href=\"/w/index.php?title=Falcon_9&amp;action=edit&amp;section=14\" title=\"Abschnitt bearbeiten: Zweite Stufe\">Quelltext bearbeiten</a><span class=\"mw-editsection-bracket\">]</span></span></h4>\\n<p>Eine Landung und Bergung der zweiten Stufe wurde erwogen<sup id=\"cite_ref-60\" class=\"reference\"><a href=\"#cite_note-60\">&#91;60&#93;</a></sup> und wieder verworfen.<sup id=\"cite_ref-61\" class=\"reference\"><a href=\"#cite_note-61\">&#91;61&#93;</a></sup> SpaceX h\\xc3\\xa4tte damit die Startkosten nochmals erheblich senken k\\xc3\\xb6nnen.\\n</p><p>Das Hauptproblem bei einer Landung der zweiten Stufe w\\xc3\\xa4re deren hohe Geschwindigkeit. Um sie im R\\xc3\\xbcckw\\xc3\\xa4rtsflug mit ihrem Triebwerk abzubremsen, wie es bei der Landung der ersten Stufe geschieht, w\\xc3\\xbcrde eine Menge zus\\xc3\\xa4tzlicher Treibstoff ben\\xc3\\xb6tigt, der die Rakete entsprechend schwerer machen und die Nutzlastkapazit\\xc3\\xa4t verringern w\\xc3\\xbcrde.<sup id=\"cite_ref-62\" class=\"reference\"><a href=\"#cite_note-62\">&#91;62&#93;</a></sup> Daher wollte SpaceX nun versuchen, die Zweitstufe mit dem Luftwiderstand eines angeh\\xc3\\xa4ngten Ballons abzubremsen und sie anschlie\\xc3\\x9fend weich zu landen. Elon Musk sprach in zwei Tweets im April 2018 scherzhaft davon, man werde die Stufe mit einem \\xe2\\x80\\x9egro\\xc3\\x9fen Partyballon\\xe2\\x80\\x9c abbremsen und dann auf einer \\xe2\\x80\\x9eH\\xc3\\xbcpfburg\\xe2\\x80\\x9c (<span style=\"font-style:normal;font-weight:normal\"><a href=\"/wiki/Englische_Sprache\" title=\"Englische Sprache\">englisch</a></span> <span lang=\"en-Latn\" style=\"font-style:italic\">bouncy castle</span>) landen.<sup id=\"cite_ref-verge-h\\xc3\\xbcpfburg_63-0\" class=\"reference\"><a href=\"#cite_note-verge-h\\xc3\\xbcpfburg-63\">&#91;63&#93;</a></sup><sup id=\"cite_ref-64\" class=\"reference\"><a href=\"#cite_note-64\">&#91;64&#93;</a></sup> In einem weiteren Tweet am selben Tag deutete er an, dass man die zweite Stufe \\xe2\\x80\\x93 wie die Nutzlastverkleidung \\xe2\\x80\\x93 mit einem Schiff wie Mr. Steven auffangen k\\xc3\\xb6nnte.<sup id=\"cite_ref-65\" class=\"reference\"><a href=\"#cite_note-65\">&#91;65&#93;</a></sup>\\n</p>\\n<h2><span class=\"mw-headline\" id=\"Falcon_Heavy\">Falcon Heavy</span><span class=\"mw-editsection\"><span class=\"mw-editsection-bracket\">[</span><a href=\"/w/index.php?title=Falcon_9&amp;veaction=edit&amp;section=15\" class=\"mw-editsection-visualeditor\" title=\"Abschnitt bearbeiten: Falcon Heavy\">Bearbeiten</a><span class=\"mw-editsection-divider\"> | </span><a href=\"/w/index.php?title=Falcon_9&amp;action=edit&amp;section=15\" title=\"Abschnitt bearbeiten: Falcon Heavy\">Quelltext bearbeiten</a><span class=\"mw-editsection-bracket\">]</span></span></h2>\\n<div class=\"thumb tright\"><div class=\"thumbinner\" style=\"width:172px;\"><a href=\"/wiki/Datei:Falcon-heavy-crop.jpg\" class=\"image\"><img alt=\"\" src=\"//upload.wikimedia.org/wikipedia/commons/thumb/6/60/Falcon-heavy-crop.jpg/170px-Falcon-heavy-crop.jpg\" decoding=\"async\" width=\"170\" height=\"228\" class=\"thumbimage\" srcset=\"//upload.wikimedia.org/wikipedia/commons/thumb/6/60/Falcon-heavy-crop.jpg/255px-Falcon-heavy-crop.jpg 1.5x, //upload.wikimedia.org/wikipedia/commons/thumb/6/60/Falcon-heavy-crop.jpg/340px-Falcon-heavy-crop.jpg 2x\" data-file-width=\"961\" data-file-height=\"1289\" /></a>  <div class=\"thumbcaption\"><div class=\"magnify\"><a href=\"/wiki/Datei:Falcon-heavy-crop.jpg\" class=\"internal\" title=\"vergr\\xc3\\xb6\\xc3\\x9fern und Informationen zum Bild anzeigen\"></a></div>Falcon Heavy</div></div></div>\\n<div class=\"hauptartikel\" role=\"navigation\"><span class=\"hauptartikel-pfeil\" title=\"siehe\" aria-hidden=\"true\" role=\"presentation\">\\xe2\\x86\\x92 </span><i><span class=\"hauptartikel-text\">Hauptartikel</span>: <a href=\"/wiki/Falcon_Heavy\" title=\"Falcon Heavy\">Falcon Heavy</a></i></div>\\n<p>Parallel zur Falcon 9 entwickelte SpaceX die Falcon Heavy, die derzeit st\\xc3\\xa4rkste verf\\xc3\\xbcgbare Tr\\xc3\\xa4gerrakete. Sie besteht aus einer verst\\xc3\\xa4rkten Falcon-9-Erststufe, zwei modifizierten Falcon-9-Erststufen als <a href=\"/wiki/Booster_(Raketenantrieb)\" title=\"Booster (Raketenantrieb)\">Booster</a> und einer Falcon-9-Zweitstufe. Der <a href=\"/wiki/Falcon_Heavy_Demonstration_Mission\" title=\"Falcon Heavy Demonstration Mission\">Erstflug</a> der Rakete fand am 6.&#160;Februar 2018 vom <a href=\"/wiki/Kennedy_Space_Center_Launch_Complex_39\" title=\"Kennedy Space Center Launch Complex 39\">Kennedy Space Center Launch Complex 39</a> aus statt. Die endg\\xc3\\xbcltige Falcon-Heavy-Version auf Block-5-Basis (Erstflug am 12. April 2019) soll von Cape Canaveral aus bis zu 63,8&#160;t Nutzlast in eine niedrige Erdumlaufbahn (LEO) mit 28,5\\xc2\\xb0 Bahnneigung bringen k\\xc3\\xb6nnen. Auf eine <a href=\"/wiki/Fluchtbahn\" class=\"mw-redirect\" title=\"Fluchtbahn\">Fluchtbahn</a> zum Mars soll die Falcon Heavy etwa 16,8&#160;t transportieren k\\xc3\\xb6nnen.<sup id=\"cite_ref-falcon_heavy_66-0\" class=\"reference\"><a href=\"#cite_note-falcon_heavy-66\">&#91;66&#93;</a></sup>\\n</p>\\n<h2><span class=\"mw-headline\" id=\"Technische_und_wirtschaftliche_Daten\">Technische und wirtschaftliche Daten</span><span class=\"mw-editsection\"><span class=\"mw-editsection-bracket\">[</span><a href=\"/w/index.php?title=Falcon_9&amp;veaction=edit&amp;section=16\" class=\"mw-editsection-visualeditor\" title=\"Abschnitt bearbeiten: Technische und wirtschaftliche Daten\">Bearbeiten</a><span class=\"mw-editsection-divider\"> | </span><a href=\"/w/index.php?title=Falcon_9&amp;action=edit&amp;section=16\" title=\"Abschnitt bearbeiten: Technische und wirtschaftliche Daten\">Quelltext bearbeiten</a><span class=\"mw-editsection-bracket\">]</span></span></h2>\\n<table class=\"wikitable\" style=\"font-size:95%; text-align:right;\">\\n\\n<tbody><tr class=\"hintergrundfarbe8\">\\n<th>Version\\n</th>\\n<th nowrap=\"nowrap\">Falcon 9 v1.0<span class=\"reference\"><sup id=\"FN_A_1_back\"><a href=\"#FN_A_1\">A 1</a></sup></span>\\n</th>\\n<th nowrap=\"nowrap\">Falcon 9 v1.1<span class=\"reference\"><sup id=\"FN_A_1_back\"><a href=\"#FN_A_1\">A 1</a></sup></span>\\n</th>\\n<th nowrap=\"nowrap\">Falcon 9 v1.2<span class=\"reference\"><sup id=\"FN_A_1_back\"><a href=\"#FN_A_1\">A 1</a></sup></span><sup id=\"cite_ref-67\" class=\"reference\"><a href=\"#cite_note-67\">&#91;67&#93;</a></sup><sup id=\"cite_ref-68\" class=\"reference\"><a href=\"#cite_note-68\">&#91;68&#93;</a></sup>\\n</th>\\n<th nowrap=\"nowrap\">Falcon Heavy<sup id=\"cite_ref-69\" class=\"reference\"><a href=\"#cite_note-69\">&#91;69&#93;</a></sup>\\n</th></tr>\\n<tr>\\n<td style=\"text-align:left\"><b>Erste Stufe</b>\\n</td>\\n<td>9 \\xc3\\x97 <a href=\"/wiki/Merlin_(Raketentriebwerk)#Merlin_1C\" title=\"Merlin (Raketentriebwerk)\">Merlin-1C</a>\\n</td>\\n<td colspan=\"2\" align=\"center\">9 \\xc3\\x97&#160;<a href=\"/wiki/Merlin_(Raketentriebwerk)#Merlin_1D\" title=\"Merlin (Raketentriebwerk)\">Merlin-1D</a>\\n</td>\\n<td>erste Standard-Stufe mit 9 \\xc3\\x97&#160;Merlin-1D sowie<br />2 Booster mit je 9 \\xc3\\x97&#160;Merlin-1D<br />damit insgesamt 27 Merlin-Triebwerke f\\xc3\\xbcr die erste Stufe\\n</td></tr>\\n<tr>\\n<td style=\"text-align:left\"><b>Zweite Stufe</b>\\n</td>\\n<td>1 \\xc3\\x97 <a href=\"/wiki/Merlin_(Raketentriebwerk)\" title=\"Merlin (Raketentriebwerk)\">Merlin-1C-Vac</a>\\n</td>\\n<td colspan=\"3\" align=\"center\">1 \\xc3\\x97&#160;Merlin-1D-Vac\\n</td></tr>\\n<tr>\\n<td style=\"text-align:left\"><b>H\\xc3\\xb6he (maximal) (m)</b>\\n</td>\\n<td>54,9\\n</td>\\n<td>68,4\\n</td>\\n<td colspan=\"2\" align=\"center\">70,0\\n</td></tr>\\n<tr>\\n<td style=\"text-align:left\"><b>Durchmesser (m)</b>\\n</td>\\n<td>3,6\\n</td>\\n<td colspan=\"2\" align=\"center\">3,7\\n</td>\\n<td>3,7 \\xc3\\x97 12,2\\n</td></tr>\\n<tr>\\n<td style=\"text-align:left\"><b>Schub (am Boden) (<a href=\"/wiki/Newton_(Einheit)\" title=\"Newton (Einheit)\">kN</a>)</b>\\n</td>\\n<td>4.940\\n</td>\\n<td>5.885\\n</td>\\n<td>7.607\\n</td>\\n<td>22.819\\n</td></tr>\\n<tr>\\n<td style=\"text-align:left\"><b>Startmasse (<a href=\"/wiki/Tonne_(Einheit)\" title=\"Tonne (Einheit)\">t</a>)</b>\\n</td>\\n<td>333\\n</td>\\n<td>506\\n</td>\\n<td>541\\n</td>\\n<td>1.394\\n</td></tr>\\n<tr>\\n<td style=\"text-align:left\"><b>Nutzlastverkleidung<br />Durchmesser (m)</b>\\n</td>\\n<td colspan=\"4\" align=\"center\">5,2\\n</td></tr>\\n<tr>\\n<td style=\"text-align:left\"><b>Nutzlast (<a href=\"/wiki/Satellitenorbit#Low_Earth_Orbit_(LEO)\" title=\"Satellitenorbit\">LEO</a>) (kg)</b>\\n<p>Nicht wiederverwendbar:\\n</p>\\n</td>\\n<td>10.450\\n</td>\\n<td>13.150\\n</td>\\n<td>22.800<span class=\"reference\"><sup id=\"FN_A_2_back\"><a href=\"#FN_A_2\">A 2</a></sup></span>\\n</td>\\n<td>63.800<span class=\"reference\"><sup id=\"FN_A_2_back\"><a href=\"#FN_A_2\">A 2</a></sup></span><sup id=\"cite_ref-heavy_70-0\" class=\"reference\"><a href=\"#cite_note-heavy-70\">&#91;70&#93;</a></sup>\\n</td></tr>\\n<tr>\\n<td style=\"text-align:left\">Teilweise wiederverwendbar:\\n</td>\\n<td>na\\n</td>\\n<td>na\\n</td>\\n<td>ca. 15.000<sup id=\"cite_ref-:0_71-0\" class=\"reference\"><a href=\"#cite_note-:0-71\">&#91;71&#93;</a></sup>\\n</td>\\n<td>ca. 30.000<sup id=\"cite_ref-:0_71-1\" class=\"reference\"><a href=\"#cite_note-:0-71\">&#91;71&#93;</a></sup>\\n</td></tr>\\n<tr>\\n<td style=\"text-align:left\"><b>Nutzlast (<a href=\"/wiki/Geostation%C3%A4re_Transferbahn\" title=\"Geostation\\xc3\\xa4re Transferbahn\">GTO</a>) (kg)</b>\\n<p>Nicht wiederverwendbar:\\n</p>\\n</td>\\n<td>4.540\\n</td>\\n<td>4.850\\n</td>\\n<td>8.300<span class=\"reference\"><sup id=\"FN_A_2_back\"><a href=\"#FN_A_2\">A 2</a></sup></span>\\n</td>\\n<td>26.700<span class=\"reference\"><sup id=\"FN_A_2_back\"><a href=\"#FN_A_2\">A 2</a></sup></span><sup id=\"cite_ref-heavy_70-1\" class=\"reference\"><a href=\"#cite_note-heavy-70\">&#91;70&#93;</a></sup><sup id=\"cite_ref-Heavy_GTO_72-0\" class=\"reference\"><a href=\"#cite_note-Heavy_GTO-72\">&#91;72&#93;</a></sup>\\n</td></tr>\\n<tr>\\n<td style=\"text-align:left\">Teilweise wiederverwendbar:\\n</td>\\n<td>na\\n</td>\\n<td>\\n</td>\\n<td>bisher max. 7.080<sup id=\"cite_ref-73\" class=\"reference\"><a href=\"#cite_note-73\">&#91;73&#93;</a></sup> (Sub-GTO 244 \\xc3\\x97 ca. 18.000&#160;km)\\n<p>Block 3: kleiner als 5.500<sup id=\"cite_ref-74\" class=\"reference\"><a href=\"#cite_note-74\">&#91;74&#93;</a></sup>\\n</p><p>Block 5: na\\n</p>\\n</td>\\n<td>\\n</td></tr>\\n<tr>\\n<td style=\"text-align:left\"><b>Nutzlast (<a href=\"/wiki/Mars_(Planet)\" title=\"Mars (Planet)\">Mars</a>) (kg)</b>\\n</td>\\n<td colspan=\"2\" align=\"center\">na\\n</td>\\n<td>4.020<span class=\"reference\"><sup id=\"FN_A_2_back\"><a href=\"#FN_A_2\">A 2</a></sup></span>\\n</td>\\n<td>16.800<span class=\"reference\"><sup id=\"FN_A_2_back\"><a href=\"#FN_A_2\">A 2</a></sup></span><sup id=\"cite_ref-heavy_70-2\" class=\"reference\"><a href=\"#cite_note-heavy-70\">&#91;70&#93;</a></sup>\\n</td></tr>\\n<tr>\\n<td style=\"text-align:left\"><b>Nutzlast (<a href=\"/wiki/Pluto\" title=\"Pluto\">Pluto</a>) (kg)</b>\\n</td>\\n<td colspan=\"3\" align=\"center\">na\\n</td>\\n<td>3.500<span class=\"reference\"><sup id=\"FN_A_2_back\"><a href=\"#FN_A_2\">A 2</a></sup></span><sup id=\"cite_ref-heavy_70-3\" class=\"reference\"><a href=\"#cite_note-heavy-70\">&#91;70&#93;</a></sup>\\n</td></tr>\\n<tr>\\n<td style=\"text-align:left\"><b>Herstellkosten (Mio. US-Dollar)</b>\\n</td>\\n<td>na\\n</td>\\n<td>na\\n</td>\\n<td>ca. 60 (2017)<sup id=\"cite_ref-75\" class=\"reference\"><a href=\"#cite_note-75\">&#91;75&#93;</a></sup>\\n</td>\\n<td>na\\n</td></tr>\\n<tr>\\n<td style=\"text-align:left\"><b>Missionspreis (Mio. US-Dollar)</b>\\n</td>\\n<td>35\\n</td>\\n<td>61,2\\n</td>\\n<td>62<sup id=\"cite_ref-capabilities_76-0\" class=\"reference\"><a href=\"#cite_note-capabilities-76\">&#91;76&#93;</a></sup>\\n</td>\\n<td>90<sup id=\"cite_ref-capabilities_76-1\" class=\"reference\"><a href=\"#cite_note-capabilities-76\">&#91;76&#93;</a></sup>\\n</td></tr></tbody></table>\\n<div id=\"FN_A_1\"><a href=\"#FN_A_1_back\"><sup style=\"display:inline-block; min-width:0.5em;\">A 1</sup></a> Die Bezeichnungen werden von SpaceX nicht verwendet. Dort hei\\xc3\\x9fen alle Versionen einfach Falcon 9.</div>\\n<div id=\"FN_A_2\"><a href=\"#FN_A_2_back\"><sup style=\"display:inline-block; min-width:0.5em;\">A 2</sup></a> Ohne Bergung der Erststufe:\\n<ul><li>Falcon 9: Mit Bergung sinkt die Nutzlastkapazit\\xc3\\xa4t, je nach Zielorbit und ob Landung auf der Seeplattform oder R\\xc3\\xbcckflug zum Startplatz, um 15\\xe2\\x80\\x9330&#160;%.</li>\\n<li>Falcon Heavy: Bei Bergung der Seitenbooster sinkt die Nutzlast nur geringf\\xc3\\xbcgig (inoffiziell 7\\xe2\\x80\\x9310&#160;%). Mit Bergung der zentralen Erststufe sinkt die Nutzlastkapazit\\xc3\\xa4t zus\\xc3\\xa4tzlich \\xc3\\xa4hnlich wie bei Falcon 9.</li></ul></div>\\n<h2><span id=\"Startrampen_und_Landepl.C3.A4tze\"></span><span class=\"mw-headline\" id=\"Startrampen_und_Landepl\\xc3\\xa4tze\">Startrampen und Landepl\\xc3\\xa4tze</span><span class=\"mw-editsection\"><span class=\"mw-editsection-bracket\">[</span><a href=\"/w/index.php?title=Falcon_9&amp;veaction=edit&amp;section=17\" class=\"mw-editsection-visualeditor\" title=\"Abschnitt bearbeiten: Startrampen und Landepl\\xc3\\xa4tze\">Bearbeiten</a><span class=\"mw-editsection-divider\"> | </span><a href=\"/w/index.php?title=Falcon_9&amp;action=edit&amp;section=17\" title=\"Abschnitt bearbeiten: Startrampen und Landepl\\xc3\\xa4tze\">Quelltext bearbeiten</a><span class=\"mw-editsection-bracket\">]</span></span></h2>\\n<p>Die Falcon 9 startet vom <a href=\"/wiki/Cape_Canaveral_Air_Force_Station\" class=\"mw-redirect\" title=\"Cape Canaveral Air Force Station\">Luftwaffenst\\xc3\\xbctzpunkt Cape Canaveral</a> von der Startrampe <a href=\"/wiki/Cape_Canaveral_AFS_Launch_Complex_40\" class=\"mw-redirect\" title=\"Cape Canaveral AFS Launch Complex 40\">LC-40</a> sowie in <a href=\"/wiki/Vandenberg_Air_Force_Base\" class=\"mw-redirect\" title=\"Vandenberg Air Force Base\">Vandenberg</a> von der Startrampe <a href=\"/wiki/Vandenberg_AFB_Space_Launch_Complex_4\" class=\"mw-redirect\" title=\"Vandenberg AFB Space Launch Complex 4\">SLC-4E</a>. Im April 2014 wurde ein 20-Jahres-Mietvertrag f\\xc3\\xbcr die Startrampe <a href=\"/wiki/Kennedy_Space_Center_Launch_Complex_39\" title=\"Kennedy Space Center Launch Complex 39\">LC 39A</a> am <a href=\"/wiki/Kennedy_Space_Center\" title=\"Kennedy Space Center\">Kennedy Space Center</a> unterzeichnet, wo zuk\\xc3\\xbcnftig die Falcon Heavy und die bemannte Falcon&#160;9 mit <a href=\"/wiki/Dragon_V2\" class=\"mw-redirect\" title=\"Dragon V2\">Dragon V2</a> starten sollen.<sup id=\"cite_ref-77\" class=\"reference\"><a href=\"#cite_note-77\">&#91;77&#93;</a></sup> Der erste Start dort fand am 19.&#160;Februar 2017 im Zuge der CRS-10-Mission statt.<sup id=\"cite_ref-78\" class=\"reference\"><a href=\"#cite_note-78\">&#91;78&#93;</a></sup> Eine <a href=\"/wiki/SpaceX_South_Texas_Launch_Site\" title=\"SpaceX South Texas Launch Site\">eigene Startanlage</a> ist in der N\\xc3\\xa4he von <a href=\"/wiki/Brownsville_(Texas)\" title=\"Brownsville (Texas)\">Brownsville</a>, <a href=\"/wiki/Texas\" title=\"Texas\">Texas</a> im Bau. Hierf\\xc3\\xbcr erfolgte am 22.&#160;September 2014 der erste Spatenstich.<sup id=\"cite_ref-79\" class=\"reference\"><a href=\"#cite_note-79\">&#91;79&#93;</a></sup> Ab Ende 2018 sollen von dort aus <a href=\"/wiki/Suborbital\" class=\"mw-redirect\" title=\"Suborbital\">suborbitale</a> Testfl\\xc3\\xbcge m\\xc3\\xb6glich sein; mit kommerziellen Falcon-9-Fl\\xc3\\xbcgen wird fr\\xc3\\xbchestens ab der zweiten Jahresh\\xc3\\xa4lfte 2019 gerechnet.\\n</p><p>Als Landeplatz an Land an der Ostk\\xc3\\xbcste fungiert die \\xe2\\x80\\x9eLanding Zone 1\\xe2\\x80\\x9c auf dem Luftwaffenst\\xc3\\xbctzpunkt Cape Canaveral. Dabei handelt es sich um den fr\\xc3\\xbcheren <a href=\"/wiki/Cape_Canaveral_AFS_Launch_Complex_13\" title=\"Cape Canaveral AFS Launch Complex 13\">Launch Complex 13</a>, der nun \\xc3\\xbcber eine gro\\xc3\\x9fe befestigte Landefl\\xc3\\xa4che aus Beton verf\\xc3\\xbcgt. F\\xc3\\xbcr Starts von Vandenberg an der Westk\\xc3\\xbcste befindet sich ebenfalls ein betonierter Landeplatz auf dem dortigen Startgel\\xc3\\xa4nde. Daneben verf\\xc3\\xbcgt SpaceX mit den <a href=\"/wiki/Autonomous_spaceport_drone_ship\" class=\"mw-redirect\" title=\"Autonomous spaceport drone ship\">Autonomous spaceport drone ships</a> \\xc3\\xbcber mehrere schwimmende Plattformen f\\xc3\\xbcr Landungen auf dem Ozean.\\n</p>\\n<h2><span class=\"mw-headline\" id=\"Startliste\">Startliste</span><span class=\"mw-editsection\"><span class=\"mw-editsection-bracket\">[</span><a href=\"/w/index.php?title=Falcon_9&amp;veaction=edit&amp;section=18\" class=\"mw-editsection-visualeditor\" title=\"Abschnitt bearbeiten: Startliste\">Bearbeiten</a><span class=\"mw-editsection-divider\"> | </span><a href=\"/w/index.php?title=Falcon_9&amp;action=edit&amp;section=18\" title=\"Abschnitt bearbeiten: Startliste\">Quelltext bearbeiten</a><span class=\"mw-editsection-bracket\">]</span></span></h2>\\n<p>\\xe2\\x86\\x92 <i>Siehe: <a href=\"/wiki/Liste_der_Falcon-Raketenstarts\" class=\"mw-redirect\" title=\"Liste der Falcon-Raketenstarts\">Liste der Falcon-Raketenstarts</a></i>\\n</p>\\n<h2><span class=\"mw-headline\" id=\"Weblinks\">Weblinks</span><span class=\"mw-editsection\"><span class=\"mw-editsection-bracket\">[</span><a href=\"/w/index.php?title=Falcon_9&amp;veaction=edit&amp;section=19\" class=\"mw-editsection-visualeditor\" title=\"Abschnitt bearbeiten: Weblinks\">Bearbeiten</a><span class=\"mw-editsection-divider\"> | </span><a href=\"/w/index.php?title=Falcon_9&amp;action=edit&amp;section=19\" title=\"Abschnitt bearbeiten: Weblinks\">Quelltext bearbeiten</a><span class=\"mw-editsection-bracket\">]</span></span></h2>\\n<div class=\"sisterproject\" style=\"margin:0.1em 0 0 0;\"><div class=\"noviewer\" style=\"display:inline-block; line-height:10px; min-width:1.6em; text-align:center;\" aria-hidden=\"true\" role=\"presentation\"><img alt=\"\" src=\"//upload.wikimedia.org/wikipedia/commons/thumb/4/4a/Commons-logo.svg/12px-Commons-logo.svg.png\" decoding=\"async\" title=\"Commons\" width=\"12\" height=\"16\" srcset=\"//upload.wikimedia.org/wikipedia/commons/thumb/4/4a/Commons-logo.svg/18px-Commons-logo.svg.png 1.5x, //upload.wikimedia.org/wikipedia/commons/thumb/4/4a/Commons-logo.svg/24px-Commons-logo.svg.png 2x\" data-file-width=\"1024\" data-file-height=\"1376\" /></div><b><span class=\"plainlinks\"><a class=\"external text\" href=\"https://commons.wikimedia.org/wiki/Category:Falcon_9?uselang=de\"><span lang=\"en\">Commons</span>: Falcon 9</a></span></b>&#160;\\xe2\\x80\\x93 Sammlung von Bildern, Videos und Audiodateien</div>\\n<ul><li><a rel=\"nofollow\" class=\"external text\" href=\"http://www.spacex.com/falcon9\">Falcon 9</a>, SpaceX (englisch)</li>\\n<li><a rel=\"nofollow\" class=\"external text\" href=\"https://www.spacex.com/sites/spacex/files/falcon_users_guide_0219.pdf\">Falcon-Handbuch</a>, SpaceX 2019 (englisch, PDF)</li>\\n<li>Bernd Leitenberger: <a rel=\"nofollow\" class=\"external text\" href=\"http://www.bernd-leitenberger.de/falcon9.shtml\">Falcon 9</a></li>\\n<li><a rel=\"nofollow\" class=\"external text\" href=\"http://space.skyrocket.de/doc_lau/falcon-9.htm\">Falcon 9 family.</a> Gunter\\xe2\\x80\\x99s Space Page (englisch)</li>\\n<li>Bernd Leitenberger: <a rel=\"nofollow\" class=\"external text\" href=\"http://www.bernd-leitenberger.de/falcon-starts-zusammenfassung.shtml\">Die Starts der Falcon 1 und 9</a></li></ul>\\n<h2><span class=\"mw-headline\" id=\"Einzelnachweise\">Einzelnachweise</span><span class=\"mw-editsection\"><span class=\"mw-editsection-bracket\">[</span><a href=\"/w/index.php?title=Falcon_9&amp;veaction=edit&amp;section=20\" class=\"mw-editsection-visualeditor\" title=\"Abschnitt bearbeiten: Einzelnachweise\">Bearbeiten</a><span class=\"mw-editsection-divider\"> | </span><a href=\"/w/index.php?title=Falcon_9&amp;action=edit&amp;section=20\" title=\"Abschnitt bearbeiten: Einzelnachweise\">Quelltext bearbeiten</a><span class=\"mw-editsection-bracket\">]</span></span></h2>\\n<div class=\"mw-references-wrap mw-references-columns\"><ol class=\"references\">\\n<li id=\"cite_note-twitter.com-1\"><span class=\"mw-cite-backlink\">\\xe2\\x86\\x91 <sup><a href=\"#cite_ref-twitter.com_1-0\">a</a></sup> <sup><a href=\"#cite_ref-twitter.com_1-1\">b</a></sup></span> <span class=\"reference-text\"><cite><a rel=\"nofollow\" class=\"external text\" href=\"https://twitter.com/SpaceX/status/679113860960288769\">SpaceX on Twitter</a></cite>.&#32;In: <cite>Twitter</cite>.&#32;Abgerufen am 5.&#160;Januar 2016.</span>\\n</li>\\n<li id=\"cite_note-zeitonlinegmbh,hamburg,germany-2\"><span class=\"mw-cite-backlink\">\\xe2\\x86\\x91 <sup><a href=\"#cite_ref-zeitonlinegmbh,hamburg,germany_2-0\">a</a></sup> <sup><a href=\"#cite_ref-zeitonlinegmbh,hamburg,germany_2-1\">b</a></sup></span> <span class=\"reference-text\"><cite><a rel=\"nofollow\" class=\"external text\" href=\"http://www.zeit.de/wissen/2015-12/spacex-landung\">SpaceX: Falcon 9 kehrt erstmals erfolgreich zur Erde zur\\xc3\\xbcck</a></cite>.&#32;In: <cite>Zeit Online</cite>.&#32;22.&#160;Dezember 2015.&#32;Abgerufen am 5.&#160;Januar 2016.</span>\\n</li>\\n<li id=\"cite_note-3\"><span class=\"mw-cite-backlink\"><a href=\"#cite_ref-3\">\\xe2\\x86\\x91</a></span> <span class=\"reference-text\"><span class=\"cite\"><a rel=\"nofollow\" class=\"external text\" href=\"https://humanmarsmission.de/spacex-plant-historisches/\"><i>SpaceX plant Historisches.</i></a><span class=\"Abrufdatum\">&#32;Abgerufen am 27.&#160;Februar 2017</span>.</span><span style=\"display: none;\" class=\"Z3988\" title=\"ctx_ver=Z39.88-2004&amp;rft_val_fmt=info%3Aofi%2Ffmt%3Akev%3Amtx%3Adc&amp;rfr_id=info%3Asid%2Fde.wikipedia.org%3AFalcon+9&amp;rft.title=SpaceX+plant+Historisches&amp;rft.description=SpaceX+plant+Historisches&amp;rft.identifier=https%3A%2F%2Fhumanmarsmission.de%2Fspacex-plant-historisches%2F&amp;rft.language=de\">&#160;</span></span>\\n</li>\\n<li id=\"cite_note-4\"><span class=\"mw-cite-backlink\"><a href=\"#cite_ref-4\">\\xe2\\x86\\x91</a></span> <span class=\"reference-text\"><a rel=\"nofollow\" class=\"external text\" href=\"http://www.spaceref.com/news/viewpr.html?pid=17763\"><i>SpaceX Announces the Falcon 9 Fully Reusable Heavy Lift Launch Vehicle.</i></a> SpaceX-Pressemeldung auf spaceref.com, 9. September 2005.</span>\\n</li>\\n<li id=\"cite_note-5\"><span class=\"mw-cite-backlink\"><a href=\"#cite_ref-5\">\\xe2\\x86\\x91</a></span> <span class=\"reference-text\"><a rel=\"nofollow\" class=\"external text\" href=\"https://www.faa.gov/about/office_org/headquarters_offices/ast/licenses_permits/media/Final_SpaceX%20LLS%2014-087%20(Rev%202)%20-%20MPL%20Modification%20(Order%20D%20Rev%20%204)%203_28_2018.pdf\"><i>Commercial Space Transportation License No LLS 14-087 (Rev 2).</i></a> FAA, 28. Februar 2014, zuletzt ge\\xc3\\xa4ndert am 4. Dezember 2017. Unten auf Seite 2 finden sich in chronologischer Reihenfolge die Bezeichnungen <i>Falcon 9 Version 1.1</i>, <i>Falcon 9 Version 1.2</i> und <i>Falcon 9</i>.</span>\\n</li>\\n<li id=\"cite_note-6\"><span class=\"mw-cite-backlink\"><a href=\"#cite_ref-6\">\\xe2\\x86\\x91</a></span> <span class=\"reference-text\">Ian Atkinson: <a rel=\"nofollow\" class=\"external text\" href=\"https://www.nasaspaceflight.com/2018/02/first-falcon-9-block-5-readying-static-fire-mcgregor-rapid-reuse/\"><i>First Falcon 9 Block 5 booster readying for static fire at McGregor; paving way for rapid reuse.</i></a> nasaspaceflight.com, 27. Februar 2018.</span>\\n</li>\\n<li id=\"cite_note-7\"><span class=\"mw-cite-backlink\"><a href=\"#cite_ref-7\">\\xe2\\x86\\x91</a></span> <span class=\"reference-text\"><span class=\"cite\">Thiago V. Goncalves:&#32;<a rel=\"nofollow\" class=\"external text\" href=\"https://twitter.com/zerosixbravo/status/878735389758025729\"><i>Grid fins are made of titanium, 1st stage is block 3, 2nd stage is block 4.</i></a>&#32;In:&#32;<i>@zerosixbravo.</i>&#32;24.&#160;Juni 2017&#44;<span class=\"Abrufdatum\">&#32;abgerufen am 25.&#160;Juni 2017</span>.</span><span style=\"display: none;\" class=\"Z3988\" title=\"ctx_ver=Z39.88-2004&amp;rft_val_fmt=info%3Aofi%2Ffmt%3Akev%3Amtx%3Adc&amp;rfr_id=info%3Asid%2Fde.wikipedia.org%3AFalcon+9&amp;rft.title=Grid+fins+are+made+of+titanium%2C+1st+stage+is+block+3%2C+2nd+stage+is+block+4.&amp;rft.description=Grid+fins+are+made+of+titanium%2C+1st+stage+is+block+3%2C+2nd+stage+is+block+4.&amp;rft.identifier=https%3A%2F%2Ftwitter.com%2Fzerosixbravo%2Fstatus%2F878735389758025729&amp;rft.creator=Thiago+V.+Goncalves&amp;rft.date=2017-06-24\">&#160;</span></span>\\n</li>\\n<li id=\"cite_note-8\"><span class=\"mw-cite-backlink\"><a href=\"#cite_ref-8\">\\xe2\\x86\\x91</a></span> <span class=\"reference-text\"><span class=\"cite\">Chris B.- NSF:&#32;<a rel=\"nofollow\" class=\"external text\" href=\"https://twitter.com/NASASpaceflight/status/878736938613821441\"><i>Hello new grid fins.pic.twitter.com/9udu4HElOx.</i></a>&#32;In:&#32;<i>@NASASpaceflight.</i>&#32;24.&#160;Juni 2017&#44;<span class=\"Abrufdatum\">&#32;abgerufen am 25.&#160;Juni 2017</span>.</span><span style=\"display: none;\" class=\"Z3988\" title=\"ctx_ver=Z39.88-2004&amp;rft_val_fmt=info%3Aofi%2Ffmt%3Akev%3Amtx%3Adc&amp;rfr_id=info%3Asid%2Fde.wikipedia.org%3AFalcon+9&amp;rft.title=Hello+new+grid+fins.pic.twitter.com%2F9udu4HElOx&amp;rft.description=Hello+new+grid+fins.pic.twitter.com%2F9udu4HElOx&amp;rft.identifier=https%3A%2F%2Ftwitter.com%2FNASASpaceflight%2Fstatus%2F878736938613821441&amp;rft.creator=Chris+B.-+NSF&amp;rft.date=2017-06-24\">&#160;</span></span>\\n</li>\\n<li id=\"cite_note-9\"><span class=\"mw-cite-backlink\"><a href=\"#cite_ref-9\">\\xe2\\x86\\x91</a></span> <span class=\"reference-text\"><span class=\"cite\">Elon Musk:&#32;<a rel=\"nofollow\" class=\"external text\" href=\"https://twitter.com/elonmusk/status/878821062326198272\"><i>Flying with larger &amp; significantly upgraded hypersonic grid fins. Single piece cast &amp; cut titanium. Can take reentry heat with no shielding.https://twitter.com/spacex/status/878732650277617664&#160;\\xe2\\x80\\xa6</i></a>&#32;In:&#32;<i>@elonmusk.</i>&#32;24.&#160;Juni 2017&#44;<span class=\"Abrufdatum\">&#32;abgerufen am 25.&#160;Juni 2017</span>&#58;&#32;\\xe2\\x80\\x9eFliegt mit gr\\xc3\\xb6\\xc3\\x9feren und deutlich verbesserten \\xc3\\x9cberschall-Gitterflossen. Aus einem St\\xc3\\xbcck Titan gegossen und geschnitten. Nimmt die Wiedereintrittshitze ohne Schutzschicht.\\xe2\\x80\\x9c</span><span style=\"display: none;\" class=\"Z3988\" title=\"ctx_ver=Z39.88-2004&amp;rft_val_fmt=info%3Aofi%2Ffmt%3Akev%3Amtx%3Adc&amp;rfr_id=info%3Asid%2Fde.wikipedia.org%3AFalcon+9&amp;rft.title=Flying+with+larger+%26+significantly+upgraded+hypersonic+grid+fins.+Single+piece+cast+%26+cut+titanium.+Can+take+reentry+heat+with+no+shielding.https%3A%2F%2Ftwitter.com%2Fspacex%2Fstatus%2F878732650277617664%26nbsp%3B%E2%80%A6&amp;rft.description=Flying+with+larger+%26+significantly+upgraded+hypersonic+grid+fins.+Single+piece+cast+%26+cut+titanium.+Can+take+reentry+heat+with+no+shielding.https%3A%2F%2Ftwitter.com%2Fspacex%2Fstatus%2F878732650277617664%26nbsp%3B%E2%80%A6&amp;rft.identifier=https%3A%2F%2Ftwitter.com%2Felonmusk%2Fstatus%2F878821062326198272&amp;rft.creator=Elon+Musk&amp;rft.date=2017-06-24\">&#160;</span></span>\\n</li>\\n<li id=\"cite_note-10\"><span class=\"mw-cite-backlink\"><a href=\"#cite_ref-10\">\\xe2\\x86\\x91</a></span> <span class=\"reference-text\">Jeff Foust&#58; <cite style=\"font-style:italic\">Musk offers more details about Mars mission architecture \\xe2\\x80\\x93 SpaceNews.com</cite>. In: <cite style=\"font-style:italic\">SpaceNews.com</cite>. 23.&#160;Oktober 2016 (<a rel=\"nofollow\" class=\"external text\" href=\"http://spacenews.com/musk-offers-more-details-about-mars-mission-architecture/\">spacenews.com</a> &#91;abgerufen am 14.&#160;Mai 2017&#93;): \\xe2\\x80\\x9eMusk did, though, briefly address an upcoming, and \\xe2\\x80\\x9cfinal,\\xe2\\x80\\x9d version of the rocket, which he called Block 5, that is designed for frequent reusability. \\xe2\\x80\\x9eFalcon 9 Block 5 \\xe2\\x80\\x93 the final version in the series \\xe2\\x80\\x93 is the one that has the most performance and is designed for easy reuse, so it just makes sense to focus on that long term and retire the earlier versions,\\xe2\\x80\\x9c he wrote. That version includes many \\xe2\\x80\\x9eminor refinements\\xe2\\x80\\x9c but also increased thrust and improved landing legs, he said. The first of the Block 5 Falcon 9 vehicles will begin production in three months, with an initial flight in six to eight months. With its entry into service, he said he doesn\\xe2\\x80\\x99t expect recovered first stages from the older Block 3 and Block 4 versions of the rocket to be reused more than a few times. In a speech earlier this month, SpaceX President Gwynne Shotwell said she believed the updated version of the Falcon 9 could be reused up to 10 times. Musk, though, was more optimistic. \\xe2\\x80\\x9eI think the F9 boosters could be used almost indefinitely, so long as there is scheduled maintenance and careful inspections,\\xe2\\x80\\x9c he said. \\xe2\\x80\\x93 See more at: <a rel=\"nofollow\" class=\"external free\" href=\"http://spacenews.com/musk-offers-more-details-about-mars-mission-architecture/#sthash.DrycWKUD.dpuf\\xe2\\x80\\x9c\">http://spacenews.com/musk-offers-more-details-about-mars-mission-architecture/#sthash.DrycWKUD.dpuf\\xe2\\x80\\x9c</a><span class=\"Z3988\" title=\"ctx_ver=Z39.88-2004&amp;rft_val_fmt=info%3Aofi%2Ffmt%3Akev%3Amtx%3Abook&amp;rfr_id=info:sid/de.wikipedia.org:Falcon+9&amp;rft.atitle=Musk+offers+more+details+about+Mars+mission+architecture+-+SpaceNews.com&amp;rft.au=Jeff+Foust&amp;rft.btitle=SpaceNews.com&amp;rft.date=2016-10-23&amp;rft.genre=book\" style=\"display:none\">&#160;</span></span>\\n</li>\\n<li id=\"cite_note-11\"><span class=\"mw-cite-backlink\"><a href=\"#cite_ref-11\">\\xe2\\x86\\x91</a></span> <span class=\"reference-text\"><span class=\"cite\">Stephen Clark:&#32;<a rel=\"nofollow\" class=\"external text\" href=\"https://spaceflightnow.com/2017/04/04/musk-previews-busy-year-ahead-for-spacex/\"><i>Musk previews busy year ahead for SpaceX \\xe2\\x80\\x93 Spaceflight Now.</i></a><span class=\"Abrufdatum\">&#32;Abgerufen am 14.&#160;Mai 2017</span>&#58;&#32;\\xe2\\x80\\x9e\\xe2\\x80\\x9cThe most important part of Block 5 will be operating the engines at their full thrust capability, which is about 7 or 8 percent \\xe2\\x80\\x93 almost 10 percent \\xe2\\x80\\x93 more than what they currently run at,\\xe2\\x80\\x9d Musk said.\\xe2\\x80\\x9c</span><span style=\"display: none;\" class=\"Z3988\" title=\"ctx_ver=Z39.88-2004&amp;rft_val_fmt=info%3Aofi%2Ffmt%3Akev%3Amtx%3Adc&amp;rfr_id=info%3Asid%2Fde.wikipedia.org%3AFalcon+9&amp;rft.title=Musk+previews+busy+year+ahead+for+SpaceX+%E2%80%93+Spaceflight+Now&amp;rft.description=Musk+previews+busy+year+ahead+for+SpaceX+%E2%80%93+Spaceflight+Now&amp;rft.identifier=https%3A%2F%2Fspaceflightnow.com%2F2017%2F04%2F04%2Fmusk-previews-busy-year-ahead-for-spacex%2F&amp;rft.creator=Stephen+Clark\">&#160;</span></span>\\n</li>\\n<li id=\"cite_note-12\"><span class=\"mw-cite-backlink\"><a href=\"#cite_ref-12\">\\xe2\\x86\\x91</a></span> <span class=\"reference-text\"><span class=\"cite\">Stephen Clark:&#32;<a rel=\"nofollow\" class=\"external text\" href=\"https://spaceflightnow.com/2017/04/04/musk-previews-busy-year-ahead-for-spacex/\"><i>Musk previews busy year ahead for SpaceX \\xe2\\x80\\x93 Spaceflight Now.</i></a><span class=\"Abrufdatum\">&#32;Abgerufen am 14.&#160;Mai 2017</span>&#58;&#32;\\xe2\\x80\\x9eThe upgraded rocket will have more control authority on descent, Musk added. \\xe2\\x80\\x9eIt will actually improve the payload to orbit by being able to fly at a higher angle of attack, and use the aerodynamic elements to effectively glide,\\xe2\\x80\\x9c Musk said. \\xe2\\x80\\x9eIt actually does have a lift-over-drag (ratio) of roughly one if flown at the right angle of attack, but you need control authority, particularly pitch control authority.\\xe2\\x80\\x9c\\xe2\\x80\\x9c</span><span style=\"display: none;\" class=\"Z3988\" title=\"ctx_ver=Z39.88-2004&amp;rft_val_fmt=info%3Aofi%2Ffmt%3Akev%3Amtx%3Adc&amp;rfr_id=info%3Asid%2Fde.wikipedia.org%3AFalcon+9&amp;rft.title=Musk+previews+busy+year+ahead+for+SpaceX+%E2%80%93+Spaceflight+Now&amp;rft.description=Musk+previews+busy+year+ahead+for+SpaceX+%E2%80%93+Spaceflight+Now&amp;rft.identifier=https%3A%2F%2Fspaceflightnow.com%2F2017%2F04%2F04%2Fmusk-previews-busy-year-ahead-for-spacex%2F&amp;rft.creator=Stephen+Clark\">&#160;</span></span>\\n</li>\\n<li id=\"cite_note-13\"><span class=\"mw-cite-backlink\"><a href=\"#cite_ref-13\">\\xe2\\x86\\x91</a></span> <span class=\"reference-text\"><span class=\"cite\">Stephen Clark:&#32;<a rel=\"nofollow\" class=\"external text\" href=\"https://spaceflightnow.com/2017/04/04/musk-previews-busy-year-ahead-for-spacex/\"><i>Musk previews busy year ahead for SpaceX \\xe2\\x80\\x93 Spaceflight Now.</i></a><span class=\"Abrufdatum\">&#32;Abgerufen am 14.&#160;Mai 2017</span>&#58;&#32;\\xe2\\x80\\x9eThe new grid fins will replace the first stage\\xe2\\x80\\x99s current aluminum winglets, four of which help stabilize and steer the rocket during descent. SpaceX added the grid fins to the first stage after initial experiments with ocean landings, incorporating the deployable fins to improve steering.\\xe2\\x80\\x9c</span><span style=\"display: none;\" class=\"Z3988\" title=\"ctx_ver=Z39.88-2004&amp;rft_val_fmt=info%3Aofi%2Ffmt%3Akev%3Amtx%3Adc&amp;rfr_id=info%3Asid%2Fde.wikipedia.org%3AFalcon+9&amp;rft.title=Musk+previews+busy+year+ahead+for+SpaceX+%E2%80%93+Spaceflight+Now&amp;rft.description=Musk+previews+busy+year+ahead+for+SpaceX+%E2%80%93+Spaceflight+Now&amp;rft.identifier=https%3A%2F%2Fspaceflightnow.com%2F2017%2F04%2F04%2Fmusk-previews-busy-year-ahead-for-spacex%2F&amp;rft.creator=Stephen+Clark\">&#160;</span></span>\\n</li>\\n<li id=\"cite_note-14\"><span class=\"mw-cite-backlink\"><a href=\"#cite_ref-14\">\\xe2\\x86\\x91</a></span> <span class=\"reference-text\"><span class=\"cite\"><a rel=\"nofollow\" class=\"external text\" href=\"https://www.reddit.com/r/SpaceXLounge/comments/59lndj/f9_block_5_improved_legs/\"><i>F9 \\xe2\\x80\\x93 Block 5, Improved Legs \\xe2\\x80\\xa2 r/SpaceXLounge.</i></a><span class=\"Abrufdatum\">&#32;Abgerufen am 14.&#160;Mai 2017</span>&#58;&#32;\\xe2\\x80\\x9eFinal Falcon 9 has a lot of minor refinements that collectively are important, but uprated thrust and improved legs are the most significant.\\xe2\\x80\\x9c</span><span style=\"display: none;\" class=\"Z3988\" title=\"ctx_ver=Z39.88-2004&amp;rft_val_fmt=info%3Aofi%2Ffmt%3Akev%3Amtx%3Adc&amp;rfr_id=info%3Asid%2Fde.wikipedia.org%3AFalcon+9&amp;rft.title=F9+%E2%80%93+Block+5%2C+Improved+Legs+%E2%80%A2+r%2FSpaceXLounge&amp;rft.description=F9+%E2%80%93+Block+5%2C+Improved+Legs+%E2%80%A2+r%2FSpaceXLounge&amp;rft.identifier=https%3A%2F%2Fwww.reddit.com%2Fr%2FSpaceXLounge%2Fcomments%2F59lndj%2Ff9_block_5_improved_legs%2F&amp;rft.language=de\">&#160;</span></span>\\n</li>\\n<li id=\"cite_note-15\"><span class=\"mw-cite-backlink\"><a href=\"#cite_ref-15\">\\xe2\\x86\\x91</a></span> <span class=\"reference-text\"><span class=\"cite\">Stephen Clark:&#32;<a rel=\"nofollow\" class=\"external text\" href=\"https://spaceflightnow.com/2017/04/04/musk-previews-busy-year-ahead-for-spacex/\"><i>Musk previews busy year ahead for SpaceX \\xe2\\x80\\x93 Spaceflight Now.</i></a><span class=\"Abrufdatum\">&#32;Abgerufen am 14.&#160;Mai 2017</span>&#58;&#32;\\xe2\\x80\\x9eEngineers want to add a thermal barrier coating to replace the paint currently used on the first stage, which can melt and bubble from the extreme heating of re-entry. The heat shield at the base of the rocket protects the engines and the plumbing of the booster\\xe2\\x80\\x99s propulsion system. It currently has to be replaced between each launch of the same rocket. \\xe2\\x80\\x9eI think we\\xe2\\x80\\x99ve got the base heat shield thing addressed,\\xe2\\x80\\x9c Musk said.\\xe2\\x80\\x9c</span><span style=\"display: none;\" class=\"Z3988\" title=\"ctx_ver=Z39.88-2004&amp;rft_val_fmt=info%3Aofi%2Ffmt%3Akev%3Amtx%3Adc&amp;rfr_id=info%3Asid%2Fde.wikipedia.org%3AFalcon+9&amp;rft.title=Musk+previews+busy+year+ahead+for+SpaceX+%E2%80%93+Spaceflight+Now&amp;rft.description=Musk+previews+busy+year+ahead+for+SpaceX+%E2%80%93+Spaceflight+Now&amp;rft.identifier=https%3A%2F%2Fspaceflightnow.com%2F2017%2F04%2F04%2Fmusk-previews-busy-year-ahead-for-spacex%2F&amp;rft.creator=Stephen+Clark\">&#160;</span></span>\\n</li>\\n<li id=\"cite_note-16\"><span class=\"mw-cite-backlink\"><a href=\"#cite_ref-16\">\\xe2\\x86\\x91</a></span> <span class=\"reference-text\"><span class=\"cite\">Stephen Clark:&#32;<a rel=\"nofollow\" class=\"external text\" href=\"https://spaceflightnow.com/2017/04/04/musk-previews-busy-year-ahead-for-spacex/\"><i>Musk previews busy year ahead for SpaceX \\xe2\\x80\\x93 Spaceflight Now.</i></a><span class=\"Abrufdatum\">&#32;Abgerufen am 17.&#160;April 2017</span>&#58;&#32;\\xe2\\x80\\x9eThe Block 5 upgrade \\xe2\\x80\\x93 \\xe2\\x80\\xa6 \\xe2\\x80\\x93 will include around 100 changes to the vehicle, according to Gwynne Shotwell, SpaceX\\xe2\\x80\\x99s president and chief operating officer.\\xe2\\x80\\x9c</span><span style=\"display: none;\" class=\"Z3988\" title=\"ctx_ver=Z39.88-2004&amp;rft_val_fmt=info%3Aofi%2Ffmt%3Akev%3Amtx%3Adc&amp;rfr_id=info%3Asid%2Fde.wikipedia.org%3AFalcon+9&amp;rft.title=Musk+previews+busy+year+ahead+for+SpaceX+%E2%80%93+Spaceflight+Now&amp;rft.description=Musk+previews+busy+year+ahead+for+SpaceX+%E2%80%93+Spaceflight+Now&amp;rft.identifier=https%3A%2F%2Fspaceflightnow.com%2F2017%2F04%2F04%2Fmusk-previews-busy-year-ahead-for-spacex%2F&amp;rft.creator=Stephen+Clark\">&#160;</span></span>\\n</li>\\n<li id=\"cite_note-17\"><span class=\"mw-cite-backlink\"><a href=\"#cite_ref-17\">\\xe2\\x86\\x91</a></span> <span class=\"reference-text\"><cite style=\"font-style:italic\">Elon Musk on Twitter</cite>. In: <cite style=\"font-style:italic\">Twitter</cite>. (<a rel=\"nofollow\" class=\"external text\" href=\"https://twitter.com/elonmusk/status/822985910782283776\">twitter.com</a> &#91;abgerufen am 10.&#160;M\\xc3\\xa4rz 2017&#93;): \\xe2\\x80\\x9eYes. Block 5 is the final upgrade of the Falcon architecture. Significantly improves performance &amp; ease of reusability. Flies end of year.\\xe2\\x80\\x9c<span class=\"Z3988\" title=\"ctx_ver=Z39.88-2004&amp;rft_val_fmt=info%3Aofi%2Ffmt%3Akev%3Amtx%3Abook&amp;rfr_id=info:sid/de.wikipedia.org:Falcon+9&amp;rft.atitle=Elon+Musk+on+Twitter&amp;rft.btitle=Twitter&amp;rft.genre=book\" style=\"display:none\">&#160;</span></span>\\n</li>\\n<li id=\"cite_note-18\"><span class=\"mw-cite-backlink\"><a href=\"#cite_ref-18\">\\xe2\\x86\\x91</a></span> <span class=\"reference-text\"><span class=\"cite\">Stephen Clark:&#32;<a rel=\"nofollow\" class=\"external text\" href=\"https://spaceflightnow.com/2017/04/04/musk-previews-busy-year-ahead-for-spacex/\"><i>Musk previews busy year ahead for SpaceX \\xe2\\x80\\x93 Spaceflight Now.</i></a><span class=\"Abrufdatum\">&#32;Abgerufen am 14.&#160;Mai 2017</span>&#58;&#32;\\xe2\\x80\\x9eThe so-called Block 5 configuration of the Falcon 9 will fly at least seven times with a \\xe2\\x80\\x9efrozen\\xe2\\x80\\x9c design before NASA puts astronauts on the rocket, according to space agency officials.\\xe2\\x80\\x9c</span><span style=\"display: none;\" class=\"Z3988\" title=\"ctx_ver=Z39.88-2004&amp;rft_val_fmt=info%3Aofi%2Ffmt%3Akev%3Amtx%3Adc&amp;rfr_id=info%3Asid%2Fde.wikipedia.org%3AFalcon+9&amp;rft.title=Musk+previews+busy+year+ahead+for+SpaceX+%E2%80%93+Spaceflight+Now&amp;rft.description=Musk+previews+busy+year+ahead+for+SpaceX+%E2%80%93+Spaceflight+Now&amp;rft.identifier=https%3A%2F%2Fspaceflightnow.com%2F2017%2F04%2F04%2Fmusk-previews-busy-year-ahead-for-spacex%2F&amp;rft.creator=Stephen+Clark\">&#160;</span></span>\\n</li>\\n<li id=\"cite_note-19\"><span class=\"mw-cite-backlink\"><a href=\"#cite_ref-19\">\\xe2\\x86\\x91</a></span> <span class=\"reference-text\"><span class=\"cite\"><a rel=\"nofollow\" class=\"external text\" href=\"https://www.teslarati.com/spacex-falcon-9-hundreds-launches-30-rocket-fleet/\"><i>SpaceX expects 100s of Falcon 9 launches with fleet of 30 rockets, says Elon Musk.</i></a>&#32;In:&#32;<i>Teslarati.</i>&#32;10.&#160;Mai 2018&#44;<span class=\"Abrufdatum\">&#32;abgerufen am 11.&#160;Mai 2018</span>.</span><span style=\"display: none;\" class=\"Z3988\" title=\"ctx_ver=Z39.88-2004&amp;rft_val_fmt=info%3Aofi%2Ffmt%3Akev%3Amtx%3Adc&amp;rfr_id=info%3Asid%2Fde.wikipedia.org%3AFalcon+9&amp;rft.title=SpaceX+expects+100s+of+Falcon+9+launches+with+fleet+of+30+rockets%2C+says+Elon+Musk&amp;rft.description=SpaceX+expects+100s+of+Falcon+9+launches+with+fleet+of+30+rockets%2C+says+Elon+Musk&amp;rft.identifier=https%3A%2F%2Fwww.teslarati.com%2Fspacex-falcon-9-hundreds-launches-30-rocket-fleet%2F&amp;rft.date=2018-05-10\">&#160;</span></span>\\n</li>\\n<li id=\"cite_note-20\"><span class=\"mw-cite-backlink\"><a href=\"#cite_ref-20\">\\xe2\\x86\\x91</a></span> <span class=\"reference-text\"><span class=\"cite\">Loren Grush:&#32;<a rel=\"nofollow\" class=\"external text\" href=\"https://www.theverge.com/2018/5/11/17341452/spacex-falcon-9-block-5-launch-landing-success\"><i>With the landing of SpaceX\\xe2\\x80\\x99s powerful new Falcon 9, a new era of rocket reusability takes off.</i></a>&#32;In:&#32;<i>The Verge.</i>&#32;Vox Media,&#32;11.&#160;Mai 2018&#44;<span class=\"Abrufdatum\">&#32;abgerufen am 22.&#160;Juli 2018</span>&#32;(englisch).</span><span style=\"display: none;\" class=\"Z3988\" title=\"ctx_ver=Z39.88-2004&amp;rft_val_fmt=info%3Aofi%2Ffmt%3Akev%3Amtx%3Adc&amp;rfr_id=info%3Asid%2Fde.wikipedia.org%3AFalcon+9&amp;rft.title=With+the+landing+of+SpaceX%E2%80%99s+powerful+new+Falcon+9%2C+a+new+era+of+rocket+reusability+takes+off&amp;rft.description=With+the+landing+of+SpaceX%E2%80%99s+powerful+new+Falcon+9%2C+a+new+era+of+rocket+reusability+takes+off&amp;rft.identifier=https%3A%2F%2Fwww.theverge.com%2F2018%2F5%2F11%2F17341452%2Fspacex-falcon-9-block-5-launch-landing-success&amp;rft.creator=Loren+Grush&amp;rft.publisher=Vox+Media&amp;rft.date=2018-05-11&amp;rft.language=en\">&#160;</span></span>\\n</li>\\n<li id=\"cite_note-21\"><span class=\"mw-cite-backlink\"><a href=\"#cite_ref-21\">\\xe2\\x86\\x91</a></span> <span class=\"reference-text\"><span class=\"cite\">Stephen Clark:&#32;<a rel=\"nofollow\" class=\"external text\" href=\"https://spaceflightnow.com/2018/05/10/falcon-9-bangabandhu-1-mission-status-center/\"><i>Live coverage: SpaceX\\xe2\\x80\\x99s first Falcon 9 Block 5 readied for liftoff Thursday.</i></a>&#32;10.&#160;Mai 2018&#44;<span class=\"Abrufdatum\">&#32;abgerufen am 10.&#160;Mai 2018</span>.</span><span style=\"display: none;\" class=\"Z3988\" title=\"ctx_ver=Z39.88-2004&amp;rft_val_fmt=info%3Aofi%2Ffmt%3Akev%3Amtx%3Adc&amp;rfr_id=info%3Asid%2Fde.wikipedia.org%3AFalcon+9&amp;rft.title=Live+coverage%3A+SpaceX%E2%80%99s+first+Falcon+9+Block+5+readied+for+liftoff+Thursday&amp;rft.description=Live+coverage%3A+SpaceX%E2%80%99s+first+Falcon+9+Block+5+readied+for+liftoff+Thursday&amp;rft.identifier=https%3A%2F%2Fspaceflightnow.com%2F2018%2F05%2F10%2Ffalcon-9-bangabandhu-1-mission-status-center%2F&amp;rft.creator=Stephen+Clark&amp;rft.date=2018-05-10\">&#160;</span></span>\\n</li>\\n<li id=\"cite_note-22\"><span class=\"mw-cite-backlink\"><a href=\"#cite_ref-22\">\\xe2\\x86\\x91</a></span> <span class=\"reference-text\"><span class=\"cite\">Ian Atkinson:&#32;<a rel=\"nofollow\" class=\"external text\" href=\"https://www.nasaspaceflight.com/2018/02/first-falcon-9-block-5-readying-static-fire-mcgregor-rapid-reuse/\"><i>First Falcon 9 Block 5 booster readying for static fire at McGregor; paving way for rapid reuse.</i></a>&#32;27.&#160;Februar 2018&#44;<span class=\"Abrufdatum\">&#32;abgerufen am 8.&#160;M\\xc3\\xa4rz 2018</span>.</span><span style=\"display: none;\" class=\"Z3988\" title=\"ctx_ver=Z39.88-2004&amp;rft_val_fmt=info%3Aofi%2Ffmt%3Akev%3Amtx%3Adc&amp;rfr_id=info%3Asid%2Fde.wikipedia.org%3AFalcon+9&amp;rft.title=First+Falcon+9+Block+5+booster+readying+for+static+fire+at+McGregor%3B+paving+way+for+rapid+reuse&amp;rft.description=First+Falcon+9+Block+5+booster+readying+for+static+fire+at+McGregor%3B+paving+way+for+rapid+reuse&amp;rft.identifier=https%3A%2F%2Fwww.nasaspaceflight.com%2F2018%2F02%2Ffirst-falcon-9-block-5-readying-static-fire-mcgregor-rapid-reuse%2F&amp;rft.creator=Ian+Atkinson&amp;rft.date=2018-02-27\">&#160;</span></span>\\n</li>\\n<li id=\"cite_note-23\"><span class=\"mw-cite-backlink\"><a href=\"#cite_ref-23\">\\xe2\\x86\\x91</a></span> <span class=\"reference-text\">Craig Vander Galien: <a rel=\"nofollow\" class=\"external text\" href=\"https://twitter.com/SpaceNews_Inc/status/994585864763248641\"><i>Foto der ersten Block-5-Rakete kurz vor dem Start.</i></a> 10. Mai 2018.</span>\\n</li>\\n<li id=\"cite_note-24\"><span class=\"mw-cite-backlink\"><a href=\"#cite_ref-24\">\\xe2\\x86\\x91</a></span> <span class=\"reference-text\"><span class=\"cite\">Stephen Clark:&#32;<a rel=\"nofollow\" class=\"external text\" href=\"https://spaceflightnow.com/2018/05/11/spacex-debuts-an-improved-human-rated-model-of-the-falcon-9-rocket/\"><i>SpaceX debuts new model of the Falcon 9 rocket designed for astronauts.</i></a>&#32;In:&#32;<i>Spaceflight Now.</i>&#32;11.&#160;Mai 2018&#44;<span class=\"Abrufdatum\">&#32;abgerufen am 11.&#160;Mai 2018</span>&#32;(englisch).</span><span style=\"display: none;\" class=\"Z3988\" title=\"ctx_ver=Z39.88-2004&amp;rft_val_fmt=info%3Aofi%2Ffmt%3Akev%3Amtx%3Adc&amp;rfr_id=info%3Asid%2Fde.wikipedia.org%3AFalcon+9&amp;rft.title=SpaceX+debuts+new+model+of+the+Falcon+9+rocket+designed+for+astronauts&amp;rft.description=SpaceX+debuts+new+model+of+the+Falcon+9+rocket+designed+for+astronauts&amp;rft.identifier=https%3A%2F%2Fspaceflightnow.com%2F2018%2F05%2F11%2Fspacex-debuts-an-improved-human-rated-model-of-the-falcon-9-rocket%2F&amp;rft.creator=Stephen+Clark&amp;rft.date=2018-05-11&amp;rft.language=en\">&#160;</span></span>\\n</li>\\n<li id=\"cite_note-25\"><span class=\"mw-cite-backlink\"><a href=\"#cite_ref-25\">\\xe2\\x86\\x91</a></span> <span class=\"reference-text\"><span class=\"cite\">Caleb Henry:&#32;<a rel=\"nofollow\" class=\"external text\" href=\"http://spacenews.com/spacex-launches-bangladeshi-satellite-on-debut-block-5-falcon-9-mission/\"><i>SpaceX launches Bangladeshi satellite on debut Block 5 Falcon 9 mission.</i></a>&#32;In:&#32;<i>Spacenews.</i>&#32;11.&#160;Mai 2018&#44;<span class=\"Abrufdatum\">&#32;abgerufen am 12.&#160;Mai 2018</span>&#32;(englisch).</span><span style=\"display: none;\" class=\"Z3988\" title=\"ctx_ver=Z39.88-2004&amp;rft_val_fmt=info%3Aofi%2Ffmt%3Akev%3Amtx%3Adc&amp;rfr_id=info%3Asid%2Fde.wikipedia.org%3AFalcon+9&amp;rft.title=SpaceX+launches+Bangladeshi+satellite+on+debut+Block+5+Falcon+9+mission&amp;rft.description=SpaceX+launches+Bangladeshi+satellite+on+debut+Block+5+Falcon+9+mission&amp;rft.identifier=http%3A%2F%2Fspacenews.com%2Fspacex-launches-bangladeshi-satellite-on-debut-block-5-falcon-9-mission%2F&amp;rft.creator=Caleb+Henry&amp;rft.date=2018-05-11&amp;rft.language=en\">&#160;</span></span>\\n</li>\\n<li id=\"cite_note-26\"><span class=\"mw-cite-backlink\"><a href=\"#cite_ref-26\">\\xe2\\x86\\x91</a></span> <span class=\"reference-text\"><i><a rel=\"nofollow\" class=\"external text\" href=\"https://arstechnica.com/science/2020/11/europes-challenger-to-the-falcon-9-rocket-runs-into-more-delays/\">Europe\\xe2\\x80\\x99s \\xe2\\x80\\x9cbest answer\\xe2\\x80\\x9d to competition from SpaceX slips again, will cost more</a>.</i> Ars Technica, 2. November 2020.</span>\\n</li>\\n<li id=\"cite_note-27\"><span class=\"mw-cite-backlink\"><a href=\"#cite_ref-27\">\\xe2\\x86\\x91</a></span> <span class=\"reference-text\"><span class=\"cite\">Marcia S. Smith:&#32;<a rel=\"nofollow\" class=\"external text\" href=\"http://www.spacepolicyonline.com/news/range-safety-destruct-signal-was-sent-to-falcon-9-but-too-late\"><i>Range Safety Destruct Signal Was Sent To Falcon 9, But Too Late.</i></a>&#32;spacepolicyonline.com,&#32;30.&#160;Juni 2015&#44;<span class=\"Abrufdatum\">&#32;abgerufen am 30.&#160;Juni 2015</span>&#32;(englisch).</span><span style=\"display: none;\" class=\"Z3988\" title=\"ctx_ver=Z39.88-2004&amp;rft_val_fmt=info%3Aofi%2Ffmt%3Akev%3Amtx%3Adc&amp;rfr_id=info%3Asid%2Fde.wikipedia.org%3AFalcon+9&amp;rft.title=Range+Safety+Destruct+Signal+Was+Sent+To+Falcon+9%2C+But+Too+Late&amp;rft.description=Range+Safety+Destruct+Signal+Was+Sent+To+Falcon+9%2C+But+Too+Late&amp;rft.identifier=http%3A%2F%2Fwww.spacepolicyonline.com%2Fnews%2Frange-safety-destruct-signal-was-sent-to-falcon-9-but-too-late&amp;rft.creator=Marcia+S.+Smith&amp;rft.publisher=spacepolicyonline.com&amp;rft.date=2015-06-30&amp;rft.language=en\">&#160;</span></span>\\n</li>\\n<li id=\"cite_note-28\"><span class=\"mw-cite-backlink\"><a href=\"#cite_ref-28\">\\xe2\\x86\\x91</a></span> <span class=\"reference-text\"><span class=\"cite\">Tobias Willerding:&#32;<a rel=\"nofollow\" class=\"external text\" href=\"http://www.raumfahrer.net/news/raumfahrt/21072015221937.shtml\"><i>Holm soll Ursache f\\xc3\\xbcr Falcon 9-Fehlschlag sein.</i></a>&#32;21.&#160;Juli 2015&#44;<span class=\"Abrufdatum\">&#32;abgerufen am 4.&#160;August 2015</span>.</span><span style=\"display: none;\" class=\"Z3988\" title=\"ctx_ver=Z39.88-2004&amp;rft_val_fmt=info%3Aofi%2Ffmt%3Akev%3Amtx%3Adc&amp;rfr_id=info%3Asid%2Fde.wikipedia.org%3AFalcon+9&amp;rft.title=Holm+soll+Ursache+f%C3%BCr+Falcon+9-Fehlschlag+sein&amp;rft.description=Holm+soll+Ursache+f%C3%BCr+Falcon+9-Fehlschlag+sein&amp;rft.identifier=http%3A%2F%2Fwww.raumfahrer.net%2Fnews%2Fraumfahrt%2F21072015221937.shtml&amp;rft.creator=Tobias+Willerding&amp;rft.date=2015-07-21&amp;rft.language=de\">&#160;</span></span>\\n</li>\\n<li id=\"cite_note-29\"><span class=\"mw-cite-backlink\"><a href=\"#cite_ref-29\">\\xe2\\x86\\x91</a></span> <span class=\"reference-text\"><span class=\"cite\">Lauren Grush:&#32;<a rel=\"nofollow\" class=\"external text\" href=\"http://www.theverge.com/2016/9/1/12748752/spacex-launch-site-explosion-cape-canaveral-florida\"><i>SpaceX\\xe2\\x80\\x99s Falcon 9 explodes on Florida launch pad during rocket test.</i></a>&#32;theverge.com,&#32;1.&#160;September 2016&#44;<span class=\"Abrufdatum\">&#32;abgerufen am 1.&#160;September 2016</span>&#32;(englisch).</span><span style=\"display: none;\" class=\"Z3988\" title=\"ctx_ver=Z39.88-2004&amp;rft_val_fmt=info%3Aofi%2Ffmt%3Akev%3Amtx%3Adc&amp;rfr_id=info%3Asid%2Fde.wikipedia.org%3AFalcon+9&amp;rft.title=SpaceX%E2%80%99s+Falcon+9+explodes+on+Florida+launch+pad+during+rocket+test&amp;rft.description=SpaceX%E2%80%99s+Falcon+9+explodes+on+Florida+launch+pad+during+rocket+test&amp;rft.identifier=http%3A%2F%2Fwww.theverge.com%2F2016%2F9%2F1%2F12748752%2Fspacex-launch-site-explosion-cape-canaveral-florida&amp;rft.creator=Lauren+Grush&amp;rft.publisher=theverge.com&amp;rft.date=2016-09-01&amp;rft.language=en\">&#160;</span></span>\\n</li>\\n<li id=\"cite_note-30\"><span class=\"mw-cite-backlink\"><a href=\"#cite_ref-30\">\\xe2\\x86\\x91</a></span> <span class=\"reference-text\"><span class=\"cite\"><a rel=\"nofollow\" class=\"external text\" href=\"https://www.youtube.com/watch?v=_BgJEXQkjNQ\"><i>SpaceX \\xe2\\x80\\x93 Static Fire Anomaly \\xe2\\x80\\x93 AMOS-6 \\xe2\\x80\\x93 09-01-2016.</i></a><span class=\"Abrufdatum\">&#32;Abgerufen am 25.&#160;Oktober 2016</span>.</span><span style=\"display: none;\" class=\"Z3988\" title=\"ctx_ver=Z39.88-2004&amp;rft_val_fmt=info%3Aofi%2Ffmt%3Akev%3Amtx%3Adc&amp;rfr_id=info%3Asid%2Fde.wikipedia.org%3AFalcon+9&amp;rft.title=SpaceX+%E2%80%93+Static+Fire+Anomaly+%E2%80%93+AMOS-6+%E2%80%93+09-01-2016&amp;rft.description=SpaceX+%E2%80%93+Static+Fire+Anomaly+%E2%80%93+AMOS-6+%E2%80%93+09-01-2016&amp;rft.identifier=https%3A%2F%2Fwww.youtube.com%2Fwatch%3Fv%3D_BgJEXQkjNQ\">&#160;</span></span>\\n</li>\\n<li id=\"cite_note-31\"><span class=\"mw-cite-backlink\"><a href=\"#cite_ref-31\">\\xe2\\x86\\x91</a></span> <span class=\"reference-text\"><span class=\"cite\"><a rel=\"nofollow\" class=\"external text\" href=\"https://www.heise.de/newsticker/meldung/SpaceX-Falcon-9-Rakete-und-Amos-6-Satellit-bei-Explosion-auf-Cape-Canaveral-zerstoert-3312028.html\"><i>SpaceX: Falcon-9-Rakete und Amos-6-Satellit bei Explosion auf Cape Canaveral zerst\\xc3\\xb6rt.</i></a><span class=\"Abrufdatum\">&#32;Abgerufen am 25.&#160;Oktober 2016</span>.</span><span style=\"display: none;\" class=\"Z3988\" title=\"ctx_ver=Z39.88-2004&amp;rft_val_fmt=info%3Aofi%2Ffmt%3Akev%3Amtx%3Adc&amp;rfr_id=info%3Asid%2Fde.wikipedia.org%3AFalcon+9&amp;rft.title=SpaceX%3A+Falcon-9-Rakete+und+Amos-6-Satellit+bei+Explosion+auf+Cape+Canaveral+zerst%C3%B6rt&amp;rft.description=SpaceX%3A+Falcon-9-Rakete+und+Amos-6-Satellit+bei+Explosion+auf+Cape+Canaveral+zerst%C3%B6rt&amp;rft.identifier=https%3A%2F%2Fwww.heise.de%2Fnewsticker%2Fmeldung%2FSpaceX-Falcon-9-Rakete-und-Amos-6-Satellit-bei-Explosion-auf-Cape-Canaveral-zerstoert-3312028.html\">&#160;</span></span>\\n</li>\\n<li id=\"cite_note-32\"><span class=\"mw-cite-backlink\"><a href=\"#cite_ref-32\">\\xe2\\x86\\x91</a></span> <span class=\"reference-text\"><span class=\"cite\"><a rel=\"nofollow\" class=\"external text\" href=\"https://twitter.com/SpaceX/status/771357538738577408\"><i>Statement on this morning\\xe2\\x80\\x99s anomaly.</i></a><span class=\"Abrufdatum\">&#32;Abgerufen am 25.&#160;Oktober 2016</span>.</span><span style=\"display: none;\" class=\"Z3988\" title=\"ctx_ver=Z39.88-2004&amp;rft_val_fmt=info%3Aofi%2Ffmt%3Akev%3Amtx%3Adc&amp;rfr_id=info%3Asid%2Fde.wikipedia.org%3AFalcon+9&amp;rft.title=Statement+on+this+morning%E2%80%99s+anomaly&amp;rft.description=Statement+on+this+morning%E2%80%99s+anomaly&amp;rft.identifier=https%3A%2F%2Ftwitter.com%2FSpaceX%2Fstatus%2F771357538738577408\">&#160;</span></span>\\n</li>\\n<li id=\"cite_note-33\"><span class=\"mw-cite-backlink\"><a href=\"#cite_ref-33\">\\xe2\\x86\\x91</a></span> <span class=\"reference-text\"><span class=\"cite\">Russell Brandom:&#32;<a rel=\"nofollow\" class=\"external text\" href=\"http://www.theverge.com/2016/9/1/12750872/spacex-explosion-facebook-satellite-internet-org-zuckerberg\"><i>Today\\xe2\\x80\\x99s SpaceX explosion is a major setback for Facebook\\xe2\\x80\\x99s free internet ambitions.</i></a>&#32;theverge.com,&#32;1.&#160;September 2016&#44;<span class=\"Abrufdatum\">&#32;abgerufen am 1.&#160;September 2016</span>&#32;(englisch).</span><span style=\"display: none;\" class=\"Z3988\" title=\"ctx_ver=Z39.88-2004&amp;rft_val_fmt=info%3Aofi%2Ffmt%3Akev%3Amtx%3Adc&amp;rfr_id=info%3Asid%2Fde.wikipedia.org%3AFalcon+9&amp;rft.title=Today%E2%80%99s+SpaceX+explosion+is+a+major+setback+for+Facebook%E2%80%99s+free+internet+ambitions&amp;rft.description=Today%E2%80%99s+SpaceX+explosion+is+a+major+setback+for+Facebook%E2%80%99s+free+internet+ambitions&amp;rft.identifier=http%3A%2F%2Fwww.theverge.com%2F2016%2F9%2F1%2F12750872%2Fspacex-explosion-facebook-satellite-internet-org-zuckerberg&amp;rft.creator=Russell+Brandom&amp;rft.publisher=theverge.com&amp;rft.date=2016-09-01&amp;rft.language=en\">&#160;</span></span>\\n</li>\\n<li id=\"cite_note-34\"><span class=\"mw-cite-backlink\"><a href=\"#cite_ref-34\">\\xe2\\x86\\x91</a></span> <span class=\"reference-text\"><span class=\"cite\">Russell Brandom:&#32;<a rel=\"nofollow\" class=\"external text\" href=\"http://www.theverge.com/2016/9/1/12753530/mark-zuckerberg-explosion-statement-spacex-internet-org\"><i>Mark Zuckerberg says he\\xe2\\x80\\x99s \\xe2\\x80\\x98deeply disappointed\\xe2\\x80\\x99 in satellite explosion.</i></a>&#32;theverge.com,&#32;1.&#160;September 2016&#44;<span class=\"Abrufdatum\">&#32;abgerufen am 1.&#160;September 2016</span>&#32;(englisch).</span><span style=\"display: none;\" class=\"Z3988\" title=\"ctx_ver=Z39.88-2004&amp;rft_val_fmt=info%3Aofi%2Ffmt%3Akev%3Amtx%3Adc&amp;rfr_id=info%3Asid%2Fde.wikipedia.org%3AFalcon+9&amp;rft.title=Mark+Zuckerberg+says+he%E2%80%99s+%E2%80%98deeply+disappointed%E2%80%99+in+satellite+explosion&amp;rft.description=Mark+Zuckerberg+says+he%E2%80%99s+%E2%80%98deeply+disappointed%E2%80%99+in+satellite+explosion&amp;rft.identifier=http%3A%2F%2Fwww.theverge.com%2F2016%2F9%2F1%2F12753530%2Fmark-zuckerberg-explosion-statement-spacex-internet-org&amp;rft.creator=Russell+Brandom&amp;rft.publisher=theverge.com&amp;rft.date=2016-09-01&amp;rft.language=en\">&#160;</span></span>\\n</li>\\n<li id=\"cite_note-35\"><span class=\"mw-cite-backlink\"><a href=\"#cite_ref-35\">\\xe2\\x86\\x91</a></span> <span class=\"reference-text\"><span class=\"cite\"><a rel=\"nofollow\" class=\"external text\" href=\"http://www.spacex.com/news/2016/09/01/anomaly-updates\"><i>Anomaly Update.</i></a>&#32;SpaceX,&#32;2.&#160;Januar 2017&#44;<span class=\"Abrufdatum\">&#32;abgerufen am 6.&#160;Januar 2017</span>&#32;(englisch).</span><span style=\"display: none;\" class=\"Z3988\" title=\"ctx_ver=Z39.88-2004&amp;rft_val_fmt=info%3Aofi%2Ffmt%3Akev%3Amtx%3Adc&amp;rfr_id=info%3Asid%2Fde.wikipedia.org%3AFalcon+9&amp;rft.title=Anomaly+Update&amp;rft.description=Anomaly+Update&amp;rft.identifier=http%3A%2F%2Fwww.spacex.com%2Fnews%2F2016%2F09%2F01%2Fanomaly-updates&amp;rft.publisher=SpaceX&amp;rft.date=2017-01-02&amp;rft.language=en\">&#160;</span></span>\\n</li>\\n<li id=\"cite_note-36\"><span class=\"mw-cite-backlink\"><a href=\"#cite_ref-36\">\\xe2\\x86\\x91</a></span> <span class=\"reference-text\"><span class=\"cite\"><a rel=\"nofollow\" class=\"external text\" href=\"https://spaceflightnow.com/2017/12/15/spacexs-50th-falcon-rocket-launch-kicks-off-station-resupply-mission/\"><i>SpaceX\\xe2\\x80\\x99s 50th Falcon rocket launch kicks off station resupply mission \\xe2\\x80\\x93 Spaceflight Now.</i></a><span class=\"Abrufdatum\">&#32;Abgerufen am 16.&#160;Dezember 2017</span>&#32;(amerikanisches Englisch).</span><span style=\"display: none;\" class=\"Z3988\" title=\"ctx_ver=Z39.88-2004&amp;rft_val_fmt=info%3Aofi%2Ffmt%3Akev%3Amtx%3Adc&amp;rfr_id=info%3Asid%2Fde.wikipedia.org%3AFalcon+9&amp;rft.title=SpaceX%E2%80%99s+50th+Falcon+rocket+launch+kicks+off+station+resupply+mission+%E2%80%93+Spaceflight+Now&amp;rft.description=SpaceX%E2%80%99s+50th+Falcon+rocket+launch+kicks+off+station+resupply+mission+%E2%80%93+Spaceflight+Now&amp;rft.identifier=https%3A%2F%2Fspaceflightnow.com%2F2017%2F12%2F15%2Fspacexs-50th-falcon-rocket-launch-kicks-off-station-resupply-mission%2F&amp;rft.language=en-US\">&#160;</span></span>\\n</li>\\n<li id=\"cite_note-37\"><span class=\"mw-cite-backlink\"><a href=\"#cite_ref-37\">\\xe2\\x86\\x91</a></span> <span class=\"reference-text\">Jeff Foust: <a rel=\"nofollow\" class=\"external text\" href=\"https://spacenews.com/nasa-to-participate-in-spacex-engine-anomaly-investigation/\"><i>NASA to participate in SpaceX engine anomaly investigation.</i></a> Spacenews, 24. M\\xc3\\xa4rz 2020.</span>\\n</li>\\n<li id=\"cite_note-38\"><span class=\"mw-cite-backlink\"><a href=\"#cite_ref-38\">\\xe2\\x86\\x91</a></span> <span class=\"reference-text\"><a rel=\"nofollow\" class=\"external text\" href=\"https://spacenews.com/safety-panel-concludes-may-launch-of-commercial-crew-test-flight-is-feasible/\"><i>Safety panel concludes May launch of commercial crew test flight is feasible.</i></a> Spacenews, 23. April 2020.</span>\\n</li>\\n<li id=\"cite_note-rn_20131029-39\"><span class=\"mw-cite-backlink\"><a href=\"#cite_ref-rn_20131029_39-0\">\\xe2\\x86\\x91</a></span> <span class=\"reference-text\"><span class=\"cite\">G\\xc3\\xbcnther Glatzel:&#32;<a rel=\"nofollow\" class=\"external text\" href=\"http://www.raumfahrer.net/news/raumfahrt/29092013181707.shtml\"><i>Verbesserte Falcon 9 erfolgreich gestartet (Updates).</i></a>&#32;Raumfahrer.net,&#32;29.&#160;September 2013&#44;<span class=\"Abrufdatum\">&#32;abgerufen am 11.&#160;Oktober 2013</span>.</span><span style=\"display: none;\" class=\"Z3988\" title=\"ctx_ver=Z39.88-2004&amp;rft_val_fmt=info%3Aofi%2Ffmt%3Akev%3Amtx%3Adc&amp;rfr_id=info%3Asid%2Fde.wikipedia.org%3AFalcon+9&amp;rft.title=Verbesserte+Falcon+9+erfolgreich+gestartet+%28Updates%29&amp;rft.description=Verbesserte+Falcon+9+erfolgreich+gestartet+%28Updates%29&amp;rft.identifier=http%3A%2F%2Fwww.raumfahrer.net%2Fnews%2Fraumfahrt%2F29092013181707.shtml&amp;rft.creator=G%C3%BCnther+Glatzel&amp;rft.publisher=Raumfahrer.net&amp;rft.date=2013-09-29\">&#160;</span></span>\\n</li>\\n<li id=\"cite_note-40\"><span class=\"mw-cite-backlink\"><a href=\"#cite_ref-40\">\\xe2\\x86\\x91</a></span> <span class=\"reference-text\"><span class=\"cite\"><a rel=\"nofollow\" class=\"external text\" href=\"https://web.archive.org/web/20140824031117/http://decadal.gsfc.nasa.gov/pace-201206mdl/Launch%20Vehicle%20Information/Falcon9UsersGuide_2009.pdf\"><i>Falcon 9 Users Guide 2009.</i></a>&#32;(PDF)&#32;(Nicht mehr online verf\\xc3\\xbcgbar.)&#32;SpaceX,&#32;archiviert&#32;vom&#32;<span class=\"external text\"><a class=\"external text\" href=\"https://giftbot.toolforge.org/deref.fcgi?url=http%3A%2F%2Fdecadal.gsfc.nasa.gov%2Fpace-201206mdl%2FLaunch%2520Vehicle%2520Information%2FFalcon9UsersGuide_2009.pdf\">Original</a></span>&#32;am&#32;<span style=\"white-space:nowrap;\">24.&#160;August 2014</span><span>;</span><span class=\"Abrufdatum\">&#32;abgerufen am 23.&#160;Januar 2014</span>&#32;(englisch).</span><span style=\"display: none;\" class=\"Z3988\" title=\"ctx_ver=Z39.88-2004&amp;rft_val_fmt=info%3Aofi%2Ffmt%3Akev%3Amtx%3Adc&amp;rfr_id=info%3Asid%2Fde.wikipedia.org%3AFalcon+9&amp;rft.title=Falcon+9+Users+Guide+2009&amp;rft.description=Falcon+9+Users+Guide+2009&amp;rft.identifier=https%3A%2F%2Fweb.archive.org%2Fweb%2F20140824031117%2Fhttp%3A%2F%2Fdecadal.gsfc.nasa.gov%2Fpace-201206mdl%2FLaunch%2520Vehicle%2520Information%2FFalcon9UsersGuide_2009.pdf&amp;rft.publisher=SpaceX&amp;rft.source=http&#58;//decadal.gsfc.nasa.gov/pace-201206mdl/Launch%20Vehicle%20Information/Falcon9UsersGuide_2009.pdf&amp;rft.language=en\">&#160;</span></span>\\n</li>\\n<li id=\"cite_note-41\"><span class=\"mw-cite-backlink\"><a href=\"#cite_ref-41\">\\xe2\\x86\\x91</a></span> <span class=\"reference-text\"><a rel=\"nofollow\" class=\"external text\" href=\"http://www.nzz.ch/wirtschaft/unternehmen/weltraumindustrie-fuer-ein-butterbrot-ins-all-ld.86670\"><i>F\\xc3\\xbcr ein Butterbrot ins Weltall.</i></a> nzz.ch, abgerufen am 13. Juni 2016.</span>\\n</li>\\n<li id=\"cite_note-42\"><span class=\"mw-cite-backlink\"><a href=\"#cite_ref-42\">\\xe2\\x86\\x91</a></span> <span class=\"reference-text\"><cite><a rel=\"nofollow\" class=\"external text\" href=\"https://www.youtube.com/watch?v=ZCBE8ocOkAQ\">SpaceX: Falcon 9 First Stage Landing</a></cite>.&#32;21.&#160;Dezember 2015.&#32;Abgerufen am 6.&#160;Januar 2016.</span>\\n</li>\\n<li id=\"cite_note-43\"><span class=\"mw-cite-backlink\"><a href=\"#cite_ref-43\">\\xe2\\x86\\x91</a></span> <span class=\"reference-text\"><cite><a rel=\"nofollow\" class=\"external text\" href=\"http://www.spiegel.de/wissenschaft/technik/spacex-von-elon-musk-falcon-9-traegerrakete-erstmals-heil-aus-all-zurueckgekehrt-a-1069036.html\">SpaceX: Tr\\xc3\\xa4gerrakete kehrt erstmals heil aus dem All zur\\xc3\\xbcck</a></cite>.&#32;In: <cite>Spiegel Online</cite>.&#32;22.&#160;Dezember 2015.&#32;Abgerufen am 5.&#160;Januar 2016.</span>\\n</li>\\n<li id=\"cite_note-44\"><span class=\"mw-cite-backlink\"><a href=\"#cite_ref-44\">\\xe2\\x86\\x91</a></span> <span class=\"reference-text\"><span class=\"cite\">Spaceflight Now:&#32;<a rel=\"nofollow\" class=\"external text\" href=\"http://spaceflightnow.com/2016/01/16/recovered-falcon-9-booster-fires-again-at-cape-canaveral/\"><i>Recovered Falcon 9 booster fires again at Cape Canaveral.</i></a>&#32;16.&#160;Januar 2016&#44;<span class=\"Abrufdatum\">&#32;abgerufen am 17.&#160;Januar 2016</span>.</span><span style=\"display: none;\" class=\"Z3988\" title=\"ctx_ver=Z39.88-2004&amp;rft_val_fmt=info%3Aofi%2Ffmt%3Akev%3Amtx%3Adc&amp;rfr_id=info%3Asid%2Fde.wikipedia.org%3AFalcon+9&amp;rft.title=Recovered+Falcon+9+booster+fires+again+at+Cape+Canaveral&amp;rft.description=Recovered+Falcon+9+booster+fires+again+at+Cape+Canaveral&amp;rft.identifier=http%3A%2F%2Fspaceflightnow.com%2F2016%2F01%2F16%2Frecovered-falcon-9-booster-fires-again-at-cape-canaveral%2F&amp;rft.creator=Spaceflight+Now&amp;rft.date=2016-01-16\">&#160;</span></span>\\n</li>\\n<li id=\"cite_note-45\"><span class=\"mw-cite-backlink\"><a href=\"#cite_ref-45\">\\xe2\\x86\\x91</a></span> <span class=\"reference-text\"><span class=\"cite\">Elon Musk:&#32;<a rel=\"nofollow\" class=\"external text\" href=\"https://twitter.com/elonmusk/status/688920586391805952\"><i>Falcon lands on droneship, but the lockout collet doesn\\xe2\\x80\\x99t latch on one the four legs.</i></a>&#32;17.&#160;Januar 2016&#44;<span class=\"Abrufdatum\">&#32;abgerufen am 18.&#160;Januar 2016</span>.</span><span style=\"display: none;\" class=\"Z3988\" title=\"ctx_ver=Z39.88-2004&amp;rft_val_fmt=info%3Aofi%2Ffmt%3Akev%3Amtx%3Adc&amp;rfr_id=info%3Asid%2Fde.wikipedia.org%3AFalcon+9&amp;rft.title=Falcon+lands+on+droneship%2C+but+the+lockout+collet+doesn%E2%80%99t+latch+on+one+the+four+legs&amp;rft.description=Falcon+lands+on+droneship%2C+but+the+lockout+collet+doesn%E2%80%99t+latch+on+one+the+four+legs&amp;rft.identifier=https%3A%2F%2Ftwitter.com%2Felonmusk%2Fstatus%2F688920586391805952&amp;rft.creator=Elon+Musk&amp;rft.date=2016-01-17\">&#160;</span></span>\\n</li>\\n<li id=\"cite_note-46\"><span class=\"mw-cite-backlink\"><a href=\"#cite_ref-46\">\\xe2\\x86\\x91</a></span> <span class=\"reference-text\"><cite><a rel=\"nofollow\" class=\"external text\" href=\"http://www.theverge.com/2016/4/8/11392138/spacex-landing-success-falcon-9-rocket-barge-at-sea\">SpaceX successfully lands its rocket on a floating drone ship for the first time</a></cite>.&#32;In: <cite>The Verge</cite>.&#32;8.&#160;April 2016.&#32;Abgerufen am 8.&#160;April 2016.</span>\\n</li>\\n<li id=\"cite_note-SES-10-auf-wiederverwendeter-Falcon-9-gestartet-47\"><span class=\"mw-cite-backlink\"><a href=\"#cite_ref-SES-10-auf-wiederverwendeter-Falcon-9-gestartet_47-0\">\\xe2\\x86\\x91</a></span> <span class=\"reference-text\"><span class=\"cite\"><a rel=\"nofollow\" class=\"external text\" href=\"https://humanmarsmission.de/ses-10-wiederverwendeter-falcon-9-rakete-gestartet/\"><i>SES-10 auf Wiederverwendeter Falcon 9 Rakete gestartet.</i></a><span class=\"Abrufdatum\">&#32;Abgerufen am 31.&#160;M\\xc3\\xa4rz 2017</span>.</span><span style=\"display: none;\" class=\"Z3988\" title=\"ctx_ver=Z39.88-2004&amp;rft_val_fmt=info%3Aofi%2Ffmt%3Akev%3Amtx%3Adc&amp;rfr_id=info%3Asid%2Fde.wikipedia.org%3AFalcon+9&amp;rft.title=SES-10+auf+Wiederverwendeter+Falcon+9+Rakete+gestartet&amp;rft.description=SES-10+auf+Wiederverwendeter+Falcon+9+Rakete+gestartet&amp;rft.identifier=https%3A%2F%2Fhumanmarsmission.de%2Fses-10-wiederverwendeter-falcon-9-rakete-gestartet%2F&amp;rft.language=de\">&#160;</span></span>\\n</li>\\n<li id=\"cite_note-48\"><span class=\"mw-cite-backlink\"><a href=\"#cite_ref-48\">\\xe2\\x86\\x91</a></span> <span class=\"reference-text\"><span class=\"cite\"><a rel=\"nofollow\" class=\"external text\" href=\"http://spacenews.com/spacex-gaining-substantial-cost-savings-from-reused-falcon-9/\"><i>SpaceX gaining substantial cost savings from reused Falcon 9.</i></a><span class=\"Abrufdatum\">&#32;Abgerufen am 12.&#160;April 2017</span>&#32;(englisch).</span><span style=\"display: none;\" class=\"Z3988\" title=\"ctx_ver=Z39.88-2004&amp;rft_val_fmt=info%3Aofi%2Ffmt%3Akev%3Amtx%3Adc&amp;rfr_id=info%3Asid%2Fde.wikipedia.org%3AFalcon+9&amp;rft.title=SpaceX+gaining+substantial+cost+savings+from+reused+Falcon+9&amp;rft.description=SpaceX+gaining+substantial+cost+savings+from+reused+Falcon+9&amp;rft.identifier=http%3A%2F%2Fspacenews.com%2Fspacex-gaining-substantial-cost-savings-from-reused-falcon-9%2F&amp;rft.language=en\">&#160;</span></span>\\n</li>\\n<li id=\"cite_note-49\"><span class=\"mw-cite-backlink\"><a href=\"#cite_ref-49\">\\xe2\\x86\\x91</a></span> <span class=\"reference-text\"><span class=\"cite\">Stephen Clark:&#32;<a rel=\"nofollow\" class=\"external text\" href=\"https://spaceflightnow.com/2017/04/04/musk-previews-busy-year-ahead-for-spacex/\"><i>Musk previews busy year ahead for SpaceX \\xe2\\x80\\x93 Spaceflight Now.</i></a><span class=\"Abrufdatum\">&#32;Abgerufen am 17.&#160;April 2017</span>.</span><span style=\"display: none;\" class=\"Z3988\" title=\"ctx_ver=Z39.88-2004&amp;rft_val_fmt=info%3Aofi%2Ffmt%3Akev%3Amtx%3Adc&amp;rfr_id=info%3Asid%2Fde.wikipedia.org%3AFalcon+9&amp;rft.title=Musk+previews+busy+year+ahead+for+SpaceX+%E2%80%93+Spaceflight+Now&amp;rft.description=Musk+previews+busy+year+ahead+for+SpaceX+%E2%80%93+Spaceflight+Now&amp;rft.identifier=https%3A%2F%2Fspaceflightnow.com%2F2017%2F04%2F04%2Fmusk-previews-busy-year-ahead-for-spacex%2F&amp;rft.creator=Stephen+Clark\">&#160;</span></span>\\n</li>\\n<li id=\"cite_note-50\"><span class=\"mw-cite-backlink\"><a href=\"#cite_ref-50\">\\xe2\\x86\\x91</a></span> <span class=\"reference-text\"><cite style=\"font-style:italic\">Elon Musk on Twitter</cite>. In: <cite style=\"font-style:italic\">Twitter</cite>. (<a rel=\"nofollow\" class=\"external text\" href=\"https://twitter.com/elonmusk/status/847594208219336705?lang=de\">twitter.com</a> &#91;abgerufen am 14.&#160;Mai 2017&#93;): \\xe2\\x80\\x9e\\xe2\\x80\\xa6 Next goal is reflight within 24 hours. Deutsche \\xc3\\x9cbersetzung: \\xe2\\x80\\xa6 N\\xc3\\xa4chstes Ziel ist wieder fliegen innerhalb 24 Stunden.\\xe2\\x80\\x9c<span class=\"Z3988\" title=\"ctx_ver=Z39.88-2004&amp;rft_val_fmt=info%3Aofi%2Ffmt%3Akev%3Amtx%3Abook&amp;rfr_id=info:sid/de.wikipedia.org:Falcon+9&amp;rft.atitle=Elon+Musk+on+Twitter&amp;rft.btitle=Twitter&amp;rft.genre=book\" style=\"display:none\">&#160;</span></span>\\n</li>\\n<li id=\"cite_note-51\"><span class=\"mw-cite-backlink\"><a href=\"#cite_ref-51\">\\xe2\\x86\\x91</a></span> <span class=\"reference-text\"><span class=\"cite\">Stephen Clark:&#32;<a rel=\"nofollow\" class=\"external text\" href=\"https://spaceflightnow.com/2017/04/04/musk-previews-busy-year-ahead-for-spacex/\"><i>Musk previews busy year ahead for SpaceX \\xe2\\x80\\x93 Spaceflight Now.</i></a><span class=\"Abrufdatum\">&#32;Abgerufen am 14.&#160;Mai 2017</span>&#58;&#32;\\xe2\\x80\\x9e\\xe2\\x80\\x9cThe design intent is that the rocket can be reflown with zero hardware changes,\\xe2\\x80\\x9d Musk said. \\xe2\\x80\\x9cIn other words, the only thing you change is you reload the propellant.\\xe2\\x80\\x9d Deutsch: \\xe2\\x80\\x9eDie Designidee ist, das die Rakete ohne Austausch von Teilen wieder fliegen kann.\\xe2\\x80\\x9c sagte Musk. \\xe2\\x80\\x9eMit anderen Worten, das einzige was man erneuern muss ist der Treibstoff\\xe2\\x80\\x9c\\xe2\\x80\\x9c</span><span style=\"display: none;\" class=\"Z3988\" title=\"ctx_ver=Z39.88-2004&amp;rft_val_fmt=info%3Aofi%2Ffmt%3Akev%3Amtx%3Adc&amp;rfr_id=info%3Asid%2Fde.wikipedia.org%3AFalcon+9&amp;rft.title=Musk+previews+busy+year+ahead+for+SpaceX+%E2%80%93+Spaceflight+Now&amp;rft.description=Musk+previews+busy+year+ahead+for+SpaceX+%E2%80%93+Spaceflight+Now&amp;rft.identifier=https%3A%2F%2Fspaceflightnow.com%2F2017%2F04%2F04%2Fmusk-previews-busy-year-ahead-for-spacex%2F&amp;rft.creator=Stephen+Clark\">&#160;</span></span>\\n</li>\\n<li id=\"cite_note-52\"><span class=\"mw-cite-backlink\"><a href=\"#cite_ref-52\">\\xe2\\x86\\x91</a></span> <span class=\"reference-text\"><span class=\"cite\">Stephen Clark:&#32;<a rel=\"nofollow\" class=\"external text\" href=\"https://spaceflightnow.com/2017/04/04/musk-previews-busy-year-ahead-for-spacex/\"><i>Musk previews busy year ahead for SpaceX \\xe2\\x80\\x93 Spaceflight Now.</i></a><span class=\"Abrufdatum\">&#32;Abgerufen am 14.&#160;Mai 2017</span>&#58;&#32;\\xe2\\x80\\x9eSpaceX\\xe2\\x80\\x99s goal is to launch each Falcon 9 first stage 10 times with only inspections. Deutsch: SpaceX Ziel ist, jede Falcon-9-Erststufe zehn Mal nur mit Inspektionen zu starten.\\xe2\\x80\\x9c</span><span style=\"display: none;\" class=\"Z3988\" title=\"ctx_ver=Z39.88-2004&amp;rft_val_fmt=info%3Aofi%2Ffmt%3Akev%3Amtx%3Adc&amp;rfr_id=info%3Asid%2Fde.wikipedia.org%3AFalcon+9&amp;rft.title=Musk+previews+busy+year+ahead+for+SpaceX+%E2%80%93+Spaceflight+Now&amp;rft.description=Musk+previews+busy+year+ahead+for+SpaceX+%E2%80%93+Spaceflight+Now&amp;rft.identifier=https%3A%2F%2Fspaceflightnow.com%2F2017%2F04%2F04%2Fmusk-previews-busy-year-ahead-for-spacex%2F&amp;rft.creator=Stephen+Clark\">&#160;</span></span>\\n</li>\\n<li id=\"cite_note-53\"><span class=\"mw-cite-backlink\"><a href=\"#cite_ref-53\">\\xe2\\x86\\x91</a></span> <span class=\"reference-text\"><span class=\"cite\">Stephen Clark:&#32;<a rel=\"nofollow\" class=\"external text\" href=\"https://spaceflightnow.com/2017/04/04/musk-previews-busy-year-ahead-for-spacex/\"><i>Musk previews busy year ahead for SpaceX \\xe2\\x80\\x93 Spaceflight Now.</i></a><span class=\"Abrufdatum\">&#32;Abgerufen am 14.&#160;Mai 2017</span>&#58;&#32;\\xe2\\x80\\x9eThen, with moderate refurbishment that doesn\\xe2\\x80\\x99t have a significant effect on the cost, it can be reflown at least 100 times,\\xe2\\x80\\x9d Musk said. Deutsch: Dann, nach einer mittleren \\xc3\\x9cberholung, die keinen wesentlichen Einfluss auf die Kosten hat, kann sie mindestens 100-mal wieder fliegen\\xe2\\x80\\x9c, sagte Musk\\xe2\\x80\\x9c</span><span style=\"display: none;\" class=\"Z3988\" title=\"ctx_ver=Z39.88-2004&amp;rft_val_fmt=info%3Aofi%2Ffmt%3Akev%3Amtx%3Adc&amp;rfr_id=info%3Asid%2Fde.wikipedia.org%3AFalcon+9&amp;rft.title=Musk+previews+busy+year+ahead+for+SpaceX+%E2%80%93+Spaceflight+Now&amp;rft.description=Musk+previews+busy+year+ahead+for+SpaceX+%E2%80%93+Spaceflight+Now&amp;rft.identifier=https%3A%2F%2Fspaceflightnow.com%2F2017%2F04%2F04%2Fmusk-previews-busy-year-ahead-for-spacex%2F&amp;rft.creator=Stephen+Clark\">&#160;</span></span>\\n</li>\\n<li id=\"cite_note-54\"><span class=\"mw-cite-backlink\"><a href=\"#cite_ref-54\">\\xe2\\x86\\x91</a></span> <span class=\"reference-text\"><a rel=\"nofollow\" class=\"external text\" href=\"https://twitter.com/elonmusk/status/1098771535588777986\">Twitter-Nachricht</a> von Elon Musk, 22. Februar 2019.</span>\\n</li>\\n<li id=\"cite_note-55\"><span class=\"mw-cite-backlink\"><a href=\"#cite_ref-55\">\\xe2\\x86\\x91</a></span> <span class=\"reference-text\"><span class=\"cite\">Eric Ralph:&#32;<a rel=\"nofollow\" class=\"external text\" href=\"https://www.teslarati.com/spacex-starts-falcon-9-landing-leg-retraction/\"><i>SpaceX hits new Falcon 9 reusability milestone, retracts all four landing legs.</i></a>&#32;In:&#32;<i>Teslarati.</i>&#32;7.&#160;Mai 2019&#44;<span class=\"Abrufdatum\">&#32;abgerufen am 8.&#160;Mai 2019</span>.</span><span style=\"display: none;\" class=\"Z3988\" title=\"ctx_ver=Z39.88-2004&amp;rft_val_fmt=info%3Aofi%2Ffmt%3Akev%3Amtx%3Adc&amp;rfr_id=info%3Asid%2Fde.wikipedia.org%3AFalcon+9&amp;rft.title=SpaceX+hits+new+Falcon+9+reusability+milestone%2C+retracts+all+four+landing+legs&amp;rft.description=SpaceX+hits+new+Falcon+9+reusability+milestone%2C+retracts+all+four+landing+legs&amp;rft.identifier=https%3A%2F%2Fwww.teslarati.com%2Fspacex-starts-falcon-9-landing-leg-retraction%2F&amp;rft.creator=Eric+Ralph&amp;rft.date=2019-05-07\">&#160;</span></span>\\n</li>\\n<li id=\"cite_note-56\"><span class=\"mw-cite-backlink\"><a href=\"#cite_ref-56\">\\xe2\\x86\\x91</a></span> <span class=\"reference-text\"><span class=\"cite\">Lynsey Jeffery:&#32;<a rel=\"nofollow\" class=\"external text\" href=\"https://www.npr.org/2020/03/07/813214937/spacex-successfully-lands-50th-rocket-in-5-years?t=1591528188726\"><i>SpaceX Successfully Lands 50th Rocket In 5 Years.</i></a>&#32;7.&#160;M\\xc3\\xa4rz 2020&#44;<span class=\"Abrufdatum\">&#32;abgerufen am 7.&#160;Juni 2020</span>.</span><span style=\"display: none;\" class=\"Z3988\" title=\"ctx_ver=Z39.88-2004&amp;rft_val_fmt=info%3Aofi%2Ffmt%3Akev%3Amtx%3Adc&amp;rfr_id=info%3Asid%2Fde.wikipedia.org%3AFalcon+9&amp;rft.title=SpaceX+Successfully+Lands+50th+Rocket+In+5+Years&amp;rft.description=SpaceX+Successfully+Lands+50th+Rocket+In+5+Years&amp;rft.identifier=https%3A%2F%2Fwww.npr.org%2F2020%2F03%2F07%2F813214937%2Fspacex-successfully-lands-50th-rocket-in-5-years%3Ft%3D1591528188726&amp;rft.creator=Lynsey+Jeffery&amp;rft.date=2020-03-07\">&#160;</span></span>\\n</li>\\n<li id=\"cite_note-57\"><span class=\"mw-cite-backlink\"><a href=\"#cite_ref-57\">\\xe2\\x86\\x91</a></span> <span class=\"reference-text\"><cite><a rel=\"nofollow\" class=\"external text\" href=\"https://spaceflightnow.com/2021/04/27/spacex-to-resume-starlink-launches-stretching-reused-falcon-boosters-to-their-limits/\">SpaceX to resume Starlink flights, stretching reused Falcon rockets to their limits</a></cite>.&#32;spaceflightnow.com.&#32;27.&#160;April 2021.</span>\\n</li>\\n<li id=\"cite_note-58\"><span class=\"mw-cite-backlink\"><a href=\"#cite_ref-58\">\\xe2\\x86\\x91</a></span> <span class=\"reference-text\"><cite><a rel=\"nofollow\" class=\"external text\" href=\"https://www.space.com/spacex-starlink-27-10th-falcon-9-rocket-launch-landing-success\">SpaceX launches 60 Starlink satellites in record 10th liftoff (and landing) of reused rocket</a></cite>.&#32;space.com.&#32;9.&#160;Mai 2021.</span>\\n</li>\\n<li id=\"cite_note-59\"><span class=\"mw-cite-backlink\"><a href=\"#cite_ref-59\">\\xe2\\x86\\x91</a></span> <span class=\"reference-text\"><span class=\"cite\">Caleb Henry:&#32;<a rel=\"nofollow\" class=\"external text\" href=\"http://spacenews.com/spacex-demonstrates-rocket-reusability-with-ses-10-launch-and-booster-landing/\"><i>SpaceX demonstrates rocket reusability with SES-10 launch and booster landing.</i></a>&#32;In:&#32;<i>spacenews.com.</i>&#32;30.&#160;M\\xc3\\xa4rz 2017&#44;<span class=\"Abrufdatum\">&#32;abgerufen am 22.&#160;Februar 2018</span>.</span><span style=\"display: none;\" class=\"Z3988\" title=\"ctx_ver=Z39.88-2004&amp;rft_val_fmt=info%3Aofi%2Ffmt%3Akev%3Amtx%3Adc&amp;rfr_id=info%3Asid%2Fde.wikipedia.org%3AFalcon+9&amp;rft.title=SpaceX+demonstrates+rocket+reusability+with+SES-10+launch+and+booster+landing&amp;rft.description=SpaceX+demonstrates+rocket+reusability+with+SES-10+launch+and+booster+landing&amp;rft.identifier=http%3A%2F%2Fspacenews.com%2Fspacex-demonstrates-rocket-reusability-with-ses-10-launch-and-booster-landing%2F&amp;rft.creator=Caleb+Henry&amp;rft.date=2017-03-30\">&#160;</span></span>\\n</li>\\n<li id=\"cite_note-60\"><span class=\"mw-cite-backlink\"><a href=\"#cite_ref-60\">\\xe2\\x86\\x91</a></span> <span class=\"reference-text\"><span class=\"cite\"><a rel=\"nofollow\" class=\"external text\" href=\"http://www.thespaceshow.com/show/22-jun-2017/broadcast-2934-ms.-gwynne-shotwell\"><i>Thu, 06/22/2017 \\xe2\\x80\\x93 14:00 &#124; Gwynne Shotwell.</i></a><span class=\"Abrufdatum\">&#32;Abgerufen am 9.&#160;Juli 2017</span>&#32;(englisch).</span><span style=\"display: none;\" class=\"Z3988\" title=\"ctx_ver=Z39.88-2004&amp;rft_val_fmt=info%3Aofi%2Ffmt%3Akev%3Amtx%3Adc&amp;rfr_id=info%3Asid%2Fde.wikipedia.org%3AFalcon+9&amp;rft.title=Thu%2C+06%2F22%2F2017+%E2%80%93+14%3A00+%7C+Gwynne+Shotwell&amp;rft.description=Thu%2C+06%2F22%2F2017+%E2%80%93+14%3A00+%7C+Gwynne+Shotwell&amp;rft.identifier=http%3A%2F%2Fwww.thespaceshow.com%2Fshow%2F22-jun-2017%2Fbroadcast-2934-ms.-gwynne-shotwell&amp;rft.language=en\">&#160;</span></span>\\n</li>\\n<li id=\"cite_note-61\"><span class=\"mw-cite-backlink\"><a href=\"#cite_ref-61\">\\xe2\\x86\\x91</a></span> <span class=\"reference-text\"><span class=\"cite\">Sputnik:&#32;<a rel=\"nofollow\" class=\"external text\" href=\"https://web.archive.org/web/20181118164820/https://de.sputniknews.com/wissen/20181118323003570-space-x-zweitstufe-falcon-9/\"><i>SpaceX verzichtet auf Modernisierung von Zweitstufe der Falcon 9.</i></a><span class=\"Abrufdatum\">&#32;Abgerufen am 18.&#160;November 2018</span>.</span><span style=\"display: none;\" class=\"Z3988\" title=\"ctx_ver=Z39.88-2004&amp;rft_val_fmt=info%3Aofi%2Ffmt%3Akev%3Amtx%3Adc&amp;rfr_id=info%3Asid%2Fde.wikipedia.org%3AFalcon+9&amp;rft.title=SpaceX+verzichtet+auf+Modernisierung+von+Zweitstufe+der+Falcon+9&amp;rft.description=SpaceX+verzichtet+auf+Modernisierung+von+Zweitstufe+der+Falcon+9&amp;rft.identifier=https%3A%2F%2Fweb.archive.org%2Fweb%2F20181118164820%2Fhttps%3A%2F%2Fde.sputniknews.com%2Fwissen%2F20181118323003570-space-x-zweitstufe-falcon-9%2F&amp;rft.creator=Sputnik&amp;rft.language=de\">&#160;</span></span>\\n</li>\\n<li id=\"cite_note-62\"><span class=\"mw-cite-backlink\"><a href=\"#cite_ref-62\">\\xe2\\x86\\x91</a></span> <span class=\"reference-text\"><span class=\"cite\">Stephen Clark:&#32;<a rel=\"nofollow\" class=\"external text\" href=\"https://spaceflightnow.com/2018/06/01/new-photos-illustrate-progress-in-spacexs-fairing-recovery-attempts/\"><i>New photos illustrate progress in SpaceX\\xe2\\x80\\x99s fairing recovery attempts.</i></a>&#32;1.&#160;Juni 2018&#44;<span class=\"Abrufdatum\">&#32;abgerufen am 16.&#160;Juni 2018</span>.</span><span style=\"display: none;\" class=\"Z3988\" title=\"ctx_ver=Z39.88-2004&amp;rft_val_fmt=info%3Aofi%2Ffmt%3Akev%3Amtx%3Adc&amp;rfr_id=info%3Asid%2Fde.wikipedia.org%3AFalcon+9&amp;rft.title=New+photos+illustrate+progress+in+SpaceX%E2%80%99s+fairing+recovery+attempts&amp;rft.description=New+photos+illustrate+progress+in+SpaceX%E2%80%99s+fairing+recovery+attempts&amp;rft.identifier=https%3A%2F%2Fspaceflightnow.com%2F2018%2F06%2F01%2Fnew-photos-illustrate-progress-in-spacexs-fairing-recovery-attempts%2F&amp;rft.creator=Stephen+Clark&amp;rft.date=2018-06-01\">&#160;</span></span>\\n</li>\\n<li id=\"cite_note-verge-h\\xc3\\xbcpfburg-63\"><span class=\"mw-cite-backlink\"><a href=\"#cite_ref-verge-h\\xc3\\xbcpfburg_63-0\">\\xe2\\x86\\x91</a></span> <span class=\"reference-text\"><span class=\"cite\">Loren Grush:&#32;<a rel=\"nofollow\" class=\"external text\" href=\"https://www.theverge.com/2018/4/18/17247748/spacex-elon-musk-giant-party-balloon-falcon-9-upper-stage-reusability\"><i>How Elon Musk could recover rockets with balloons \\xe2\\x80\\x93 just not the party kind.</i></a>&#32;In:&#32;<i>The Verge.</i>&#32;18.&#160;April 2018&#44;<span class=\"Abrufdatum\">&#32;abgerufen am 16.&#160;Juni 2018</span>.</span><span style=\"display: none;\" class=\"Z3988\" title=\"ctx_ver=Z39.88-2004&amp;rft_val_fmt=info%3Aofi%2Ffmt%3Akev%3Amtx%3Adc&amp;rfr_id=info%3Asid%2Fde.wikipedia.org%3AFalcon+9&amp;rft.title=How+Elon+Musk+could+recover+rockets+with+balloons+%E2%80%93+just+not+the+party+kind&amp;rft.description=How+Elon+Musk+could+recover+rockets+with+balloons+%E2%80%93+just+not+the+party+kind&amp;rft.identifier=https%3A%2F%2Fwww.theverge.com%2F2018%2F4%2F18%2F17247748%2Fspacex-elon-musk-giant-party-balloon-falcon-9-upper-stage-reusability&amp;rft.creator=Loren+Grush&amp;rft.date=2018-04-18\">&#160;</span></span>\\n</li>\\n<li id=\"cite_note-64\"><span class=\"mw-cite-backlink\"><a href=\"#cite_ref-64\">\\xe2\\x86\\x91</a></span> <span class=\"reference-text\"><a rel=\"nofollow\" class=\"external text\" href=\"https://twitter.com/elonmusk/status/985684755877265408?ref_src=twsrc%5Etfw\">Twitter-Nachrichten</a> von Elon Musk, 16. April 2018.</span>\\n</li>\\n<li id=\"cite_note-65\"><span class=\"mw-cite-backlink\"><a href=\"#cite_ref-65\">\\xe2\\x86\\x91</a></span> <span class=\"reference-text\"><span class=\"cite\"><a rel=\"nofollow\" class=\"external text\" href=\"https://www.cnet.com/news/elon-musk-spacex-plan-rocket-stage-party-balloon-bouncy-house/\"><i>Elon Musk\\xe2\\x80\\x99s new SpaceX rocket plan uses a \\xe2\\x80\\x98party balloon\\xe2\\x80\\x99.</i></a>&#32;In:&#32;<i>c|net.</i>&#32;16.&#160;Mai 2016&#44;<span class=\"Abrufdatum\">&#32;abgerufen am 16.&#160;Juni 2018</span>.</span><span style=\"display: none;\" class=\"Z3988\" title=\"ctx_ver=Z39.88-2004&amp;rft_val_fmt=info%3Aofi%2Ffmt%3Akev%3Amtx%3Adc&amp;rfr_id=info%3Asid%2Fde.wikipedia.org%3AFalcon+9&amp;rft.title=Elon+Musk%E2%80%99s+new+SpaceX+rocket+plan+uses+a+%E2%80%98party+balloon%E2%80%99&amp;rft.description=Elon+Musk%E2%80%99s+new+SpaceX+rocket+plan+uses+a+%E2%80%98party+balloon%E2%80%99&amp;rft.identifier=https%3A%2F%2Fwww.cnet.com%2Fnews%2Felon-musk-spacex-plan-rocket-stage-party-balloon-bouncy-house%2F&amp;rft.date=2016-05-16\">&#160;</span></span>\\n</li>\\n<li id=\"cite_note-falcon_heavy-66\"><span class=\"mw-cite-backlink\"><a href=\"#cite_ref-falcon_heavy_66-0\">\\xe2\\x86\\x91</a></span> <span class=\"reference-text\"><span class=\"cite\"><a rel=\"nofollow\" class=\"external text\" href=\"http://www.spacex.com/falcon-heavy\"><i>Falcon Heavy overview.</i></a>&#32;SpaceX&#44;<span class=\"Abrufdatum\">&#32;abgerufen am 9.&#160;Mai 2017</span>&#32;(englisch).</span><span style=\"display: none;\" class=\"Z3988\" title=\"ctx_ver=Z39.88-2004&amp;rft_val_fmt=info%3Aofi%2Ffmt%3Akev%3Amtx%3Adc&amp;rfr_id=info%3Asid%2Fde.wikipedia.org%3AFalcon+9&amp;rft.title=Falcon+Heavy+overview&amp;rft.description=Falcon+Heavy+overview&amp;rft.identifier=http%3A%2F%2Fwww.spacex.com%2Ffalcon-heavy&amp;rft.publisher=SpaceX&amp;rft.language=en\">&#160;</span></span>\\n</li>\\n<li id=\"cite_note-67\"><span class=\"mw-cite-backlink\"><a href=\"#cite_ref-67\">\\xe2\\x86\\x91</a></span> <span class=\"reference-text\"><a rel=\"nofollow\" class=\"external text\" href=\"https://web.archive.org/web/20170314002928/http://www.spacex.com/sites/spacex/files/falcon_9_users_guide_rev_2.0.pdf\"><i>Falcon 9 Launch Vehicle. Payload User\\xe2\\x80\\x99s Guide.</i></a> (<a href=\"/wiki/Web-Archivierung#Begrifflichkeiten\" title=\"Web-Archivierung\"><span style=\"color:#303030!important\">Memento</span></a> vom 14. M\\xc3\\xa4rz 2017 im <i><a href=\"/wiki/Internet_Archive\" title=\"Internet Archive\">Internet Archive</a></i>). In: <i>spacex.com.</i> (PDF; 3,0&#160;MB).</span>\\n</li>\\n<li id=\"cite_note-68\"><span class=\"mw-cite-backlink\"><a href=\"#cite_ref-68\">\\xe2\\x86\\x91</a></span> <span class=\"reference-text\">SpaceX: <a rel=\"nofollow\" class=\"external text\" href=\"https://www.spacex.com/falcon9\">Falcon 9</a>, abgerufen am 12. Juni 2019.</span>\\n</li>\\n<li id=\"cite_note-69\"><span class=\"mw-cite-backlink\"><a href=\"#cite_ref-69\">\\xe2\\x86\\x91</a></span> <span class=\"reference-text\">SpaceX: <a rel=\"nofollow\" class=\"external text\" href=\"https://www.spacex.com/falcon-heavy\">Falcon Heavy</a>, abgerufen am 12. Juni 2019.</span>\\n</li>\\n<li id=\"cite_note-heavy-70\"><span class=\"mw-cite-backlink\">\\xe2\\x86\\x91 <sup><a href=\"#cite_ref-heavy_70-0\">a</a></sup> <sup><a href=\"#cite_ref-heavy_70-1\">b</a></sup> <sup><a href=\"#cite_ref-heavy_70-2\">c</a></sup> <sup><a href=\"#cite_ref-heavy_70-3\">d</a></sup></span> <span class=\"reference-text\"><span class=\"cite\">SpaceX:&#32;<a rel=\"nofollow\" class=\"external text\" href=\"http://www.spacex.com/falcon-heavy\"><i>Falcon Heavy.</i></a><span class=\"Abrufdatum\">&#32;Abgerufen am 29.&#160;Juli 2017</span>&#32;(englisch).</span><span style=\"display: none;\" class=\"Z3988\" title=\"ctx_ver=Z39.88-2004&amp;rft_val_fmt=info%3Aofi%2Ffmt%3Akev%3Amtx%3Adc&amp;rfr_id=info%3Asid%2Fde.wikipedia.org%3AFalcon+9&amp;rft.title=Falcon+Heavy&amp;rft.description=Falcon+Heavy&amp;rft.identifier=http%3A%2F%2Fwww.spacex.com%2Ffalcon-heavy&amp;rft.creator=SpaceX&amp;rft.language=en\">&#160;</span></span>\\n</li>\\n<li id=\"cite_note-:0-71\"><span class=\"mw-cite-backlink\">\\xe2\\x86\\x91 <sup><a href=\"#cite_ref-:0_71-0\">a</a></sup> <sup><a href=\"#cite_ref-:0_71-1\">b</a></sup></span> <span class=\"reference-text\"><span class=\"cite\">Elon Musk:&#32;<a rel=\"nofollow\" class=\"external text\" href=\"http://www.spacex.com/mars\"><i>Making Life Multiplanetary \\xe2\\x80\\x93 SpaceX.</i></a>&#32;SpaceX,&#32;29.&#160;September 2017&#44;<span class=\"Abrufdatum\">&#32;abgerufen am 30.&#160;September 2017</span>&#32;(englisch).</span><span style=\"display: none;\" class=\"Z3988\" title=\"ctx_ver=Z39.88-2004&amp;rft_val_fmt=info%3Aofi%2Ffmt%3Akev%3Amtx%3Adc&amp;rfr_id=info%3Asid%2Fde.wikipedia.org%3AFalcon+9&amp;rft.title=Making+Life+Multiplanetary+%E2%80%93+SpaceX&amp;rft.description=Making+Life+Multiplanetary+%E2%80%93+SpaceX&amp;rft.identifier=http%3A%2F%2Fwww.spacex.com%2Fmars&amp;rft.creator=Elon+Musk&amp;rft.publisher=SpaceX&amp;rft.date=2017-09-29&amp;rft.language=en\">&#160;</span></span>\\n</li>\\n<li id=\"cite_note-Heavy_GTO-72\"><span class=\"mw-cite-backlink\"><a href=\"#cite_ref-Heavy_GTO_72-0\">\\xe2\\x86\\x91</a></span> <span class=\"reference-text\"><span class=\"cite\"><a rel=\"nofollow\" class=\"external text\" href=\"https://web.archive.org/web/20120531012304/http://www.spacex.com/press.php?page=20120529\"><i>Intelsat Signs First Commercial Falcon Heavy Launch Agreement with SpaceX, Advanced Vehicle Provides Expanded Options for Operator of the World\\xe2\\x80\\x99s Largest Satellite Fleet.</i></a>&#32;SpaceX,&#32;29.&#160;Mai 2012,&#32;archiviert&#32;vom&#32;<span class=\"external text\"><a class=\"external text\" href=\"https://giftbot.toolforge.org/deref.fcgi?url=http%3A%2F%2Fwww.spacex.com%2Fpress.php%3Fpage%3D20120529\">Original</a></span>&#32;am&#32;<span style=\"white-space:nowrap;\">31.&#160;Mai 2012</span><span>;</span><span class=\"Abrufdatum\">&#32;abgerufen am 30.&#160;Mai 2012</span>&#32;(englisch).</span><span style=\"display: none;\" class=\"Z3988\" title=\"ctx_ver=Z39.88-2004&amp;rft_val_fmt=info%3Aofi%2Ffmt%3Akev%3Amtx%3Adc&amp;rfr_id=info%3Asid%2Fde.wikipedia.org%3AFalcon+9&amp;rft.title=Intelsat+Signs+First+Commercial+Falcon+Heavy+Launch+Agreement+with+SpaceX%2C+Advanced+Vehicle+Provides+Expanded+Options+for+Operator+of+the+World%E2%80%99s+Largest+Satellite+Fleet&amp;rft.description=Intelsat+Signs+First+Commercial+Falcon+Heavy+Launch+Agreement+with+SpaceX%2C+Advanced+Vehicle+Provides+Expanded+Options+for+Operator+of+the+World%E2%80%99s+Largest+Satellite+Fleet&amp;rft.identifier=https%3A%2F%2Fweb.archive.org%2Fweb%2F20120531012304%2Fhttp%3A%2F%2Fwww.spacex.com%2Fpress.php%3Fpage%3D20120529&amp;rft.publisher=SpaceX&amp;rft.date=2012-05-29&amp;rft.source=http&#58;//www.spacex.com/press.php?page=20120529&amp;rft.language=en\">&#160;</span></span>\\n</li>\\n<li id=\"cite_note-73\"><span class=\"mw-cite-backlink\"><a href=\"#cite_ref-73\">\\xe2\\x86\\x91</a></span> <span class=\"reference-text\"><span class=\"cite\">William Graham:&#32;<a rel=\"nofollow\" class=\"external text\" href=\"https://www.nasaspaceflight.com/2018/07/spacex-falcon-9-telstar-19v-launch/\"><i>SpaceX Falcon 9 sets new record with Telstar 19V launch from SLC-40.</i></a>&#32;In:&#32;<i>nasaspaceflight.com.</i>&#32;21.&#160;Juli 2018&#44;<span class=\"Abrufdatum\">&#32;abgerufen am 22.&#160;Juli 2018</span>.</span><span style=\"display: none;\" class=\"Z3988\" title=\"ctx_ver=Z39.88-2004&amp;rft_val_fmt=info%3Aofi%2Ffmt%3Akev%3Amtx%3Adc&amp;rfr_id=info%3Asid%2Fde.wikipedia.org%3AFalcon+9&amp;rft.title=SpaceX+Falcon+9+sets+new+record+with+Telstar+19V+launch+from+SLC-40&amp;rft.description=SpaceX+Falcon+9+sets+new+record+with+Telstar+19V+launch+from+SLC-40&amp;rft.identifier=https%3A%2F%2Fwww.nasaspaceflight.com%2F2018%2F07%2Fspacex-falcon-9-telstar-19v-launch%2F&amp;rft.creator=William+Graham&amp;rft.date=2018-07-21\">&#160;</span></span>\\n</li>\\n<li id=\"cite_note-74\"><span class=\"mw-cite-backlink\"><a href=\"#cite_ref-74\">\\xe2\\x86\\x91</a></span> <span class=\"reference-text\"><span class=\"cite\">Elon Musk:&#32;<a rel=\"nofollow\" class=\"external text\" href=\"https://twitter.com/elonmusk/status/822926184719609856\"><i>Expendable. Future flights will go on Falcon Heavy or the upgraded Falcon 9.</i></a>&#32;In:&#32;<i>@elonmusk.</i>&#32;21.&#160;Dezember 2017&#44;<span class=\"Abrufdatum\">&#32;abgerufen am 20.&#160;Oktober 2017</span>&#32;(englisch).</span><span style=\"display: none;\" class=\"Z3988\" title=\"ctx_ver=Z39.88-2004&amp;rft_val_fmt=info%3Aofi%2Ffmt%3Akev%3Amtx%3Adc&amp;rfr_id=info%3Asid%2Fde.wikipedia.org%3AFalcon+9&amp;rft.title=Expendable.+Future+flights+will+go+on+Falcon+Heavy+or+the+upgraded+Falcon+9.&amp;rft.description=Expendable.+Future+flights+will+go+on+Falcon+Heavy+or+the+upgraded+Falcon+9.&amp;rft.identifier=https%3A%2F%2Ftwitter.com%2Felonmusk%2Fstatus%2F822926184719609856&amp;rft.creator=Elon+Musk&amp;rft.date=2017-12-21&amp;rft.language=en\">&#160;</span></span>\\n</li>\\n<li id=\"cite_note-75\"><span class=\"mw-cite-backlink\"><a href=\"#cite_ref-75\">\\xe2\\x86\\x91</a></span> <span class=\"reference-text\"><a rel=\"nofollow\" class=\"external text\" href=\"https://www.youtube.com/watch?v=4HPR8WDwWb0\"><i>Elon Musk: I\\xe2\\x80\\x99m not sure I wanna be me (Elon Musk interview).</i></a> Video auf Youtube, Minute 29:15.</span>\\n</li>\\n<li id=\"cite_note-capabilities-76\"><span class=\"mw-cite-backlink\">\\xe2\\x86\\x91 <sup><a href=\"#cite_ref-capabilities_76-0\">a</a></sup> <sup><a href=\"#cite_ref-capabilities_76-1\">b</a></sup></span> <span class=\"reference-text\"><span class=\"cite\"><a rel=\"nofollow\" class=\"external text\" href=\"http://www.spacex.com/about/capabilities\"><i>Capabilities &amp; Services.</i></a>&#32;SpaceX&#44;<span class=\"Abrufdatum\">&#32;abgerufen am 4.&#160;Mai 2016</span>.</span><span style=\"display: none;\" class=\"Z3988\" title=\"ctx_ver=Z39.88-2004&amp;rft_val_fmt=info%3Aofi%2Ffmt%3Akev%3Amtx%3Adc&amp;rfr_id=info%3Asid%2Fde.wikipedia.org%3AFalcon+9&amp;rft.title=Capabilities+%26+Services&amp;rft.description=Capabilities+%26+Services&amp;rft.identifier=http%3A%2F%2Fwww.spacex.com%2Fabout%2Fcapabilities&amp;rft.publisher=SpaceX\">&#160;</span></span>\\n</li>\\n<li id=\"cite_note-77\"><span class=\"mw-cite-backlink\"><a href=\"#cite_ref-77\">\\xe2\\x86\\x91</a></span> <span class=\"reference-text\"><span class=\"cite\">Stephen Clark:&#32;<a rel=\"nofollow\" class=\"external text\" href=\"http://spaceflightnow.com/news/n1404/15pad39a/#.U1dgqaJpfy0\"><i>SpaceX\\xe2\\x80\\x99s mega-rocket to debut next year at pad 39A.</i></a>&#32;Spaceflight Now,&#32;15.&#160;April 2014&#44;<span class=\"Abrufdatum\">&#32;abgerufen am 23.&#160;April 2014</span>&#32;(englisch).</span><span style=\"display: none;\" class=\"Z3988\" title=\"ctx_ver=Z39.88-2004&amp;rft_val_fmt=info%3Aofi%2Ffmt%3Akev%3Amtx%3Adc&amp;rfr_id=info%3Asid%2Fde.wikipedia.org%3AFalcon+9&amp;rft.title=SpaceX%E2%80%99s+mega-rocket+to+debut+next+year+at+pad+39A&amp;rft.description=SpaceX%E2%80%99s+mega-rocket+to+debut+next+year+at+pad+39A&amp;rft.identifier=http%3A%2F%2Fspaceflightnow.com%2Fnews%2Fn1404%2F15pad39a%2F%23.U1dgqaJpfy0&amp;rft.creator=Stephen+Clark&amp;rft.publisher=Spaceflight+Now&amp;rft.date=2014-04-15&amp;rft.language=en\">&#160;</span></span>\\n</li>\\n<li id=\"cite_note-78\"><span class=\"mw-cite-backlink\"><a href=\"#cite_ref-78\">\\xe2\\x86\\x91</a></span> <span class=\"reference-text\"><span class=\"cite\"><a rel=\"nofollow\" class=\"external text\" href=\"http://spaceflightnow.com/tracking/launchlog.html\"><i>Launchlog.</i></a>&#32;Spaceflight Now,&#32;17.&#160;M\\xc3\\xa4rz 2017&#44;<span class=\"Abrufdatum\">&#32;abgerufen am 18.&#160;M\\xc3\\xa4rz 2017</span>&#32;(englisch).</span><span style=\"display: none;\" class=\"Z3988\" title=\"ctx_ver=Z39.88-2004&amp;rft_val_fmt=info%3Aofi%2Ffmt%3Akev%3Amtx%3Adc&amp;rfr_id=info%3Asid%2Fde.wikipedia.org%3AFalcon+9&amp;rft.title=Launchlog&amp;rft.description=Launchlog&amp;rft.identifier=http%3A%2F%2Fspaceflightnow.com%2Ftracking%2Flaunchlog.html&amp;rft.publisher=Spaceflight+Now&amp;rft.date=2017-03-17&amp;rft.language=en\">&#160;</span></span>\\n</li>\\n<li id=\"cite_note-79\"><span class=\"mw-cite-backlink\"><a href=\"#cite_ref-79\">\\xe2\\x86\\x91</a></span> <span class=\"reference-text\"><span class=\"cite\">Mike Wall:&#32;<a rel=\"nofollow\" class=\"external text\" href=\"http://www.space.com/27234-spacex-texas-spaceport-groundbreaking.html\"><i>SpaceX Breaks Ground on Private Spaceport in Texas.</i></a>&#32;Space,&#32;23.&#160;September 2014&#44;<span class=\"Abrufdatum\">&#32;abgerufen am 7.&#160;Dezember 2014</span>&#32;(englisch).</span><span style=\"display: none;\" class=\"Z3988\" title=\"ctx_ver=Z39.88-2004&amp;rft_val_fmt=info%3Aofi%2Ffmt%3Akev%3Amtx%3Adc&amp;rfr_id=info%3Asid%2Fde.wikipedia.org%3AFalcon+9&amp;rft.title=SpaceX+Breaks+Ground+on+Private+Spaceport+in+Texas&amp;rft.description=SpaceX+Breaks+Ground+on+Private+Spaceport+in+Texas&amp;rft.identifier=http%3A%2F%2Fwww.space.com%2F27234-spacex-texas-spaceport-groundbreaking.html&amp;rft.creator=Mike+Wall&amp;rft.publisher=Space&amp;rft.date=2014-09-23&amp;rft.language=en\">&#160;</span></span>\\n</li>\\n</ol></div>\\n<style data-mw-deduplicate=\"TemplateStyles:r205163471\">.mw-parser-output div.NavFrame{border:1px solid #A2A9B1;clear:both;font-size:95%;margin-top:1.5em;min-height:0;padding:2px;text-align:center}.mw-parser-output div.NavPic{float:left;padding:2px}.mw-parser-output div.NavHead{background-color:#EAECF0;font-weight:bold}.mw-parser-output div.NavFrame:after{clear:both;content:\"\";display:block}.mw-parser-output div.NavFrame+div.NavFrame,.mw-parser-output div.NavFrame+link+div.NavFrame,.mw-parser-output div.NavFrame+style+div.NavFrame{margin-top:-1px}.mw-parser-output .NavToggle{float:right;font-size:x-small}</style><div class=\"NavFrame navigation-not-searchable\"><style data-mw-deduplicate=\"TemplateStyles:r212646405\">.mw-parser-output .hlist .wikitable{border-top:0px!important;border-bottom:0px!important;margin-top:0!important;margin-bottom:0!important}.mw-parser-output .hlist .wikitable tr:first-of-type td{border-top:0px!important}.mw-parser-output .hlist .wikitable tr:last-of-type td{border-bottom:0px!important}.mw-parser-output .NavContent>.wikitable>*>tr{border-top:2px solid #fdfdfd!important;border-bottom:2px solid #fdfdfd!important}</style><div class=\"NavHead\" style=\"background:#efefef;\">US-amerikanische <a href=\"/wiki/Tr%C3%A4gerrakete\" title=\"Tr\\xc3\\xa4gerrakete\">Tr\\xc3\\xa4gerraketen</a></div><div class=\"NavContent\" style=\"clear:left;\">\\n<table class=\"wikitable zebra\" style=\"width:100%;margin:0;text-align:left;font-size:95%;margin-top:.1em;margin-bottom:.1em;\">\\n\\n\\n\\n<tbody><tr style=\"display:none\">\\n<td>\\n</td>\\n<td>\\n<p><br />\\n</p>\\n</td></tr>\\n\\n<tr>\\n<td style=\"white-space: nowrap;text-align: right;background: #DDE5EE;border: 1px solid transparent;border-top: 1px solid #FFF;border-bottom: 2px solid #FFF;padding: 0 1em;\"><b>Im Einsatz:</b>\\n</td>\\n<td class=\"hlist\" style=\"text-align: left;border-left: 2px solid #fdfdfd;width: 100%;margin: .4em 0;border-color: #fdfdfd;padding: 0 .25em;\">\\n<p><a href=\"/wiki/Antares_(Rakete)\" title=\"Antares (Rakete)\">Antares</a> &#8226;\\n<a href=\"/wiki/Atlas_V\" title=\"Atlas V\">Atlas V</a> &#8226;\\n<a href=\"/wiki/Delta_IV\" title=\"Delta IV\">Delta IV Heavy</a> &#8226;\\n<a href=\"/wiki/Electron_(Rakete)\" title=\"Electron (Rakete)\">Electron</a> &#8226;\\n<a class=\"mw-selflink selflink\">Falcon 9</a> &#8226;\\n<a href=\"/wiki/Falcon_Heavy\" title=\"Falcon Heavy\">Falcon&#160;Heavy</a> &#8226;\\n<a href=\"/wiki/LauncherOne\" title=\"LauncherOne\">LauncherOne</a> &#8226;\\n<a href=\"/wiki/Minotaur_(Rakete)\" title=\"Minotaur (Rakete)\">Minotaur</a> &#8226;\\n<a href=\"/wiki/Minotaur-C\" title=\"Minotaur-C\">Minotaur-C</a> &#8226;\\n<a href=\"/wiki/Pegasus_(Rakete)\" title=\"Pegasus (Rakete)\">Pegasus</a>\\n</p>\\n</td></tr>\\n<tr>\\n<td style=\"white-space: nowrap;text-align: right;background: #DDE5EE;border: 1px solid transparent;border-top: 1px solid #FFF;border-bottom: 2px solid #FFF;padding: 0 1em;\"><b>In Erprobung:</b>\\n</td>\\n<td class=\"hlist\" style=\"text-align: left;border-left: 2px solid #fdfdfd;width: 100%;margin: .4em 0;border-color: #fdfdfd;padding: 0 .25em;\">\\n<p><a href=\"/wiki/Rocket_3\" title=\"Rocket 3\">Rocket 3</a>\\n</p>\\n</td></tr>\\n<tr>\\n<td style=\"white-space: nowrap;text-align: right;background: #DDE5EE;border: 1px solid transparent;border-top: 1px solid #FFF;border-bottom: 2px solid #FFF;padding: 0 1em;\"><b>In Entwicklung:</b>\\n</td>\\n<td class=\"hlist\" style=\"text-align: left;border-left: 2px solid #fdfdfd;width: 100%;margin: .4em 0;border-color: #fdfdfd;padding: 0 .25em;\">\\n<p><a href=\"/wiki/Firefly_Aerospace\" title=\"Firefly Aerospace\">Firefly Alpha</a> &#8226;\\n<a href=\"/wiki/Neutron_(Rakete)\" class=\"mw-redirect\" title=\"Neutron (Rakete)\">Neutron</a> &#8226;\\n<a href=\"/wiki/New_Glenn\" title=\"New Glenn\">New Glenn</a> &#8226;\\n<a href=\"/wiki/Ravn_(Raketensystem)\" title=\"Ravn (Raketensystem)\">Ravn</a> &#8226;\\n<a href=\"/w/index.php?title=Rocket_4&amp;action=edit&amp;redlink=1\" class=\"new\" title=\"Rocket 4 (Seite nicht vorhanden)\">Rocket 4</a> &#8226;\\n<a href=\"/wiki/RS1_(Rakete)\" title=\"RS1 (Rakete)\">RS1</a> &#8226;\\n<a href=\"/wiki/Space_Launch_System\" title=\"Space Launch System\">SLS</a> &#8226;\\n<a href=\"/wiki/SpinLaunch\" title=\"SpinLaunch\">SpinLaunch</a> &#8226;\\n<a href=\"/wiki/Starship_(Rakete)\" title=\"Starship (Rakete)\">Starship</a> &#8226;\\n<a href=\"/wiki/Super_Strypi\" title=\"Super Strypi\">Super&#160;Strypi</a> &#8226;\\n<a href=\"/wiki/Terran_1\" title=\"Terran 1\">Terran&#160;1</a> &#8226;\\n<a href=\"/wiki/Vector_(Rakete)\" title=\"Vector (Rakete)\">Vector</a> &#8226;\\n<a href=\"/wiki/Vulcan_(Rakete)\" title=\"Vulcan (Rakete)\">Vulcan</a>\\n</p>\\n</td></tr>\\n<tr>\\n<td style=\"white-space: nowrap;text-align: right;background: #DDE5EE;border: 1px solid transparent;border-top: 1px solid #FFF;border-bottom: 2px solid #FFF;padding: 0 1em;\"><b>Ausgemustert:</b>\\n</td>\\n<td class=\"hlist\" style=\"text-align: left;border-left: 2px solid #fdfdfd;width: 100%;margin: .4em 0;border-color: #fdfdfd;padding: 0 .25em;\">\\n<p><a href=\"/wiki/Athena_(Rakete)\" title=\"Athena (Rakete)\">Athena</a> &#8226;\\n<a href=\"/wiki/Atlas_(Rakete)\" title=\"Atlas (Rakete)\">Atlas</a> &#8226;\\n<a href=\"/wiki/Conestoga_(Rakete)\" title=\"Conestoga (Rakete)\">Conestoga</a> &#8226;\\n<a href=\"/wiki/Delta_(Rakete)\" title=\"Delta (Rakete)\">Delta</a> &#8226;\\n<a href=\"/wiki/Delta_II\" title=\"Delta II\">Delta II</a> &#8226;\\n<a href=\"/wiki/Delta_IV\" title=\"Delta IV\">Delta IV M</a> &#8226;\\n<a href=\"/wiki/Falcon_1\" title=\"Falcon 1\">Falcon 1</a> &#8226;\\n<a href=\"/wiki/Juno_I\" title=\"Juno I\">Juno&#160;I</a> &#8226;\\n<a href=\"/wiki/Juno_II\" title=\"Juno II\">Juno&#160;II</a> &#8226;\\n<a href=\"/wiki/Pilot_(Rakete)\" title=\"Pilot (Rakete)\">Pilot</a> &#8226;\\n<a href=\"/wiki/Redstone_(Rakete)\" title=\"Redstone (Rakete)\">Redstone</a> &#8226;\\n<a href=\"/wiki/Saturn_(Rakete)\" title=\"Saturn (Rakete)\">Saturn</a> &#8226;\\n<a href=\"/wiki/Scout_(Rakete)\" title=\"Scout (Rakete)\">Scout</a> &#8226;\\n<a href=\"/wiki/Space_Shuttle\" title=\"Space Shuttle\">Space&#160;Shuttle</a> &#8226;\\n<a href=\"/wiki/Sparta_(Rakete)\" title=\"Sparta (Rakete)\">Sparta</a> &#8226;\\n<a href=\"/wiki/Thor_(Rakete)\" title=\"Thor (Rakete)\">Thor</a> &#8226;\\n<a href=\"/wiki/Titan_(Tr%C3%A4gerrakete)\" title=\"Titan (Tr\\xc3\\xa4gerrakete)\">Titan</a> &#8226;\\n<a href=\"/wiki/Vanguard-Projekt\" title=\"Vanguard-Projekt\">Vanguard</a>\\n</p>\\n</td></tr>\\n<tr>\\n<td style=\"white-space: nowrap;text-align: right;background: #DDE5EE;border: 1px solid transparent;border-top: 1px solid #FFF;border-bottom: 2px solid #FFF;padding: 0 1em;\"><b>Nicht realisiert:</b>\\n</td>\\n<td class=\"hlist\" style=\"text-align: left;border-left: 2px solid #fdfdfd;width: 100%;margin: .4em 0;border-color: #fdfdfd;padding: 0 .25em;\">\\n<p><a href=\"/wiki/Ares_(Rakete)\" title=\"Ares (Rakete)\">Ares</a> (<a href=\"/wiki/Ares_I\" title=\"Ares I\">Ares I</a>, <a href=\"/wiki/Ares_V\" title=\"Ares V\">Ares V</a>) &#8226;\\n<a href=\"/wiki/Falcon_5\" class=\"mw-redirect\" title=\"Falcon 5\">Falcon 5</a> &#8226;\\n<a href=\"/wiki/Kistler_K-1\" title=\"Kistler K-1\">Kistler&#160;K\\xe2\\x80\\x911</a> &#8226;\\n<a href=\"/wiki/Liberty_(Rakete)\" title=\"Liberty (Rakete)\">Liberty</a> &#8226;\\n<a href=\"/wiki/Nova_(Rakete)\" title=\"Nova (Rakete)\">Nova</a> &#8226;\\n<a href=\"/wiki/Omega_(Rakete)\" title=\"Omega (Rakete)\">Omega</a> &#8226;\\n<a href=\"/wiki/Saturn-Shuttle\" title=\"Saturn-Shuttle\">Saturn\\xe2\\x80\\x91Shuttle</a> &#8226;\\n<a href=\"/wiki/Sea_Dragon\" title=\"Sea Dragon\">Sea&#160;Dragon</a> &#8226;\\n<a href=\"/wiki/Shuttle-C\" title=\"Shuttle-C\">Shuttle\\xe2\\x80\\x91C</a>\\n</p>\\n</td></tr>\\n<tr>\\n<td style=\"white-space: nowrap;text-align: right;background: #DDE5EE;border: 1px solid transparent;border-top: 1px solid #FFF;border-bottom: 1px solid #FFF;padding: 0 1em;\"><b>Raketenstufen:</b>\\n</td>\\n<td class=\"hlist\" style=\"text-align: left;border-left: 2px solid #fdfdfd;width: 100%;margin: .4em 0;border-color: #fdfdfd;padding: 0 .25em;\">\\n<p><a href=\"/wiki/Agena\" title=\"Agena\">Agena</a> &#8226;\\n<a href=\"/wiki/Castor_(Raketentriebwerk)\" title=\"Castor (Raketentriebwerk)\">Castor</a> &#8226;\\n<a href=\"/wiki/Centaur_(Raketenoberstufe)\" title=\"Centaur (Raketenoberstufe)\">Centaur</a> &#8226;\\n<a href=\"/wiki/Earth_Departure_Stage\" title=\"Earth Departure Stage\">EDS</a> &#8226;\\n<a href=\"/wiki/Inertial_Upper_Stage\" title=\"Inertial Upper Stage\">IUS</a> &#8226;\\n<a href=\"/wiki/Payload_Assist_Module\" title=\"Payload Assist Module\">PAM</a> &#8226;\\n<a href=\"/wiki/Transfer_Orbit_Stage\" title=\"Transfer Orbit Stage\">TOM</a>\\n</p>\\n</td></tr>\\n\\n\\n\\n\\n\\n\\n\\n\\n\\n\\n\\n\\n\\n\\n\\n\\n\\n\\n\\n\\n\\n\\n\\n\\n\\n\\n\\n\\n\\n\\n\\n\\n\\n\\n\\n\\n\\n\\n\\n\\n\\n\\n\\n\\n\\n\\n\\n\\n\\n\\n\\n</tbody></table><div style=\"margin:.1em 0;padding:.1em 1em;background:#f5f5f5;text-align:left;font-size:90%;\"><div class=\"sieheauch\" role=\"navigation\" style=\"font-style:italic;\"><span class=\"sieheauch-text\">Siehe auch</span>: <a href=\"/wiki/Liste_der_Raketentypen\" title=\"Liste der Raketentypen\">Liste der Raketentypen</a></div> </div></div></div>\\n<!-- \\nNewPP limit report\\nParsed by mw2313\\nCached time: 20210830100407\\nCache expiry: 1814400\\nReduced expiry: false\\nComplications: []\\nCPU time usage: 1.403 seconds\\nReal time usage: 1.527 seconds\\nPreprocessor visited node count: 19154/1000000\\nPost\\xe2\\x80\\x90expand include size: 193965/2097152 bytes\\nTemplate argument size: 91568/2097152 bytes\\nHighest expansion depth: 19/40\\nExpensive parser function count: 4/500\\nUnstrip recursion depth: 0/20\\nUnstrip post\\xe2\\x80\\x90expand size: 83272/5000000 bytes\\nLua time usage: 0.727/10.000 seconds\\nLua memory usage: 6614209/52428800 bytes\\nNumber of Wikibase entities loaded: 1/400\\n-->\\n<!--\\nTransclusion expansion time report (%,ms,calls,template)\\n100.00% 1380.532      1 -total\\n 70.18%  968.826     55 Vorlage:Internetquelle\\n  8.57%  118.348      7 Vorlage:Cite_web\\n  7.75%  106.977     55 Vorlage:Str_len\\n  6.84%   94.379     20 Vorlage:FormatDate\\n  5.96%   82.313      1 Vorlage:Navigationsleiste_US-amerikanische_Raketen\\n  5.72%   78.963      1 Vorlage:Erweiterte_Navigationsleiste\\n  4.09%   56.484     10 Vorlage:Str_match\\n  2.41%   33.313      1 Vorlage:NavFrame\\n  2.37%   32.781      3 Vorlage:Literatur\\n-->\\n\\n<!-- Saved in parser cache with key dewiki:stable-pcache:idhash:6626360-0!canonical and timestamp 20210830100407 and revision id 215096791. Serialized with JSON.\\n -->\\n</div><noscript><img src=\"//de.wikipedia.org/wiki/Special:CentralAutoLogin/start?type=1x1\" alt=\"\" title=\"\" width=\"1\" height=\"1\" style=\"border: none; position: absolute;\" /></noscript>\\n<div class=\"printfooter\">Abgerufen von \\xe2\\x80\\x9e<a dir=\"ltr\" href=\"https://de.wikipedia.org/w/index.php?title=Falcon_9&amp;oldid=215096791\">https://de.wikipedia.org/w/index.php?title=Falcon_9&amp;oldid=215096791</a>\\xe2\\x80\\x9c</div></div>\\n\\t\\t<div id=\"catlinks\" class=\"catlinks\" data-mw=\"interface\"><div id=\"mw-normal-catlinks\" class=\"mw-normal-catlinks\"><a href=\"/wiki/Wikipedia:Kategorien\" title=\"Wikipedia:Kategorien\">Kategorien</a>: <ul><li><a href=\"/wiki/Kategorie:Raketentyp_(Raumfahrt)\" title=\"Kategorie:Raketentyp (Raumfahrt)\">Raketentyp (Raumfahrt)</a></li><li><a href=\"/wiki/Kategorie:Raumfahrt_der_Vereinigten_Staaten\" title=\"Kategorie:Raumfahrt der Vereinigten Staaten\">Raumfahrt der Vereinigten Staaten</a></li><li><a href=\"/wiki/Kategorie:SpaceX\" title=\"Kategorie:SpaceX\">SpaceX</a></li><li><a href=\"/wiki/Kategorie:Elon_Musk\" title=\"Kategorie:Elon Musk\">Elon Musk</a></li></ul></div></div>\\n\\t</div>\\n</div>\\n<div id=\\'mw-data-after-content\\'>\\n\\t<div class=\"read-more-container\"></div>\\n</div>\\n\\n<div id=\"mw-navigation\">\\n\\t<h2>Navigationsmen\\xc3\\xbc</h2>\\n\\t<div id=\"mw-head\">\\n\\t\\t<nav id=\"p-personal\" class=\"mw-portlet mw-portlet-personal vector-user-menu-legacy vector-menu\" aria-labelledby=\"p-personal-label\" role=\"navigation\" \\n\\t >\\n\\t<h3 id=\"p-personal-label\" class=\"vector-menu-heading\"><span>Meine Werkzeuge</span>\\n\\t</h3>\\n\\t<div class=\"vector-menu-content\">\\n\\t\\t\\n\\t\\t<ul class=\"vector-menu-content-list\"><li id=\"pt-anonuserpage\">Nicht angemeldet</li><li id=\"pt-anontalk\"><a href=\"/wiki/Spezial:Meine_Diskussionsseite\" title=\"Diskussion \\xc3\\xbcber \\xc3\\x84nderungen von dieser IP-Adresse [n]\" accesskey=\"n\">Diskussionsseite</a></li><li id=\"pt-anoncontribs\"><a href=\"/wiki/Spezial:Meine_Beitr%C3%A4ge\" title=\"Eine Liste der Bearbeitungen, die von dieser IP-Adresse gemacht wurden [y]\" accesskey=\"y\">Beitr\\xc3\\xa4ge</a></li><li id=\"pt-createaccount\"><a href=\"/w/index.php?title=Spezial:Benutzerkonto_anlegen&amp;returnto=Falcon+9\" title=\"Wir ermutigen dich dazu, ein Benutzerkonto zu erstellen und dich anzumelden. Es ist jedoch nicht zwingend erforderlich.\">Benutzerkonto erstellen</a></li><li id=\"pt-login\"><a href=\"/w/index.php?title=Spezial:Anmelden&amp;returnto=Falcon+9\" title=\"Anmelden ist zwar keine Pflicht, wird aber gerne gesehen. [o]\" accesskey=\"o\">Anmelden</a></li></ul>\\n\\t\\t\\n\\t</div>\\n</nav>\\n\\n\\t\\t<div id=\"left-navigation\">\\n\\t\\t\\t<nav id=\"p-namespaces\" class=\"mw-portlet mw-portlet-namespaces vector-menu vector-menu-tabs\" aria-labelledby=\"p-namespaces-label\" role=\"navigation\" \\n\\t >\\n\\t<h3 id=\"p-namespaces-label\" class=\"vector-menu-heading\"><span>Namensr\\xc3\\xa4ume</span>\\n\\t</h3>\\n\\t<div class=\"vector-menu-content\">\\n\\t\\t\\n\\t\\t<ul class=\"vector-menu-content-list\"><li id=\"ca-nstab-main\" class=\"selected\"><a href=\"/wiki/Falcon_9\" title=\"Seiteninhalt anzeigen [c]\" accesskey=\"c\">Artikel</a></li><li id=\"ca-talk\"><a href=\"/wiki/Diskussion:Falcon_9\" rel=\"discussion\" title=\"Diskussion zum Seiteninhalt [t]\" accesskey=\"t\">Diskussion</a></li></ul>\\n\\t\\t\\n\\t</div>\\n</nav>\\n\\n\\t\\t\\t<nav id=\"p-variants\" class=\"mw-portlet mw-portlet-variants emptyPortlet vector-menu vector-menu-dropdown\" aria-labelledby=\"p-variants-label\" role=\"navigation\" \\n\\t >\\n\\t<input type=\"checkbox\"\\n\\t\\tdata-event-name=\"ui.dropdown-p-variants\"\\n\\t\\tclass=\"vector-menu-checkbox\" aria-labelledby=\"p-variants-label\" />\\n\\t<h3 id=\"p-variants-label\" class=\"vector-menu-heading\"><span>Varianten</span>\\n\\t</h3>\\n\\t<div class=\"vector-menu-content\">\\n\\t\\t\\n\\t\\t<ul class=\"vector-menu-content-list\"></ul>\\n\\t\\t\\n\\t</div>\\n</nav>\\n\\n\\t\\t</div>\\n\\t\\t<div id=\"right-navigation\">\\n\\t\\t\\t<nav id=\"p-views\" class=\"mw-portlet mw-portlet-views vector-menu vector-menu-tabs\" aria-labelledby=\"p-views-label\" role=\"navigation\" \\n\\t >\\n\\t<h3 id=\"p-views-label\" class=\"vector-menu-heading\"><span>Ansichten</span>\\n\\t</h3>\\n\\t<div class=\"vector-menu-content\">\\n\\t\\t\\n\\t\\t<ul class=\"vector-menu-content-list\"><li id=\"ca-view\" class=\"selected\"><a href=\"/wiki/Falcon_9\">Lesen</a></li><li id=\"ca-ve-edit\"><a href=\"/w/index.php?title=Falcon_9&amp;veaction=edit\" title=\"Diese Seite mit dem VisualEditor bearbeiten [v]\" accesskey=\"v\">Bearbeiten</a></li><li id=\"ca-edit\" class=\"collapsible\"><a href=\"/w/index.php?title=Falcon_9&amp;action=edit\" title=\"Diese Seite bearbeiten [e]\" accesskey=\"e\">Quelltext bearbeiten</a></li><li id=\"ca-history\"><a href=\"/w/index.php?title=Falcon_9&amp;action=history\" title=\"Fr\\xc3\\xbchere Versionen dieser Seite [h]\" accesskey=\"h\">Versionsgeschichte</a></li></ul>\\n\\t\\t\\n\\t</div>\\n</nav>\\n\\n\\t\\t\\t<nav id=\"p-cactions\" class=\"mw-portlet mw-portlet-cactions emptyPortlet vector-menu vector-menu-dropdown\" aria-labelledby=\"p-cactions-label\" role=\"navigation\" \\n\\t >\\n\\t<input type=\"checkbox\"\\n\\t\\tdata-event-name=\"ui.dropdown-p-cactions\"\\n\\t\\tclass=\"vector-menu-checkbox\" aria-labelledby=\"p-cactions-label\" />\\n\\t<h3 id=\"p-cactions-label\" class=\"vector-menu-heading\"><span>Weitere</span>\\n\\t</h3>\\n\\t<div class=\"vector-menu-content\">\\n\\t\\t\\n\\t\\t<ul class=\"vector-menu-content-list\"></ul>\\n\\t\\t\\n\\t</div>\\n</nav>\\n\\n\\t\\t\\t<div id=\"p-search\" role=\"search\" class=\"vector-search-box\">\\n\\t<div>\\n\\t\\t<h3 >\\n\\t\\t\\t<label for=\"searchInput\">Suche</label>\\n\\t\\t</h3>\\n\\t\\t<form action=\"/w/index.php\" id=\"searchform\">\\n\\t\\t\\t<div id=\"simpleSearch\" data-search-loc=\"header-navigation\">\\n\\t\\t\\t\\t<input type=\"search\" name=\"search\" placeholder=\"Wikipedia durchsuchen\" autocapitalize=\"sentences\" title=\"Durchsuche die Wikipedia [f]\" accesskey=\"f\" id=\"searchInput\"/>\\n\\t\\t\\t\\t<input type=\"hidden\" name=\"title\" value=\"Spezial:Suche\"/>\\n\\t\\t\\t\\t<input type=\"submit\" name=\"fulltext\" value=\"Suchen\" title=\"Suche nach Seiten, die diesen Text enthalten\" id=\"mw-searchButton\" class=\"searchButton mw-fallbackSearchButton\"/>\\n\\t\\t\\t\\t<input type=\"submit\" name=\"go\" value=\"Artikel\" title=\"Gehe direkt zu der Seite mit genau diesem Namen, falls sie vorhanden ist.\" id=\"searchButton\" class=\"searchButton\"/>\\n\\t\\t\\t</div>\\n\\t\\t</form>\\n\\t</div>\\n</div>\\n\\n\\t\\t</div>\\n\\t</div>\\n\\t\\n<div id=\"mw-panel\">\\n\\t<div id=\"p-logo\" role=\"banner\">\\n\\t\\t<a class=\"mw-wiki-logo\" href=\"/wiki/Wikipedia:Hauptseite\"\\n\\t\\t\\ttitle=\"Hauptseite\"></a>\\n\\t</div>\\n\\t<nav id=\"p-navigation\" class=\"mw-portlet mw-portlet-navigation vector-menu vector-menu-portal portal\" aria-labelledby=\"p-navigation-label\" role=\"navigation\" \\n\\t >\\n\\t<h3 id=\"p-navigation-label\" class=\"vector-menu-heading\"><span>Navigation</span>\\n\\t</h3>\\n\\t<div class=\"vector-menu-content\">\\n\\t\\t\\n\\t\\t<ul class=\"vector-menu-content-list\"><li id=\"n-mainpage-description\"><a href=\"/wiki/Wikipedia:Hauptseite\" title=\"Hauptseite besuchen [z]\" accesskey=\"z\">Hauptseite</a></li><li id=\"n-topics\"><a href=\"/wiki/Portal:Wikipedia_nach_Themen\">Themenportale</a></li><li id=\"n-randompage\"><a href=\"/wiki/Spezial:Zuf%C3%A4llige_Seite\" title=\"Zuf\\xc3\\xa4llige Seite aufrufen [x]\" accesskey=\"x\">Zuf\\xc3\\xa4lliger Artikel</a></li></ul>\\n\\t\\t\\n\\t</div>\\n</nav>\\n\\n\\t<nav id=\"p-Mitmachen\" class=\"mw-portlet mw-portlet-Mitmachen vector-menu vector-menu-portal portal\" aria-labelledby=\"p-Mitmachen-label\" role=\"navigation\" \\n\\t >\\n\\t<h3 id=\"p-Mitmachen-label\" class=\"vector-menu-heading\"><span>Mitmachen</span>\\n\\t</h3>\\n\\t<div class=\"vector-menu-content\">\\n\\t\\t\\n\\t\\t<ul class=\"vector-menu-content-list\"><li id=\"n-Artikel-verbessern\"><a href=\"/wiki/Wikipedia:Beteiligen\">Artikel verbessern</a></li><li id=\"n-Neuerartikel\"><a href=\"/wiki/Hilfe:Neuen_Artikel_anlegen\">Neuen Artikel anlegen</a></li><li id=\"n-portal\"><a href=\"/wiki/Wikipedia:Autorenportal\" title=\"Info-Zentrum \\xc3\\xbcber Beteiligungsm\\xc3\\xb6glichkeiten\">Autorenportal</a></li><li id=\"n-help\"><a href=\"/wiki/Hilfe:%C3%9Cbersicht\" title=\"\\xc3\\x9cbersicht \\xc3\\xbcber Hilfeseiten\">Hilfe</a></li><li id=\"n-recentchanges\"><a href=\"/wiki/Spezial:Letzte_%C3%84nderungen\" title=\"Liste der letzten \\xc3\\x84nderungen in Wikipedia [r]\" accesskey=\"r\">Letzte \\xc3\\x84nderungen</a></li><li id=\"n-contact\"><a href=\"/wiki/Wikipedia:Kontakt\" title=\"Kontaktm\\xc3\\xb6glichkeiten\">Kontakt</a></li><li id=\"n-sitesupport\"><a href=\"//donate.wikimedia.org/wiki/Special:FundraiserRedirector?utm_source=donate&amp;utm_medium=sidebar&amp;utm_campaign=C13_de.wikipedia.org&amp;uselang=de\" title=\"Unterst\\xc3\\xbctze uns\">Spenden</a></li></ul>\\n\\t\\t\\n\\t</div>\\n</nav>\\n<nav id=\"p-tb\" class=\"mw-portlet mw-portlet-tb vector-menu vector-menu-portal portal\" aria-labelledby=\"p-tb-label\" role=\"navigation\" \\n\\t >\\n\\t<h3 id=\"p-tb-label\" class=\"vector-menu-heading\"><span>Werkzeuge</span>\\n\\t</h3>\\n\\t<div class=\"vector-menu-content\">\\n\\t\\t\\n\\t\\t<ul class=\"vector-menu-content-list\"><li id=\"t-whatlinkshere\"><a href=\"/wiki/Spezial:Linkliste/Falcon_9\" title=\"Liste aller Seiten, die hierher verlinken [j]\" accesskey=\"j\">Links auf diese Seite</a></li><li id=\"t-recentchangeslinked\"><a href=\"/wiki/Spezial:%C3%84nderungen_an_verlinkten_Seiten/Falcon_9\" rel=\"nofollow\" title=\"Letzte \\xc3\\x84nderungen an Seiten, die von hier verlinkt sind [k]\" accesskey=\"k\">\\xc3\\x84nderungen an verlinkten Seiten</a></li><li id=\"t-specialpages\"><a href=\"/wiki/Spezial:Spezialseiten\" title=\"Liste aller Spezialseiten [q]\" accesskey=\"q\">Spezialseiten</a></li><li id=\"t-permalink\"><a href=\"/w/index.php?title=Falcon_9&amp;oldid=215096791\" title=\"Dauerhafter Link zu dieser Seitenversion\">Permanenter Link</a></li><li id=\"t-info\"><a href=\"/w/index.php?title=Falcon_9&amp;action=info\" title=\"Weitere Informationen \\xc3\\xbcber diese Seite\">Seiten\\xc2\\xadinformationen</a></li><li id=\"t-cite\"><a href=\"/w/index.php?title=Spezial:Zitierhilfe&amp;page=Falcon_9&amp;id=215096791&amp;wpFormIdentifier=titleform\" title=\"Hinweise, wie diese Seite zitiert werden kann\">Artikel zitieren</a></li><li id=\"t-wikibase\"><a href=\"https://www.wikidata.org/wiki/Special:EntityPage/Q249091\" title=\"Link zum verbundenen Objekt im Datenrepositorium [g]\" accesskey=\"g\">Wikidata-Datenobjekt</a></li></ul>\\n\\t\\t\\n\\t</div>\\n</nav>\\n<nav id=\"p-coll-print_export\" class=\"mw-portlet mw-portlet-coll-print_export vector-menu vector-menu-portal portal\" aria-labelledby=\"p-coll-print_export-label\" role=\"navigation\" \\n\\t >\\n\\t<h3 id=\"p-coll-print_export-label\" class=\"vector-menu-heading\"><span>Drucken/\\xc2\\xadexportieren</span>\\n\\t</h3>\\n\\t<div class=\"vector-menu-content\">\\n\\t\\t\\n\\t\\t<ul class=\"vector-menu-content-list\"><li id=\"coll-create_a_book\"><a href=\"/w/index.php?title=Spezial:Buch&amp;bookcmd=book_creator&amp;referer=Falcon+9\">Buch erstellen</a></li><li id=\"coll-download-as-rl\"><a href=\"/w/index.php?title=Spezial:DownloadAsPdf&amp;page=Falcon_9&amp;action=show-download-screen\">Als PDF herunterladen</a></li><li id=\"t-print\"><a href=\"/w/index.php?title=Falcon_9&amp;printable=yes\" title=\"Druckansicht dieser Seite [p]\" accesskey=\"p\">Druckversion</a></li></ul>\\n\\t\\t\\n\\t</div>\\n</nav>\\n<nav id=\"p-wikibase-otherprojects\" class=\"mw-portlet mw-portlet-wikibase-otherprojects vector-menu vector-menu-portal portal\" aria-labelledby=\"p-wikibase-otherprojects-label\" role=\"navigation\" \\n\\t >\\n\\t<h3 id=\"p-wikibase-otherprojects-label\" class=\"vector-menu-heading\"><span>In anderen Projekten</span>\\n\\t</h3>\\n\\t<div class=\"vector-menu-content\">\\n\\t\\t\\n\\t\\t<ul class=\"vector-menu-content-list\"><li class=\"wb-otherproject-link wb-otherproject-commons\"><a href=\"https://commons.wikimedia.org/wiki/Category:Falcon_9\" hreflang=\"en\">Commons</a></li></ul>\\n\\t\\t\\n\\t</div>\\n</nav>\\n\\n\\t<nav id=\"p-lang\" class=\"mw-portlet mw-portlet-lang vector-menu vector-menu-portal portal\" aria-labelledby=\"p-lang-label\" role=\"navigation\" \\n\\t >\\n\\t<h3 id=\"p-lang-label\" class=\"vector-menu-heading\"><span>In anderen Sprachen</span>\\n\\t</h3>\\n\\t<div class=\"vector-menu-content\">\\n\\t\\t\\n\\t\\t<ul class=\"vector-menu-content-list\"><li class=\"interlanguage-link interwiki-an\"><a href=\"https://an.wikipedia.org/wiki/Falcon_9\" title=\"Falcon 9 \\xe2\\x80\\x93 Aragonesisch\" lang=\"an\" hreflang=\"an\" class=\"interlanguage-link-target\">Aragon\\xc3\\xa9s</a></li><li class=\"interlanguage-link interwiki-ar\"><a href=\"https://ar.wikipedia.org/wiki/%D9%81%D8%A7%D9%84%D9%83%D9%88%D9%86_9\" title=\"\\xd9\\x81\\xd8\\xa7\\xd9\\x84\\xd9\\x83\\xd9\\x88\\xd9\\x86 9 \\xe2\\x80\\x93 Arabisch\" lang=\"ar\" hreflang=\"ar\" class=\"interlanguage-link-target\">\\xd8\\xa7\\xd9\\x84\\xd8\\xb9\\xd8\\xb1\\xd8\\xa8\\xd9\\x8a\\xd8\\xa9</a></li><li class=\"interlanguage-link interwiki-azb\"><a href=\"https://azb.wikipedia.org/wiki/%D9%81%D8%A7%D9%84%DA%A9%D9%88%D9%86_%DB%B9\" title=\"\\xd9\\x81\\xd8\\xa7\\xd9\\x84\\xda\\xa9\\xd9\\x88\\xd9\\x86 \\xdb\\xb9 \\xe2\\x80\\x93 S\\xc3\\xbcdaserbaidschanisch\" lang=\"azb\" hreflang=\"azb\" class=\"interlanguage-link-target\">\\xd8\\xaa\\xdb\\x86\\xd8\\xb1\\xda\\xa9\\xd8\\xac\\xd9\\x87</a></li><li class=\"interlanguage-link interwiki-be\"><a href=\"https://be.wikipedia.org/wiki/Falcon_9\" title=\"Falcon 9 \\xe2\\x80\\x93 Belarussisch\" lang=\"be\" hreflang=\"be\" class=\"interlanguage-link-target\">\\xd0\\x91\\xd0\\xb5\\xd0\\xbb\\xd0\\xb0\\xd1\\x80\\xd1\\x83\\xd1\\x81\\xd0\\xba\\xd0\\xb0\\xd1\\x8f</a></li><li class=\"interlanguage-link interwiki-bg\"><a href=\"https://bg.wikipedia.org/wiki/%D0%A4%D0%B0%D0%BB%D0%BA%D1%8A%D0%BD-9\" title=\"\\xd0\\xa4\\xd0\\xb0\\xd0\\xbb\\xd0\\xba\\xd1\\x8a\\xd0\\xbd-9 \\xe2\\x80\\x93 Bulgarisch\" lang=\"bg\" hreflang=\"bg\" class=\"interlanguage-link-target\">\\xd0\\x91\\xd1\\x8a\\xd0\\xbb\\xd0\\xb3\\xd0\\xb0\\xd1\\x80\\xd1\\x81\\xd0\\xba\\xd0\\xb8</a></li><li class=\"interlanguage-link interwiki-bn\"><a href=\"https://bn.wikipedia.org/wiki/%E0%A6%AB%E0%A7%8D%E0%A6%AF%E0%A6%BE%E0%A6%B2%E0%A6%95%E0%A6%A8_%E0%A7%AF\" title=\"\\xe0\\xa6\\xab\\xe0\\xa7\\x8d\\xe0\\xa6\\xaf\\xe0\\xa6\\xbe\\xe0\\xa6\\xb2\\xe0\\xa6\\x95\\xe0\\xa6\\xa8 \\xe0\\xa7\\xaf \\xe2\\x80\\x93 Bengalisch\" lang=\"bn\" hreflang=\"bn\" class=\"interlanguage-link-target\">\\xe0\\xa6\\xac\\xe0\\xa6\\xbe\\xe0\\xa6\\x82\\xe0\\xa6\\xb2\\xe0\\xa6\\xbe</a></li><li class=\"interlanguage-link interwiki-ca\"><a href=\"https://ca.wikipedia.org/wiki/Falcon_9\" title=\"Falcon 9 \\xe2\\x80\\x93 Katalanisch\" lang=\"ca\" hreflang=\"ca\" class=\"interlanguage-link-target\">Catal\\xc3\\xa0</a></li><li class=\"interlanguage-link interwiki-cs\"><a href=\"https://cs.wikipedia.org/wiki/Falcon_9\" title=\"Falcon 9 \\xe2\\x80\\x93 Tschechisch\" lang=\"cs\" hreflang=\"cs\" class=\"interlanguage-link-target\">\\xc4\\x8ce\\xc5\\xa1tina</a></li><li class=\"interlanguage-link interwiki-da\"><a href=\"https://da.wikipedia.org/wiki/Falcon_9\" title=\"Falcon 9 \\xe2\\x80\\x93 D\\xc3\\xa4nisch\" lang=\"da\" hreflang=\"da\" class=\"interlanguage-link-target\">Dansk</a></li><li class=\"interlanguage-link interwiki-el\"><a href=\"https://el.wikipedia.org/wiki/Falcon_9\" title=\"Falcon 9 \\xe2\\x80\\x93 Griechisch\" lang=\"el\" hreflang=\"el\" class=\"interlanguage-link-target\">\\xce\\x95\\xce\\xbb\\xce\\xbb\\xce\\xb7\\xce\\xbd\\xce\\xb9\\xce\\xba\\xce\\xac</a></li><li class=\"interlanguage-link interwiki-en\"><a href=\"https://en.wikipedia.org/wiki/Falcon_9\" title=\"Falcon 9 \\xe2\\x80\\x93 Englisch\" lang=\"en\" hreflang=\"en\" class=\"interlanguage-link-target\">English</a></li><li class=\"interlanguage-link interwiki-eo\"><a href=\"https://eo.wikipedia.org/wiki/Falcon_9\" title=\"Falcon 9 \\xe2\\x80\\x93 Esperanto\" lang=\"eo\" hreflang=\"eo\" class=\"interlanguage-link-target\">Esperanto</a></li><li class=\"interlanguage-link interwiki-es\"><a href=\"https://es.wikipedia.org/wiki/Falcon_9\" title=\"Falcon 9 \\xe2\\x80\\x93 Spanisch\" lang=\"es\" hreflang=\"es\" class=\"interlanguage-link-target\">Espa\\xc3\\xb1ol</a></li><li class=\"interlanguage-link interwiki-et\"><a href=\"https://et.wikipedia.org/wiki/Falcon_9\" title=\"Falcon 9 \\xe2\\x80\\x93 Estnisch\" lang=\"et\" hreflang=\"et\" class=\"interlanguage-link-target\">Eesti</a></li><li class=\"interlanguage-link interwiki-fa\"><a href=\"https://fa.wikipedia.org/wiki/%D9%81%D8%A7%D9%84%DA%A9%D9%86_%DB%B9\" title=\"\\xd9\\x81\\xd8\\xa7\\xd9\\x84\\xda\\xa9\\xd9\\x86 \\xdb\\xb9 \\xe2\\x80\\x93 Persisch\" lang=\"fa\" hreflang=\"fa\" class=\"interlanguage-link-target\">\\xd9\\x81\\xd8\\xa7\\xd8\\xb1\\xd8\\xb3\\xdb\\x8c</a></li><li class=\"interlanguage-link interwiki-fi\"><a href=\"https://fi.wikipedia.org/wiki/Falcon_9\" title=\"Falcon 9 \\xe2\\x80\\x93 Finnisch\" lang=\"fi\" hreflang=\"fi\" class=\"interlanguage-link-target\">Suomi</a></li><li class=\"interlanguage-link interwiki-fr\"><a href=\"https://fr.wikipedia.org/wiki/Falcon_9\" title=\"Falcon 9 \\xe2\\x80\\x93 Franz\\xc3\\xb6sisch\" lang=\"fr\" hreflang=\"fr\" class=\"interlanguage-link-target\">Fran\\xc3\\xa7ais</a></li><li class=\"interlanguage-link interwiki-gl\"><a href=\"https://gl.wikipedia.org/wiki/Falcon_9\" title=\"Falcon 9 \\xe2\\x80\\x93 Galicisch\" lang=\"gl\" hreflang=\"gl\" class=\"interlanguage-link-target\">Galego</a></li><li class=\"interlanguage-link interwiki-he\"><a href=\"https://he.wikipedia.org/wiki/%D7%A4%D7%90%D7%9C%D7%A7%D7%95%D7%9F_9\" title=\"\\xd7\\xa4\\xd7\\x90\\xd7\\x9c\\xd7\\xa7\\xd7\\x95\\xd7\\x9f 9 \\xe2\\x80\\x93 Hebr\\xc3\\xa4isch\" lang=\"he\" hreflang=\"he\" class=\"interlanguage-link-target\">\\xd7\\xa2\\xd7\\x91\\xd7\\xa8\\xd7\\x99\\xd7\\xaa</a></li><li class=\"interlanguage-link interwiki-hi\"><a href=\"https://hi.wikipedia.org/wiki/%E0%A4%B8%E0%A5%8D%E0%A4%AA%E0%A5%87%E0%A4%B8-_%E0%A4%8F%E0%A4%95%E0%A5%8D%E0%A4%B8_%E0%A4%AB%E0%A4%BE%E0%A4%B2%E0%A5%8D%E0%A4%95%E0%A4%A8_%E0%A5%AF\" title=\"\\xe0\\xa4\\xb8\\xe0\\xa5\\x8d\\xe0\\xa4\\xaa\\xe0\\xa5\\x87\\xe0\\xa4\\xb8- \\xe0\\xa4\\x8f\\xe0\\xa4\\x95\\xe0\\xa5\\x8d\\xe0\\xa4\\xb8 \\xe0\\xa4\\xab\\xe0\\xa4\\xbe\\xe0\\xa4\\xb2\\xe0\\xa5\\x8d\\xe0\\xa4\\x95\\xe0\\xa4\\xa8 \\xe0\\xa5\\xaf \\xe2\\x80\\x93 Hindi\" lang=\"hi\" hreflang=\"hi\" class=\"interlanguage-link-target\">\\xe0\\xa4\\xb9\\xe0\\xa4\\xbf\\xe0\\xa4\\xa8\\xe0\\xa5\\x8d\\xe0\\xa4\\xa6\\xe0\\xa5\\x80</a></li><li class=\"interlanguage-link interwiki-hr\"><a href=\"https://hr.wikipedia.org/wiki/Falcon_9\" title=\"Falcon 9 \\xe2\\x80\\x93 Kroatisch\" lang=\"hr\" hreflang=\"hr\" class=\"interlanguage-link-target\">Hrvatski</a></li><li class=\"interlanguage-link interwiki-hu\"><a href=\"https://hu.wikipedia.org/wiki/Falcon_9\" title=\"Falcon 9 \\xe2\\x80\\x93 Ungarisch\" lang=\"hu\" hreflang=\"hu\" class=\"interlanguage-link-target\">Magyar</a></li><li class=\"interlanguage-link interwiki-id\"><a href=\"https://id.wikipedia.org/wiki/Falcon_9\" title=\"Falcon 9 \\xe2\\x80\\x93 Indonesisch\" lang=\"id\" hreflang=\"id\" class=\"interlanguage-link-target\">Bahasa Indonesia</a></li><li class=\"interlanguage-link interwiki-it\"><a href=\"https://it.wikipedia.org/wiki/Falcon_9\" title=\"Falcon 9 \\xe2\\x80\\x93 Italienisch\" lang=\"it\" hreflang=\"it\" class=\"interlanguage-link-target\">Italiano</a></li><li class=\"interlanguage-link interwiki-ja\"><a href=\"https://ja.wikipedia.org/wiki/%E3%83%95%E3%82%A1%E3%83%AB%E3%82%B3%E3%83%B39\" title=\"\\xe3\\x83\\x95\\xe3\\x82\\xa1\\xe3\\x83\\xab\\xe3\\x82\\xb3\\xe3\\x83\\xb39 \\xe2\\x80\\x93 Japanisch\" lang=\"ja\" hreflang=\"ja\" class=\"interlanguage-link-target\">\\xe6\\x97\\xa5\\xe6\\x9c\\xac\\xe8\\xaa\\x9e</a></li><li class=\"interlanguage-link interwiki-ko\"><a href=\"https://ko.wikipedia.org/wiki/%ED%8C%B0%EC%BB%A8_9\" title=\"\\xed\\x8c\\xb0\\xec\\xbb\\xa8 9 \\xe2\\x80\\x93 Koreanisch\" lang=\"ko\" hreflang=\"ko\" class=\"interlanguage-link-target\">\\xed\\x95\\x9c\\xea\\xb5\\xad\\xec\\x96\\xb4</a></li><li class=\"interlanguage-link interwiki-lb\"><a href=\"https://lb.wikipedia.org/wiki/Falcon_9\" title=\"Falcon 9 \\xe2\\x80\\x93 Luxemburgisch\" lang=\"lb\" hreflang=\"lb\" class=\"interlanguage-link-target\">L\\xc3\\xabtzebuergesch</a></li><li class=\"interlanguage-link interwiki-lt\"><a href=\"https://lt.wikipedia.org/wiki/Falcon_9\" title=\"Falcon 9 \\xe2\\x80\\x93 Litauisch\" lang=\"lt\" hreflang=\"lt\" class=\"interlanguage-link-target\">Lietuvi\\xc5\\xb3</a></li><li class=\"interlanguage-link interwiki-ml\"><a href=\"https://ml.wikipedia.org/wiki/%E0%B4%AB%E0%B4%BE%E0%B5%BD%E0%B4%95%E0%B5%8D%E0%B4%95%E0%B5%BA_9\" title=\"\\xe0\\xb4\\xab\\xe0\\xb4\\xbe\\xe0\\xb5\\xbd\\xe0\\xb4\\x95\\xe0\\xb5\\x8d\\xe0\\xb4\\x95\\xe0\\xb5\\xba 9 \\xe2\\x80\\x93 Malayalam\" lang=\"ml\" hreflang=\"ml\" class=\"interlanguage-link-target\">\\xe0\\xb4\\xae\\xe0\\xb4\\xb2\\xe0\\xb4\\xaf\\xe0\\xb4\\xbe\\xe0\\xb4\\xb3\\xe0\\xb4\\x82</a></li><li class=\"interlanguage-link interwiki-ms\"><a href=\"https://ms.wikipedia.org/wiki/Falcon_9\" title=\"Falcon 9 \\xe2\\x80\\x93 Malaiisch\" lang=\"ms\" hreflang=\"ms\" class=\"interlanguage-link-target\">Bahasa Melayu</a></li><li class=\"interlanguage-link interwiki-nl\"><a href=\"https://nl.wikipedia.org/wiki/Falcon_9\" title=\"Falcon 9 \\xe2\\x80\\x93 Niederl\\xc3\\xa4ndisch\" lang=\"nl\" hreflang=\"nl\" class=\"interlanguage-link-target\">Nederlands</a></li><li class=\"interlanguage-link interwiki-nn\"><a href=\"https://nn.wikipedia.org/wiki/Falcon_9\" title=\"Falcon 9 \\xe2\\x80\\x93 Norwegisch (Nynorsk)\" lang=\"nn\" hreflang=\"nn\" class=\"interlanguage-link-target\">Norsk nynorsk</a></li><li class=\"interlanguage-link interwiki-no\"><a href=\"https://no.wikipedia.org/wiki/Falcon_9\" title=\"Falcon 9 \\xe2\\x80\\x93 Norwegisch (Bokm\\xc3\\xa5l)\" lang=\"nb\" hreflang=\"nb\" class=\"interlanguage-link-target\">Norsk bokm\\xc3\\xa5l</a></li><li class=\"interlanguage-link interwiki-oc\"><a href=\"https://oc.wikipedia.org/wiki/Falcon_9\" title=\"Falcon 9 \\xe2\\x80\\x93 Okzitanisch\" lang=\"oc\" hreflang=\"oc\" class=\"interlanguage-link-target\">Occitan</a></li><li class=\"interlanguage-link interwiki-pl\"><a href=\"https://pl.wikipedia.org/wiki/Falcon_9\" title=\"Falcon 9 \\xe2\\x80\\x93 Polnisch\" lang=\"pl\" hreflang=\"pl\" class=\"interlanguage-link-target\">Polski</a></li><li class=\"interlanguage-link interwiki-pnb\"><a href=\"https://pnb.wikipedia.org/wiki/%D9%81%D8%A7%D9%84%DA%A9%D9%86_9\" title=\"\\xd9\\x81\\xd8\\xa7\\xd9\\x84\\xda\\xa9\\xd9\\x86 9 \\xe2\\x80\\x93 Westliches Panjabi\" lang=\"pnb\" hreflang=\"pnb\" class=\"interlanguage-link-target\">\\xd9\\xbe\\xd9\\x86\\xd8\\xac\\xd8\\xa7\\xd8\\xa8\\xdb\\x8c</a></li><li class=\"interlanguage-link interwiki-pt\"><a href=\"https://pt.wikipedia.org/wiki/Falcon_9\" title=\"Falcon 9 \\xe2\\x80\\x93 Portugiesisch\" lang=\"pt\" hreflang=\"pt\" class=\"interlanguage-link-target\">Portugu\\xc3\\xaas</a></li><li class=\"interlanguage-link interwiki-ro\"><a href=\"https://ro.wikipedia.org/wiki/Falcon_9\" title=\"Falcon 9 \\xe2\\x80\\x93 Rum\\xc3\\xa4nisch\" lang=\"ro\" hreflang=\"ro\" class=\"interlanguage-link-target\">Rom\\xc3\\xa2n\\xc4\\x83</a></li><li class=\"interlanguage-link interwiki-ru\"><a href=\"https://ru.wikipedia.org/wiki/Falcon_9\" title=\"Falcon 9 \\xe2\\x80\\x93 Russisch\" lang=\"ru\" hreflang=\"ru\" class=\"interlanguage-link-target\">\\xd0\\xa0\\xd1\\x83\\xd1\\x81\\xd1\\x81\\xd0\\xba\\xd0\\xb8\\xd0\\xb9</a></li><li class=\"interlanguage-link interwiki-sh\"><a href=\"https://sh.wikipedia.org/wiki/Falcon_9\" title=\"Falcon 9 \\xe2\\x80\\x93 Serbokroatisch\" lang=\"sh\" hreflang=\"sh\" class=\"interlanguage-link-target\">Srpskohrvatski / \\xd1\\x81\\xd1\\x80\\xd0\\xbf\\xd1\\x81\\xd0\\xba\\xd0\\xbe\\xd1\\x85\\xd1\\x80\\xd0\\xb2\\xd0\\xb0\\xd1\\x82\\xd1\\x81\\xd0\\xba\\xd0\\xb8</a></li><li class=\"interlanguage-link interwiki-simple\"><a href=\"https://simple.wikipedia.org/wiki/Falcon_9\" title=\"Falcon 9 \\xe2\\x80\\x93 einfaches Englisch\" lang=\"en-simple\" hreflang=\"en-simple\" class=\"interlanguage-link-target\">Simple English</a></li><li class=\"interlanguage-link interwiki-sk\"><a href=\"https://sk.wikipedia.org/wiki/Falcon_9\" title=\"Falcon 9 \\xe2\\x80\\x93 Slowakisch\" lang=\"sk\" hreflang=\"sk\" class=\"interlanguage-link-target\">Sloven\\xc4\\x8dina</a></li><li class=\"interlanguage-link interwiki-sr\"><a href=\"https://sr.wikipedia.org/wiki/%D0%A4%D0%B0%D0%BB%D0%BA%D0%BE%D0%BD_9\" title=\"\\xd0\\xa4\\xd0\\xb0\\xd0\\xbb\\xd0\\xba\\xd0\\xbe\\xd0\\xbd 9 \\xe2\\x80\\x93 Serbisch\" lang=\"sr\" hreflang=\"sr\" class=\"interlanguage-link-target\">\\xd0\\xa1\\xd1\\x80\\xd0\\xbf\\xd1\\x81\\xd0\\xba\\xd0\\xb8 / srpski</a></li><li class=\"interlanguage-link interwiki-sv\"><a href=\"https://sv.wikipedia.org/wiki/Falcon_9\" title=\"Falcon 9 \\xe2\\x80\\x93 Schwedisch\" lang=\"sv\" hreflang=\"sv\" class=\"interlanguage-link-target\">Svenska</a></li><li class=\"interlanguage-link interwiki-ta\"><a href=\"https://ta.wikipedia.org/wiki/%E0%AE%AA%E0%AE%BE%E0%AE%B2%E0%AF%8D%E0%AE%95%E0%AE%A9%E0%AF%8D_9\" title=\"\\xe0\\xae\\xaa\\xe0\\xae\\xbe\\xe0\\xae\\xb2\\xe0\\xaf\\x8d\\xe0\\xae\\x95\\xe0\\xae\\xa9\\xe0\\xaf\\x8d 9 \\xe2\\x80\\x93 Tamil\" lang=\"ta\" hreflang=\"ta\" class=\"interlanguage-link-target\">\\xe0\\xae\\xa4\\xe0\\xae\\xae\\xe0\\xae\\xbf\\xe0\\xae\\xb4\\xe0\\xaf\\x8d</a></li><li class=\"interlanguage-link interwiki-th\"><a href=\"https://th.wikipedia.org/wiki/%E0%B8%9F%E0%B8%B1%E0%B8%A5%E0%B8%84%E0%B8%AD%E0%B8%99_9\" title=\"\\xe0\\xb8\\x9f\\xe0\\xb8\\xb1\\xe0\\xb8\\xa5\\xe0\\xb8\\x84\\xe0\\xb8\\xad\\xe0\\xb8\\x99 9 \\xe2\\x80\\x93 Thail\\xc3\\xa4ndisch\" lang=\"th\" hreflang=\"th\" class=\"interlanguage-link-target\">\\xe0\\xb9\\x84\\xe0\\xb8\\x97\\xe0\\xb8\\xa2</a></li><li class=\"interlanguage-link interwiki-tl\"><a href=\"https://tl.wikipedia.org/wiki/Falcon_9\" title=\"Falcon 9 \\xe2\\x80\\x93 Tagalog\" lang=\"tl\" hreflang=\"tl\" class=\"interlanguage-link-target\">Tagalog</a></li><li class=\"interlanguage-link interwiki-tr\"><a href=\"https://tr.wikipedia.org/wiki/Falcon_9\" title=\"Falcon 9 \\xe2\\x80\\x93 T\\xc3\\xbcrkisch\" lang=\"tr\" hreflang=\"tr\" class=\"interlanguage-link-target\">T\\xc3\\xbcrk\\xc3\\xa7e</a></li><li class=\"interlanguage-link interwiki-uk\"><a href=\"https://uk.wikipedia.org/wiki/Falcon_9\" title=\"Falcon 9 \\xe2\\x80\\x93 Ukrainisch\" lang=\"uk\" hreflang=\"uk\" class=\"interlanguage-link-target\">\\xd0\\xa3\\xd0\\xba\\xd1\\x80\\xd0\\xb0\\xd1\\x97\\xd0\\xbd\\xd1\\x81\\xd1\\x8c\\xd0\\xba\\xd0\\xb0</a></li><li class=\"interlanguage-link interwiki-vi\"><a href=\"https://vi.wikipedia.org/wiki/Falcon_9\" title=\"Falcon 9 \\xe2\\x80\\x93 Vietnamesisch\" lang=\"vi\" hreflang=\"vi\" class=\"interlanguage-link-target\">Ti\\xe1\\xba\\xbfng Vi\\xe1\\xbb\\x87t</a></li><li class=\"interlanguage-link interwiki-zh\"><a href=\"https://zh.wikipedia.org/wiki/%E7%8D%B5%E9%B7%B99%E8%99%9F%E9%81%8B%E8%BC%89%E7%81%AB%E7%AE%AD\" title=\"\\xe7\\x8d\\xb5\\xe9\\xb7\\xb99\\xe8\\x99\\x9f\\xe9\\x81\\x8b\\xe8\\xbc\\x89\\xe7\\x81\\xab\\xe7\\xae\\xad \\xe2\\x80\\x93 Chinesisch\" lang=\"zh\" hreflang=\"zh\" class=\"interlanguage-link-target\">\\xe4\\xb8\\xad\\xe6\\x96\\x87</a></li><li class=\"interlanguage-link interwiki-zh-min-nan\"><a href=\"https://zh-min-nan.wikipedia.org/wiki/Falcon_9\" title=\"Falcon 9 \\xe2\\x80\\x93 Chinesisch (Min Nan)\" lang=\"nan\" hreflang=\"nan\" class=\"interlanguage-link-target\">B\\xc3\\xa2n-l\\xc3\\xa2m-g\\xc3\\xba</a></li></ul>\\n\\t\\t<div class=\"after-portlet after-portlet-lang\"><span class=\"wb-langlinks-edit wb-langlinks-link\"><a href=\"https://www.wikidata.org/wiki/Special:EntityPage/Q249091#sitelinks-wikipedia\" title=\"Links auf Artikel in anderen Sprachen bearbeiten\" class=\"wbc-editpage\">Links bearbeiten</a></span></div>\\n\\t</div>\\n</nav>\\n\\n</div>\\n\\n</div>\\n<footer id=\"footer\" class=\"mw-footer\" role=\"contentinfo\" >\\n\\t<ul id=\"footer-info\" >\\n\\t<li id=\"footer-info-lastmod\"> Diese Seite wurde zuletzt am 27. August 2021 um 15:13 Uhr bearbeitet.</li>\\n\\t<li id=\"footer-info-copyright\"><div id=\"footer-info-copyright-stats\" class=\"noprint\"><a class=\"external\" href=\"https://pageviews.toolforge.org/?pages=Falcon_9&amp;project=de.wikipedia.org\" rel=\"nofollow\">Abrufstatistik</a>\\xc2\\xa0\\xc2\\xb7 <a class=\"external\" href=\" https://xtools.wmflabs.org/articleinfo-authorship/de.wikipedia.org/Falcon_9?uselang=de\" rel=\"nofollow\">Autoren</a> </div><div id=\"footer-info-copyright-separator\"><br /></div><div id=\"footer-info-copyright-info\">\\nDer Text ist unter der Lizenz <a class=\"internal\" href=\"https://de.wikipedia.org/wiki/Wikipedia:Lizenzbestimmungen_Commons_Attribution-ShareAlike_3.0_Unported\">\\xe2\\x80\\x9eCreative Commons Attribution/Share Alike\\xe2\\x80\\x9c</a> verf\\xc3\\xbcgbar; Informationen zu den Urhebern und zum Lizenzstatus eingebundener Mediendateien (etwa Bilder oder Videos) k\\xc3\\xb6nnen im Regelfall durch Anklicken dieser abgerufen werden. M\\xc3\\xb6glicherweise unterliegen die Inhalte jeweils zus\\xc3\\xa4tzlichen Bedingungen. Durch die Nutzung dieser Website erkl\\xc3\\xa4ren Sie sich mit den <a class=\"internal\" href=\"https://foundation.wikimedia.org/wiki/Terms_of_Use/de\">Nutzungsbedingungen</a> und der <a class=\"internal\" href=\"https://meta.wikimedia.org/wiki/Privacy_policy/de\">Datenschutzrichtlinie</a> einverstanden.<br />\\nWikipedia\\xc2\\xae ist eine eingetragene Marke der Wikimedia Foundation Inc.</div></li>\\n</ul>\\n\\n\\t<ul id=\"footer-places\" >\\n\\t<li id=\"footer-places-privacy\"><a href=\"https://meta.wikimedia.org/wiki/Privacy_policy/de\" class=\"extiw\" title=\"m:Privacy policy/de\">Datenschutz</a></li>\\n\\t<li id=\"footer-places-about\"><a href=\"/wiki/Wikipedia:%C3%9Cber_Wikipedia\" title=\"Wikipedia:\\xc3\\x9cber Wikipedia\">\\xc3\\x9cber Wikipedia</a></li>\\n\\t<li id=\"footer-places-disclaimer\"><a href=\"/wiki/Wikipedia:Impressum\" title=\"Wikipedia:Impressum\">Impressum</a></li>\\n\\t<li id=\"footer-places-mobileview\"><a href=\"//de.m.wikipedia.org/w/index.php?title=Falcon_9&amp;mobileaction=toggle_view_mobile\" class=\"noprint stopMobileRedirectToggle\">Mobile Ansicht</a></li>\\n\\t<li id=\"footer-places-developers\"><a href=\"https://www.mediawiki.org/wiki/Special:MyLanguage/How_to_contribute\">Entwickler</a></li>\\n\\t<li id=\"footer-places-statslink\"><a href=\"https://stats.wikimedia.org/#/de.wikipedia.org\">Statistiken</a></li>\\n\\t<li id=\"footer-places-cookiestatement\"><a href=\"https://foundation.wikimedia.org/wiki/Cookie_statement\">Stellungnahme zu Cookies</a></li>\\n</ul>\\n\\n\\t<ul id=\"footer-icons\" class=\"noprint\">\\n\\t<li id=\"footer-copyrightico\"><a href=\"https://wikimediafoundation.org/\"><img src=\"/static/images/footer/wikimedia-button.png\" srcset=\"/static/images/footer/wikimedia-button-1.5x.png 1.5x, /static/images/footer/wikimedia-button-2x.png 2x\" width=\"88\" height=\"31\" alt=\"Wikimedia Foundation\" loading=\"lazy\" /></a></li>\\n\\t<li id=\"footer-poweredbyico\"><a href=\"https://www.mediawiki.org/\"><img src=\"/static/images/footer/poweredby_mediawiki_88x31.png\" alt=\"Powered by MediaWiki\" srcset=\"/static/images/footer/poweredby_mediawiki_132x47.png 1.5x, /static/images/footer/poweredby_mediawiki_176x62.png 2x\" width=\"88\" height=\"31\" loading=\"lazy\"/></a></li>\\n</ul>\\n\\n</footer>\\n\\n\\n<script>(RLQ=window.RLQ||[]).push(function(){mw.config.set({\"wgPageParseReport\":{\"limitreport\":{\"cputime\":\"1.403\",\"walltime\":\"1.527\",\"ppvisitednodes\":{\"value\":19154,\"limit\":1000000},\"postexpandincludesize\":{\"value\":193965,\"limit\":2097152},\"templateargumentsize\":{\"value\":91568,\"limit\":2097152},\"expansiondepth\":{\"value\":19,\"limit\":40},\"expensivefunctioncount\":{\"value\":4,\"limit\":500},\"unstrip-depth\":{\"value\":0,\"limit\":20},\"unstrip-size\":{\"value\":83272,\"limit\":5000000},\"entityaccesscount\":{\"value\":1,\"limit\":400},\"timingprofile\":[\"100.00% 1380.532      1 -total\",\" 70.18%  968.826     55 Vorlage:Internetquelle\",\"  8.57%  118.348      7 Vorlage:Cite_web\",\"  7.75%  106.977     55 Vorlage:Str_len\",\"  6.84%   94.379     20 Vorlage:FormatDate\",\"  5.96%   82.313      1 Vorlage:Navigationsleiste_US-amerikanische_Raketen\",\"  5.72%   78.963      1 Vorlage:Erweiterte_Navigationsleiste\",\"  4.09%   56.484     10 Vorlage:Str_match\",\"  2.41%   33.313      1 Vorlage:NavFrame\",\"  2.37%   32.781      3 Vorlage:Literatur\"]},\"scribunto\":{\"limitreport-timeusage\":{\"value\":\"0.727\",\"limit\":\"10.000\"},\"limitreport-memusage\":{\"value\":6614209,\"limit\":52428800}},\"cachereport\":{\"origin\":\"mw2313\",\"timestamp\":\"20210830100407\",\"ttl\":1814400,\"transientcontent\":false}}});});</script>\\n<script type=\"application/ld+json\">{\"@context\":\"https:\\\\/\\\\/schema.org\",\"@type\":\"Article\",\"name\":\"Falcon 9\",\"url\":\"https:\\\\/\\\\/de.wikipedia.org\\\\/wiki\\\\/Falcon_9\",\"sameAs\":\"http:\\\\/\\\\/www.wikidata.org\\\\/entity\\\\/Q249091\",\"mainEntity\":\"http:\\\\/\\\\/www.wikidata.org\\\\/entity\\\\/Q249091\",\"author\":{\"@type\":\"Organization\",\"name\":\"Autoren der Wikimedia-Projekte\"},\"publisher\":{\"@type\":\"Organization\",\"name\":\"Wikimedia Foundation, Inc.\",\"logo\":{\"@type\":\"ImageObject\",\"url\":\"https:\\\\/\\\\/www.wikimedia.org\\\\/static\\\\/images\\\\/wmf-hor-googpub.png\"}},\"datePublished\":\"2005-01-25T19:59:03Z\",\"image\":\"https:\\\\/\\\\/upload.wikimedia.org\\\\/wikipedia\\\\/commons\\\\/d\\\\/df\\\\/Iridium-1_Launch_%2832312419215%29.jpg\",\"headline\":\"Bezeichnung einer Familie von US-amerikanischen Tr\\\\u00e4gerraketen\"}</script>\\n<script>(RLQ=window.RLQ||[]).push(function(){mw.config.set({\"wgBackendResponseTime\":153,\"wgHostname\":\"mw2333\"});});</script>\\n</body></html>'"
      ]
     },
     "execution_count": 33,
     "metadata": {},
     "output_type": "execute_result"
    }
   ],
   "source": [
    "soup=requests.get('https://de.wikipedia.org/wiki/Falcon_9')\n",
    "soup.content"
   ]
  },
  {
   "cell_type": "markdown",
   "metadata": {},
   "source": [
    "## Authors\n"
   ]
  },
  {
   "cell_type": "markdown",
   "metadata": {},
   "source": [
    "<a href=\"https://www.linkedin.com/in/joseph-s-50398b136/?utm_medium=Exinfluencer&utm_source=Exinfluencer&utm_content=000026UJ&utm_term=10006555&utm_id=NA-SkillsNetwork-Channel-SkillsNetworkCoursesIBMDS0321ENSkillsNetwork26802033-2021-01-01\">Joseph Santarcangelo</a> has a PhD in Electrical Engineering, his research focused on using machine learning, signal processing, and computer vision to determine how videos impact human cognition. Joseph has been working for IBM since he completed his PhD.\n"
   ]
  },
  {
   "cell_type": "markdown",
   "metadata": {},
   "source": [
    "## Change Log\n"
   ]
  },
  {
   "cell_type": "markdown",
   "metadata": {},
   "source": [
    "|Date (YYYY-MM-DD)|Version|Changed By|Change Description|\n",
    "|-|-|-|-|\n",
    "|2020-09-20|1.1|Joseph|get result each time you run|\n",
    "|2020-09-20|1.1|Azim |Created Part 1 Lab using SpaceX API|\n",
    "|2020-09-20|1.0|Joseph |Modified Multiple Areas|\n"
   ]
  },
  {
   "cell_type": "markdown",
   "metadata": {},
   "source": [
    "Copyright © 2021 IBM Corporation. All rights reserved.\n"
   ]
  }
 ],
 "metadata": {
  "kernelspec": {
   "display_name": "Python 3.8",
   "language": "python",
   "name": "python3"
  },
  "language_info": {
   "codemirror_mode": {
    "name": "ipython",
    "version": 3
   },
   "file_extension": ".py",
   "mimetype": "text/x-python",
   "name": "python",
   "nbconvert_exporter": "python",
   "pygments_lexer": "ipython3",
   "version": "3.8.10"
  }
 },
 "nbformat": 4,
 "nbformat_minor": 4
}
